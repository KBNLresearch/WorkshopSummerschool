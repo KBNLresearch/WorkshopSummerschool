{
 "cells": [
  {
   "cell_type": "markdown",
   "id": "8d473958",
   "metadata": {},
   "source": [
    "# Natural Language Processing"
   ]
  },
  {
   "cell_type": "markdown",
   "id": "c5e5ff73",
   "metadata": {},
   "source": [
    "Start met laden van de packages en onze zojuist gemaakte dataset"
   ]
  },
  {
   "cell_type": "code",
   "execution_count": null,
   "id": "f026db38",
   "metadata": {},
   "outputs": [],
   "source": [
    "import pandas as pd"
   ]
  },
  {
   "cell_type": "code",
   "execution_count": null,
   "id": "452108fd",
   "metadata": {},
   "outputs": [],
   "source": [
    "data = pd.read_csv('data/fiets.csv', index_col =0)"
   ]
  },
  {
   "cell_type": "code",
   "execution_count": null,
   "id": "106225fb",
   "metadata": {},
   "outputs": [],
   "source": [
    "data.head(2)"
   ]
  },
  {
   "cell_type": "code",
   "execution_count": null,
   "id": "4dd6add8",
   "metadata": {},
   "outputs": [],
   "source": [
    "len(data)"
   ]
  },
  {
   "cell_type": "markdown",
   "id": "33ef5f99",
   "metadata": {},
   "source": [
    "## Count word frequencies"
   ]
  },
  {
   "cell_type": "markdown",
   "id": "82527921",
   "metadata": {},
   "source": [
    "Als eerste, meeste simpele stap van tekst analyse, kunnen we kijken naar de meest voorkomende woorden in de artikelen. Onderstaande functie is geschreven om dit te doen. Maar als eerste stap moeten we de artikelen van de kolom 'content' omzetten naar een lijst met woorden per artikel. "
   ]
  },
  {
   "cell_type": "code",
   "execution_count": null,
   "id": "bcd2e807",
   "metadata": {},
   "outputs": [],
   "source": [
    "data['content list'] = data.content.apply(lambda x: x.lower().split())"
   ]
  },
  {
   "cell_type": "code",
   "execution_count": null,
   "id": "d1681788",
   "metadata": {},
   "outputs": [],
   "source": [
    "def word_counter(dataframe_column):\n",
    "    full_list = []\n",
    "    for elemnt in dataframe_column:\n",
    "        full_list += elemnt\n",
    "    \n",
    "    values_count = pd.Series(full_list).value_counts()\n",
    "    return values_count"
   ]
  },
  {
   "cell_type": "markdown",
   "id": "d0f353d3",
   "metadata": {},
   "source": [
    "We kunnen de functie uitproberen:"
   ]
  },
  {
   "cell_type": "code",
   "execution_count": null,
   "id": "d37e36f7",
   "metadata": {},
   "outputs": [],
   "source": [
    "word_counter(data['content list'])"
   ]
  },
  {
   "cell_type": "markdown",
   "id": "2bef88c8",
   "metadata": {},
   "source": [
    "Zoals je ziet zijn de eerste woorden allemaal woorden die inhoudelijk niet veel zeggen over de artikelen. Deze woorden, die veel voorkomen in onze taal maar inhoudelijk weinig zinnigs zeggen, noemen we stopwoorden. We kunnen een stopwoordenlijst gebruiken om deze woorden weg te filteren. "
   ]
  },
  {
   "cell_type": "code",
   "execution_count": null,
   "id": "ead0e102",
   "metadata": {},
   "outputs": [],
   "source": [
    "with open('data/stopwords-nl.txt', 'r') as f:\n",
    "    stopwords = f.read().split(\"\\n\")"
   ]
  },
  {
   "cell_type": "code",
   "execution_count": null,
   "id": "6e74fbef",
   "metadata": {},
   "outputs": [],
   "source": [
    "## Don't alter\n",
    "def word_counter_stopword(dataframe_column):\n",
    "    full_list = []\n",
    "    for elemnt in dataframe_column:\n",
    "        full_list += elemnt\n",
    "        \n",
    "    full_list = [i for i in full_list if i not in stopwords]\n",
    "    \n",
    "    values_count = pd.Series(full_list).value_counts()\n",
    "    return values_count"
   ]
  },
  {
   "cell_type": "code",
   "execution_count": null,
   "id": "948169e6",
   "metadata": {},
   "outputs": [],
   "source": [
    "word_counter_stopword(data['content list'])"
   ]
  },
  {
   "cell_type": "code",
   "execution_count": null,
   "id": "9033e989",
   "metadata": {},
   "outputs": [],
   "source": [
    "word_counter_stopword(data['content list']).head(10)"
   ]
  },
  {
   "cell_type": "markdown",
   "id": "6e8b77af",
   "metadata": {},
   "source": [
    "# Spacy"
   ]
  },
  {
   "cell_type": "markdown",
   "id": "c9fd0aa6",
   "metadata": {},
   "source": [
    "Naast een naieve worcount, zijn er ook andere opties mogelijk. Voor het vervolg van deze workshop gaan we gebruik maken van de Spacy package, die gebruikt wordt voor Natural language processing. \n"
   ]
  },
  {
   "cell_type": "code",
   "execution_count": null,
   "id": "d7aebeb9",
   "metadata": {},
   "outputs": [],
   "source": [
    "import spacy\n",
    "from spacy import displacy\n",
    "from collections import Counter\n",
    "import pickl"
   ]
  },
  {
   "cell_type": "code",
   "execution_count": null,
   "id": "12ccc168",
   "metadata": {},
   "outputs": [],
   "source": [
    "##nlp = spacy.load(\"nl_core_news_sm\")"
   ]
  },
  {
   "cell_type": "code",
   "execution_count": null,
   "id": "24e844b8",
   "metadata": {},
   "outputs": [],
   "source": [
    "##data = data.dropna(subset=['content'])"
   ]
  },
  {
   "cell_type": "code",
   "execution_count": null,
   "id": "4b16c34f",
   "metadata": {},
   "outputs": [],
   "source": [
    "#def process_text(text):\n",
    " #   return nlp(text)\n",
    "\n",
    "#def flatten(xss):\n",
    " #   return [x for xs in xss for x in xs]"
   ]
  },
  {
   "cell_type": "code",
   "execution_count": null,
   "id": "1548a05b",
   "metadata": {},
   "outputs": [],
   "source": [
    "## deze code als comment omdat het lang duurt om te draaien\n",
    "#data[\"doc\"] = data[\"content\"].apply(process_text)"
   ]
  },
  {
   "cell_type": "code",
   "execution_count": null,
   "id": "d2c49b84",
   "metadata": {},
   "outputs": [],
   "source": [
    "## Deze code ook als comment om te laten zien hoe je het model kan opslaan\n",
    "##import pickle\n",
    "\n",
    "#with open('data/fiets_nlp.pkl', 'wb') as f:\n",
    " #   pickle.dump(data, f)"
   ]
  },
  {
   "cell_type": "code",
   "execution_count": null,
   "id": "7c325883",
   "metadata": {},
   "outputs": [],
   "source": [
    "with open('data/fiets_nlp.pkl', 'rb') as f:\n",
    "    fiets_nlp = pickle.load(f)"
   ]
  },
  {
   "cell_type": "code",
   "execution_count": null,
   "id": "9944f879",
   "metadata": {},
   "outputs": [],
   "source": [
    "fiets_nlp.head(2)"
   ]
  },
  {
   "cell_type": "markdown",
   "id": "3382f577",
   "metadata": {},
   "source": [
    "# Named Entity Recognition"
   ]
  },
  {
   "cell_type": "markdown",
   "id": "49bde250",
   "metadata": {},
   "source": [
    "Spacy slaat informatie over de gevonden named entities op in het doc item. Deze informatie staat opgeslagen in de kolom 'doc' en kan daar ook uitgehaald worden.\n",
    "\n",
    "Spacy kent de volgende Named entities:"
   ]
  },
  {
   "cell_type": "markdown",
   "id": "2f5afebe",
   "metadata": {},
   "source": [
    "* PERSON:      People, including fictional.\n",
    "* NORP:        Nationalities or religious or political groups.\n",
    "* FAC:         Buildings, airports, highways, bridges, etc.\n",
    "* ORG:         Companies, agencies, institutions, etc.\n",
    "* GPE:         Countries, cities, states.\n",
    "* LOC:         Non-GPE locations, mountain ranges, bodies of water.\n",
    "* PRODUCT:     Objects, vehicles, foods, etc. (Not services.)\n",
    "* EVENT:       Named hurricanes, battles, wars, sports events, etc.\n",
    "* WORK_OF_ART: Titles of books, songs, etc.\n",
    "* LAW:         Named documents made into laws.\n",
    "* LANGUAGE:    Any named language.\n",
    "* DATE:        Absolute or relative dates or periods.\n",
    "* TIME:        Times smaller than a day.\n",
    "* PERCENT:     Percentage, including ”%“.\n",
    "* MONEY:       Monetary values, including unit.\n",
    "* QUANTITY:    Measurements, as of weight or distance.\n",
    "* ORDINAL:     “first”, “second”, etc.\n",
    "* CARDINAL:    Numerals that do not fall under another type."
   ]
  },
  {
   "cell_type": "markdown",
   "id": "cc94325f",
   "metadata": {},
   "source": [
    "Je kan ook de spacy module vragen voor uitleg over een bepaalde Named Entity:"
   ]
  },
  {
   "cell_type": "code",
   "execution_count": null,
   "id": "2d1df4bd",
   "metadata": {},
   "outputs": [],
   "source": [
    "spacy.explain('GPE')"
   ]
  },
  {
   "cell_type": "markdown",
   "id": "f94caf40",
   "metadata": {},
   "source": [
    "Je kan per artikel de gevonden Named Entities tonen. Deze worden dan met verschillende kleuren weergegeven. "
   ]
  },
  {
   "cell_type": "code",
   "execution_count": null,
   "id": "90c99289",
   "metadata": {},
   "outputs": [],
   "source": [
    "doc = fiets_nlp['doc'].to_list()[2]"
   ]
  },
  {
   "cell_type": "code",
   "execution_count": null,
   "id": "80e01b09",
   "metadata": {},
   "outputs": [],
   "source": [
    "displacy.render(doc, style = \"ent\")"
   ]
  },
  {
   "cell_type": "code",
   "execution_count": null,
   "id": "b5f35e96",
   "metadata": {},
   "outputs": [],
   "source": [
    "## Zelf doen: Bekijk een random andere regel"
   ]
  },
  {
   "cell_type": "markdown",
   "id": "1b56712d",
   "metadata": {},
   "source": [
    "Naast de named entities op deze manier tonen, kun je er ook verdere analyses mee doen. Je kan ze bijvoorbeeld per category opslaan als losse kolommen in je dataframe"
   ]
  },
  {
   "cell_type": "markdown",
   "id": "baa4fe58",
   "metadata": {},
   "source": [
    "Hieronder staat een functie waarmee je Named entities van een bepaalde soort uit het doc item kan halen. Deze worden vervolgens als een lijst opgeslagen in een nieuwe kolom in het dataframe. "
   ]
  },
  {
   "cell_type": "code",
   "execution_count": null,
   "id": "b47426ac",
   "metadata": {},
   "outputs": [],
   "source": [
    "def get_ner(doc, entity):\n",
    "    return [ent.text for ent in doc.ents if ent.label_ == entity]"
   ]
  },
  {
   "cell_type": "markdown",
   "id": "36e9713b",
   "metadata": {},
   "source": [
    "Vervolgens kun je deze functie gebruiken op je dataframe. \n",
    "Deze functie heeft als input de doc item van het dataframe, en de gekozen named entity.\n",
    "\n",
    "In onderstaande voorbeeld wordt de categroy GPE eruit gehaald. "
   ]
  },
  {
   "cell_type": "code",
   "execution_count": null,
   "id": "2e05974f",
   "metadata": {},
   "outputs": [],
   "source": [
    "fiets_nlp['GPE'] = fiets_nlp['doc'].apply(lambda x: get_ner(x, 'GPE'))"
   ]
  },
  {
   "cell_type": "markdown",
   "id": "cef8df4a",
   "metadata": {},
   "source": [
    "Vervolgens kun je deze kolom weer gebruiken om de meest voorkomende GPE eruit te halen. "
   ]
  },
  {
   "cell_type": "code",
   "execution_count": null,
   "id": "8cf0798f",
   "metadata": {},
   "outputs": [],
   "source": [
    "word_counter(fiets_nlp['GPE']).head(10)"
   ]
  },
  {
   "cell_type": "code",
   "execution_count": null,
   "id": "ece31fbd",
   "metadata": {},
   "outputs": [],
   "source": [
    "## Zelf doen: nieuwe kolom named entity\n",
    "## Gebruik de volgende code: fiets_nlp['naam nieuwe kolom'] = fiets_nlp['doc'].apply(lambda x: get_ner(x, 'naam entity'))\n",
    "## "
   ]
  },
  {
   "cell_type": "code",
   "execution_count": null,
   "id": "d77f36d3",
   "metadata": {},
   "outputs": [],
   "source": [
    "## Word counter: word_counter(fiets_nlp['nieuwe kolom']).head(10)"
   ]
  },
  {
   "cell_type": "code",
   "execution_count": null,
   "id": "5569c6ff",
   "metadata": {},
   "outputs": [],
   "source": [
    "## Extra opgave: kies nog een aantal entities uit en bekijk de top 10. Kan je ook de top 5 of top 25 maken?"
   ]
  }
 ],
 "metadata": {
  "kernelspec": {
   "display_name": "Python 3 (ipykernel)",
   "language": "python",
   "name": "python3"
  },
  "language_info": {
   "codemirror_mode": {
    "name": "ipython",
    "version": 3
   },
   "file_extension": ".py",
   "mimetype": "text/x-python",
   "name": "python",
   "nbconvert_exporter": "python",
   "pygments_lexer": "ipython3",
   "version": "3.9.12"
  }
 },
 "nbformat": 4,
 "nbformat_minor": 5
}
