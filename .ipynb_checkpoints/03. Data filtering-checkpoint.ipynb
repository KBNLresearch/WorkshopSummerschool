{
 "cells": [
  {
   "cell_type": "markdown",
   "id": "6ee1a656",
   "metadata": {},
   "source": [
    "# Data filtering"
   ]
  },
  {
   "cell_type": "markdown",
   "id": "957d921f",
   "metadata": {},
   "source": [
    "In dit Notebook wordt getoond hoe je een selectie kan maken maken voor verder onderzoek. \n",
    "\n",
    "Gezien de beperkte grootte van Binder qua opslagruimte, richten we ons op een vergelijking tussen artikelen over fietsen in regionale en landelijke dagbladen. \n",
    "\n",
    "De eerst stap is het importeren van de pandas package:"
   ]
  },
  {
   "cell_type": "code",
   "execution_count": 3,
   "id": "530a5ec2",
   "metadata": {},
   "outputs": [],
   "source": [
    "import pandas as pd"
   ]
  },
  {
   "cell_type": "markdown",
   "id": "ce270078",
   "metadata": {},
   "source": [
    "Daarna laden we het dataframe"
   ]
  },
  {
   "cell_type": "code",
   "execution_count": 4,
   "id": "ac5dd457",
   "metadata": {},
   "outputs": [],
   "source": [
    "data = pd.read_csv('data/data.csv', index_col = 0)"
   ]
  },
  {
   "cell_type": "markdown",
   "id": "55d5f202",
   "metadata": {},
   "source": [
    "En we kijken of alles goed is gegaan:"
   ]
  },
  {
   "cell_type": "code",
   "execution_count": 16,
   "id": "88ffb78f",
   "metadata": {},
   "outputs": [
    {
     "data": {
      "text/html": [
       "<div>\n",
       "<style scoped>\n",
       "    .dataframe tbody tr th:only-of-type {\n",
       "        vertical-align: middle;\n",
       "    }\n",
       "\n",
       "    .dataframe tbody tr th {\n",
       "        vertical-align: top;\n",
       "    }\n",
       "\n",
       "    .dataframe thead th {\n",
       "        text-align: right;\n",
       "    }\n",
       "</style>\n",
       "<table border=\"1\" class=\"dataframe\">\n",
       "  <thead>\n",
       "    <tr style=\"text-align: right;\">\n",
       "      <th></th>\n",
       "      <th>identifier</th>\n",
       "      <th>type</th>\n",
       "      <th>title</th>\n",
       "      <th>date</th>\n",
       "      <th>content</th>\n",
       "      <th>subcategory</th>\n",
       "      <th>category</th>\n",
       "      <th>Year</th>\n",
       "      <th>DL score</th>\n",
       "      <th>spatial</th>\n",
       "    </tr>\n",
       "  </thead>\n",
       "  <tbody>\n",
       "    <tr>\n",
       "      <th>24</th>\n",
       "      <td>http://resolver.kb.nl/resolve?urn=ddd:01106750...</td>\n",
       "      <td>artikel</td>\n",
       "      <td>Bij de aanstaande winterdienstregeling</td>\n",
       "      <td>1880/09/15 00:00:00</td>\n",
       "      <td>Bij de aanstaande winterdienstregeling op de S...</td>\n",
       "      <td>trein</td>\n",
       "      <td>trein</td>\n",
       "      <td>1880</td>\n",
       "      <td>72.188139</td>\n",
       "      <td>Landelijk</td>\n",
       "    </tr>\n",
       "    <tr>\n",
       "      <th>25</th>\n",
       "      <td>http://resolver.kb.nl/resolve?urn=MMKB23:00142...</td>\n",
       "      <td>advertentie</td>\n",
       "      <td>Advertentie</td>\n",
       "      <td>1883/06/23 00:00:00</td>\n",
       "      <td>W.H.C.DEBOCK, Piet Heinstraat, 43. (6108) BADG...</td>\n",
       "      <td>trein</td>\n",
       "      <td>trein</td>\n",
       "      <td>1883</td>\n",
       "      <td>45.115453</td>\n",
       "      <td>Landelijk</td>\n",
       "    </tr>\n",
       "  </tbody>\n",
       "</table>\n",
       "</div>"
      ],
      "text/plain": [
       "                                           identifier         type  \\\n",
       "24  http://resolver.kb.nl/resolve?urn=ddd:01106750...      artikel   \n",
       "25  http://resolver.kb.nl/resolve?urn=MMKB23:00142...  advertentie   \n",
       "\n",
       "                                     title                 date  \\\n",
       "24  Bij de aanstaande winterdienstregeling  1880/09/15 00:00:00   \n",
       "25                             Advertentie  1883/06/23 00:00:00   \n",
       "\n",
       "                                              content subcategory category  \\\n",
       "24  Bij de aanstaande winterdienstregeling op de S...       trein    trein   \n",
       "25  W.H.C.DEBOCK, Piet Heinstraat, 43. (6108) BADG...       trein    trein   \n",
       "\n",
       "    Year   DL score    spatial  \n",
       "24  1880  72.188139  Landelijk  \n",
       "25  1883  45.115453  Landelijk  "
      ]
     },
     "execution_count": 16,
     "metadata": {},
     "output_type": "execute_result"
    }
   ],
   "source": [
    "data.head(2)"
   ]
  },
  {
   "cell_type": "markdown",
   "id": "d17f7b4c",
   "metadata": {},
   "source": [
    "Als eerste maken we een nieuw dataframe aan, genaamd `fiets_df`.\n",
    "\n",
    "In de eerste stap filteren we op basis van de kolom `category` alleen de rijen `fiets` eruit. "
   ]
  },
  {
   "cell_type": "code",
   "execution_count": 11,
   "id": "27a278d8",
   "metadata": {},
   "outputs": [],
   "source": [
    "fiets_df = data[data['category'] == 'fiets']"
   ]
  },
  {
   "cell_type": "markdown",
   "id": "d6721a9c",
   "metadata": {},
   "source": [
    "Tijdens de data exploratie zagen we dat de transcripties voor de familieberichten en de advertenties gemiddeld genomen erg slecht was. We willen daarom alleen maar de artikelen overhouden. \n",
    "\n",
    "Ook hiervoor maken we een filter.\n",
    "\n",
    "**Let op!** Dit nieuwe filteren passen we toe op het zojuist gemaakte dataframe `fiets_df`"
   ]
  },
  {
   "cell_type": "code",
   "execution_count": 12,
   "id": "5d878c71",
   "metadata": {},
   "outputs": [],
   "source": [
    "fiets_df = fiets_df[fiets_df['type'] == 'artikel']"
   ]
  },
  {
   "cell_type": "code",
   "execution_count": 13,
   "id": "ada2c199",
   "metadata": {},
   "outputs": [
    {
     "data": {
      "text/plain": [
       "402"
      ]
     },
     "execution_count": 13,
     "metadata": {},
     "output_type": "execute_result"
    }
   ],
   "source": [
    "len(fiets_df)"
   ]
  },
  {
   "cell_type": "markdown",
   "id": "1afc6dbd",
   "metadata": {},
   "source": [
    "Aangezien we in het volgende dataframe tekstuele analyses willen doen, willen we niet dat de kwaliteit van de tekst te slecht is. Daarom filteren we alle artikelen eruit met een DL score lager dan 70%. "
   ]
  },
  {
   "cell_type": "code",
   "execution_count": 17,
   "id": "2cc177d5",
   "metadata": {},
   "outputs": [],
   "source": [
    "fiets_df = fiets_df[fiets_df['DL score'] >=70]"
   ]
  },
  {
   "cell_type": "markdown",
   "id": "192d4560",
   "metadata": {},
   "source": [
    "En we slaan deze set op voor verder gebruik"
   ]
  },
  {
   "cell_type": "code",
   "execution_count": 18,
   "id": "c974425b",
   "metadata": {},
   "outputs": [],
   "source": [
    "fiets_df.to_csv('data/fiets.csv')"
   ]
  }
 ],
 "metadata": {
  "kernelspec": {
   "display_name": "Python 3 (ipykernel)",
   "language": "python",
   "name": "python3"
  },
  "language_info": {
   "codemirror_mode": {
    "name": "ipython",
    "version": 3
   },
   "file_extension": ".py",
   "mimetype": "text/x-python",
   "name": "python",
   "nbconvert_exporter": "python",
   "pygments_lexer": "ipython3",
   "version": "3.9.12"
  }
 },
 "nbformat": 4,
 "nbformat_minor": 5
}
