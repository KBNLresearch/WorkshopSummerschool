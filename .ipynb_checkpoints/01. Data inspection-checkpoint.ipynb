{
 "cells": [
  {
   "cell_type": "markdown",
   "id": "df12894b",
   "metadata": {},
   "source": [
    "# Data inspectie"
   ]
  },
  {
   "cell_type": "markdown",
   "id": "7c3701cd",
   "metadata": {},
   "source": [
    "Als eerste stap importeren we de pandas packages, die we gebruiken om onze data te laden en te inspecteren. "
   ]
  },
  {
   "cell_type": "code",
   "execution_count": 2,
   "id": "297def46",
   "metadata": {},
   "outputs": [],
   "source": [
    "import pandas as pd"
   ]
  },
  {
   "cell_type": "markdown",
   "id": "118c41a5",
   "metadata": {},
   "source": [
    "Hierna gebruiken we de pandas functie `read_csv` on ons databestand in te laden. Dit ingeladen bestand noemen we een `ddataframe`. "
   ]
  },
  {
   "cell_type": "code",
   "execution_count": 3,
   "id": "c10908d3",
   "metadata": {},
   "outputs": [],
   "source": [
    "data = pd.read_csv('data/data.csv', index_col = 0)"
   ]
  },
  {
   "cell_type": "markdown",
   "id": "2c325e8d",
   "metadata": {},
   "source": [
    "Om te kijken of de data goed is ingeladen, gebruiken we de `head()` functie. In onderstaande functie geeft de `4` aan dat we de eerste vier rijen willen bekijken. "
   ]
  },
  {
   "cell_type": "code",
   "execution_count": 4,
   "id": "036e21b4",
   "metadata": {},
   "outputs": [
    {
     "data": {
      "text/html": [
       "<div>\n",
       "<style scoped>\n",
       "    .dataframe tbody tr th:only-of-type {\n",
       "        vertical-align: middle;\n",
       "    }\n",
       "\n",
       "    .dataframe tbody tr th {\n",
       "        vertical-align: top;\n",
       "    }\n",
       "\n",
       "    .dataframe thead th {\n",
       "        text-align: right;\n",
       "    }\n",
       "</style>\n",
       "<table border=\"1\" class=\"dataframe\">\n",
       "  <thead>\n",
       "    <tr style=\"text-align: right;\">\n",
       "      <th></th>\n",
       "      <th>identifier</th>\n",
       "      <th>type</th>\n",
       "      <th>title</th>\n",
       "      <th>date</th>\n",
       "      <th>content</th>\n",
       "      <th>subcategory</th>\n",
       "      <th>category</th>\n",
       "      <th>Year</th>\n",
       "      <th>DL score</th>\n",
       "      <th>spatial</th>\n",
       "    </tr>\n",
       "  </thead>\n",
       "  <tbody>\n",
       "    <tr>\n",
       "      <th>24</th>\n",
       "      <td>http://resolver.kb.nl/resolve?urn=ddd:01106750...</td>\n",
       "      <td>artikel</td>\n",
       "      <td>Bij de aanstaande winterdienstregeling</td>\n",
       "      <td>1880/09/15 00:00:00</td>\n",
       "      <td>Bij de aanstaande winterdienstregeling op de S...</td>\n",
       "      <td>trein</td>\n",
       "      <td>trein</td>\n",
       "      <td>1880</td>\n",
       "      <td>72.188139</td>\n",
       "      <td>Landelijk</td>\n",
       "    </tr>\n",
       "    <tr>\n",
       "      <th>25</th>\n",
       "      <td>http://resolver.kb.nl/resolve?urn=MMKB23:00142...</td>\n",
       "      <td>advertentie</td>\n",
       "      <td>Advertentie</td>\n",
       "      <td>1883/06/23 00:00:00</td>\n",
       "      <td>W.H.C.DEBOCK, Piet Heinstraat, 43. (6108) BADG...</td>\n",
       "      <td>trein</td>\n",
       "      <td>trein</td>\n",
       "      <td>1883</td>\n",
       "      <td>45.115453</td>\n",
       "      <td>Landelijk</td>\n",
       "    </tr>\n",
       "    <tr>\n",
       "      <th>52</th>\n",
       "      <td>http://resolver.kb.nl/resolve?urn=ddd:01106783...</td>\n",
       "      <td>artikel</td>\n",
       "      <td>In ons artikel: „Waar schuilt het euvel?”</td>\n",
       "      <td>1881/10/25 00:00:00</td>\n",
       "      <td>In ons artikel: „Waar schuilt het euvel?” (13 ...</td>\n",
       "      <td>trein</td>\n",
       "      <td>trein</td>\n",
       "      <td>1881</td>\n",
       "      <td>74.074074</td>\n",
       "      <td>Landelijk</td>\n",
       "    </tr>\n",
       "    <tr>\n",
       "      <th>66</th>\n",
       "      <td>http://resolver.kb.nl/resolve?urn=ddd:01028294...</td>\n",
       "      <td>artikel</td>\n",
       "      <td>BUITENLAND. (Vervolg.) Het Ongeluk der Tay-Bri...</td>\n",
       "      <td>1880/01/05 00:00:00</td>\n",
       "      <td>Woensdag zijn de\" voortgezette operatie» der d...</td>\n",
       "      <td>trein</td>\n",
       "      <td>trein</td>\n",
       "      <td>1880</td>\n",
       "      <td>70.454545</td>\n",
       "      <td>Landelijk</td>\n",
       "    </tr>\n",
       "  </tbody>\n",
       "</table>\n",
       "</div>"
      ],
      "text/plain": [
       "                                           identifier         type  \\\n",
       "24  http://resolver.kb.nl/resolve?urn=ddd:01106750...      artikel   \n",
       "25  http://resolver.kb.nl/resolve?urn=MMKB23:00142...  advertentie   \n",
       "52  http://resolver.kb.nl/resolve?urn=ddd:01106783...      artikel   \n",
       "66  http://resolver.kb.nl/resolve?urn=ddd:01028294...      artikel   \n",
       "\n",
       "                                                title                 date  \\\n",
       "24             Bij de aanstaande winterdienstregeling  1880/09/15 00:00:00   \n",
       "25                                        Advertentie  1883/06/23 00:00:00   \n",
       "52          In ons artikel: „Waar schuilt het euvel?”  1881/10/25 00:00:00   \n",
       "66  BUITENLAND. (Vervolg.) Het Ongeluk der Tay-Bri...  1880/01/05 00:00:00   \n",
       "\n",
       "                                              content subcategory category  \\\n",
       "24  Bij de aanstaande winterdienstregeling op de S...       trein    trein   \n",
       "25  W.H.C.DEBOCK, Piet Heinstraat, 43. (6108) BADG...       trein    trein   \n",
       "52  In ons artikel: „Waar schuilt het euvel?” (13 ...       trein    trein   \n",
       "66  Woensdag zijn de\" voortgezette operatie» der d...       trein    trein   \n",
       "\n",
       "    Year   DL score    spatial  \n",
       "24  1880  72.188139  Landelijk  \n",
       "25  1883  45.115453  Landelijk  \n",
       "52  1881  74.074074  Landelijk  \n",
       "66  1880  70.454545  Landelijk  "
      ]
     },
     "execution_count": 4,
     "metadata": {},
     "output_type": "execute_result"
    }
   ],
   "source": [
    "data.head(4)"
   ]
  },
  {
   "cell_type": "markdown",
   "id": "0f62ae99",
   "metadata": {},
   "source": [
    "## Ontdubbelen van de data"
   ]
  },
  {
   "cell_type": "markdown",
   "id": "28c9443c",
   "metadata": {},
   "source": [
    "Een goede gewoonte, is om als eerste stap altijd te controleren of er niet per ongeluk dubbelingen in de dataset zijn beland. Het wil wel eens gebeuren dat bij het verzamelen van de data er per ongeluk dingen dubbel in de dataset belanden, bijvoorbeeld als op verschillende momenten er data is verzameld en dit later gecombineerd wordt. \n",
    "\n",
    "In onze eerste check kijken we of er niet per ongeluk dubbele rijen in onze dataset zijn beland. Een dubbele rij houdt in dat er twee rijen zijn waarvan elke waarde in elke cel indentiek is. Pandas heeft een handige functie `drop_duplicates` die je kan gebruiken om je dataset te ontdubbelen. Je kan deze functie gebruiken om zowel rijen die compleet identiek zijn te verwijderen, of om rijen te verwijderen waarvan enkel één of meerdere kolommen dubbelingen bevatten. \n",
    "\n",
    "Met onderstaande functie verwijderen we de rijen die in zijn geheel dubbel voorkomen. \n",
    "Maar omdat we ook willen weten of er überhaupt dubbelen in de dataset zaten, tellen we eerst het aantal rijen in ons dataframe met de `len()` functie. \n"
   ]
  },
  {
   "cell_type": "code",
   "execution_count": 5,
   "id": "780e6c2d",
   "metadata": {},
   "outputs": [
    {
     "data": {
      "text/plain": [
       "21961"
      ]
     },
     "execution_count": 5,
     "metadata": {},
     "output_type": "execute_result"
    }
   ],
   "source": [
    "len(data)"
   ]
  },
  {
   "cell_type": "markdown",
   "id": "c2f3527e",
   "metadata": {},
   "source": [
    "Hierna roepen we de `drop_duplicates()` functie aan, en vervangen ons huidige dataframe voor de variant zonder duplicaten. "
   ]
  },
  {
   "cell_type": "code",
   "execution_count": 6,
   "id": "f5528081",
   "metadata": {},
   "outputs": [],
   "source": [
    "data = data.drop_duplicates()"
   ]
  },
  {
   "cell_type": "markdown",
   "id": "851c2314",
   "metadata": {},
   "source": [
    "Indien er dubbelen voorkwamen, zijn deze nu verwijderd uit ons dataframe. We kunnen nu dus weer de lengte printen om zo te kijken of er inderdaad dubbele rijen in zaten. "
   ]
  },
  {
   "cell_type": "code",
   "execution_count": 7,
   "id": "5a698719",
   "metadata": {},
   "outputs": [
    {
     "data": {
      "text/plain": [
       "21942"
      ]
     },
     "execution_count": 7,
     "metadata": {},
     "output_type": "execute_result"
    }
   ],
   "source": [
    "len(data)"
   ]
  },
  {
   "cell_type": "markdown",
   "id": "9906e600",
   "metadata": {},
   "source": [
    "Nu we er zeker van zijn dat er geen dubbele rijen meer in ons dataframe zitten, willen we ook graag kijken of we wel echt te maken hebben met alleen unieke artikelen. Het kan bijvoorbeeld voorkomen dat er aan een artikel dubbel voorkomt, met bijvoorbeeld twee keer een andere categorie of subcategorie. \n",
    "\n",
    "Elk artikel heeft zijn eigen identifier. We kunnen dus het aantal unieke identifiers tellen om te zien hoeveel unieke artikelen er in de set zitten. We doen dit door de functie `nunique()` aan te roepen op de functie `identifier`. "
   ]
  },
  {
   "cell_type": "code",
   "execution_count": 8,
   "id": "3e3d291a",
   "metadata": {},
   "outputs": [
    {
     "data": {
      "text/plain": [
       "21942"
      ]
     },
     "execution_count": 8,
     "metadata": {},
     "output_type": "execute_result"
    }
   ],
   "source": [
    "data['identifier'].nunique()"
   ]
  },
  {
   "cell_type": "markdown",
   "id": "26770d15",
   "metadata": {},
   "source": [
    "Zoals je ziet zijn er net zoveel unieke identifiers als rijen in het dataframe. Dit betekent dat elke rij een uniek artikel bevat. "
   ]
  },
  {
   "cell_type": "markdown",
   "id": "8a7cbf4c",
   "metadata": {},
   "source": [
    "## Inspecteren van de kolominhoud"
   ]
  },
  {
   "cell_type": "markdown",
   "id": "48f3a86e",
   "metadata": {},
   "source": [
    "Nadat de dataset is ontdubbelt op de gewenste manieren, willen we een globale check doen op de inhoud van de kolommen. Hierbij kijken we nog niet in detail naar de inhoud, maar kijken we vooral of er geen onverwachtste of afwijkende waardes voorkomen. Indien er wel afwijkende waardes voorkomen, moet er een beslissing worden gemaakt over hoe hiermee om te gaan. Wat hiervoor de beste aanpak is verschilt per situatie. "
   ]
  },
  {
   "cell_type": "markdown",
   "id": "9df09134",
   "metadata": {},
   "source": [
    "### Categoriale waardes"
   ]
  },
  {
   "cell_type": "markdown",
   "id": "6d3b3c34",
   "metadata": {},
   "source": [
    "We beginnen met een inspectie van de kolommen met categoriale waardes. Hierbij kan het bijvoorbeeld voorkomen dat er typfouten gemaakt zijn in de categorieën, of dat er op meerdere manieren naar dezelfde categorie wordt verwezen. \n",
    "\n",
    "We gebruiken hiervoor de functie `unique()`. Deze kijkt net als de functie hierboven naar het aantal unieke waardes. Maar in plaats van ze te tellen, toont hij welke waardes er in de kolom voorkomen. "
   ]
  },
  {
   "cell_type": "code",
   "execution_count": 9,
   "id": "d8a06260",
   "metadata": {},
   "outputs": [
    {
     "data": {
      "text/plain": [
       "array(['artikel', 'advertentie', 'familiebericht'], dtype=object)"
      ]
     },
     "execution_count": 9,
     "metadata": {},
     "output_type": "execute_result"
    }
   ],
   "source": [
    "data['type'].unique()"
   ]
  },
  {
   "cell_type": "markdown",
   "id": "5aa87c08",
   "metadata": {},
   "source": [
    "Bekijk nu zelf welke waardes er voorkomen in de kolommen `subcategory`, `category` en `spatial`"
   ]
  },
  {
   "cell_type": "code",
   "execution_count": null,
   "id": "e86e5531",
   "metadata": {},
   "outputs": [],
   "source": [
    "## Code for subcategory"
   ]
  },
  {
   "cell_type": "code",
   "execution_count": null,
   "id": "7cb9f818",
   "metadata": {},
   "outputs": [],
   "source": [
    "## Code for category"
   ]
  },
  {
   "cell_type": "code",
   "execution_count": null,
   "id": "82f2e535",
   "metadata": {},
   "outputs": [],
   "source": [
    "## Code for spatial"
   ]
  },
  {
   "cell_type": "markdown",
   "id": "d0da80e7",
   "metadata": {},
   "source": [
    "Zoals je ziet komt er in de kolom `subcategory` zowel het woord `locomotief` als `lokomotief` voor. Er kan besloten worden dit zo te laten, of om dit aan te passen naar één van de twee varianten. In dit geval kiezen we ervoor het zo te laten, aangezien deze woorden gebruikt waren als zoekquery. "
   ]
  },
  {
   "cell_type": "markdown",
   "id": "1cb9ad48",
   "metadata": {},
   "source": [
    "## Numerieke waardes"
   ]
  },
  {
   "cell_type": "markdown",
   "id": "6cc1a1a3",
   "metadata": {},
   "source": [
    "Naast categoriale waares zijn er ook kolommen met numerieke waardes, zoals `date`. Deze wil je niet printen met de functie `unique`, omdat je dan een onoverzichtelijk overzicht krijgt met vele waardes. \n",
    "\n",
    "Om te kijken of de inhoud van numerieke kolommen overeen komt met de verwachting, wordt vaak naar de laagste en hoogste waarde gekeken. \n",
    "\n",
    "Dit kun je doen met de `min()` en `max()` functies."
   ]
  },
  {
   "cell_type": "code",
   "execution_count": null,
   "id": "5cdbddb6",
   "metadata": {},
   "outputs": [],
   "source": [
    "data['date'].min()"
   ]
  },
  {
   "cell_type": "code",
   "execution_count": null,
   "id": "17a99e67",
   "metadata": {},
   "outputs": [],
   "source": [
    "data['date'].max()"
   ]
  },
  {
   "cell_type": "markdown",
   "id": "c503eda7",
   "metadata": {},
   "source": [
    "Bekijk nu zelf de minimale en maximale waardes van de kolom waarin enkel het jaar staat. Komt dit overeen met de minimale en  maximale waardes die je zou verwachten naar aanleiding van de datums?"
   ]
  },
  {
   "cell_type": "code",
   "execution_count": null,
   "id": "e88777b9",
   "metadata": {},
   "outputs": [],
   "source": [
    "## Code voor het minimale jaar"
   ]
  },
  {
   "cell_type": "code",
   "execution_count": 10,
   "id": "c288d135",
   "metadata": {},
   "outputs": [],
   "source": [
    "## Code voor het maximale jaar"
   ]
  },
  {
   "cell_type": "markdown",
   "id": "eb734598",
   "metadata": {},
   "source": [
    "Ook de kolom `DL score` is numeriek. Aangezien dit om een percentage gaat, verwachten we een waarde tussen de 0 en de 100. Bekijk of dit inderdaad het geval is. "
   ]
  },
  {
   "cell_type": "code",
   "execution_count": null,
   "id": "c127323d",
   "metadata": {},
   "outputs": [],
   "source": [
    "## Code voor minimale DL score"
   ]
  },
  {
   "cell_type": "code",
   "execution_count": 11,
   "id": "dc340c0d",
   "metadata": {},
   "outputs": [],
   "source": [
    "## Code voor max DL score"
   ]
  },
  {
   "cell_type": "markdown",
   "id": "d4996a7a",
   "metadata": {},
   "source": [
    "Om te kijken of er geen hele korte of extreem lange artikelen inzitten, kun je de lengte van artikelen uitrekenen en een extra kolom aan je dataframe toevoegen met de lengte per artikel. Vervolgens kun je hier ook de min en max van bekijken. Dit kan je gebruiken om te kijken of je bepaalde artikellengtes wil uitsluiten (bijv. artikelen van 0 woorden of juist 10.000 woorden). \n",
    "\n",
    "Het berekenen van de lengte toen we heel arbitrair door de artikelen te splitsen op spaties. Deze methode is niet 100% correct maar geeft wel een goed globaal beeld. \n",
    "\n",
    "Er zijn meerdere manieren om extra kolommen met berekende waardes toe te voegen aan een dataframe. In deze workshop gebruiken wij voornamelijk de `apply` functie. \n",
    "\n",
    "De code hieronder werkt als volgt:\n",
    "* `data['length'] =` geeft aan dat je een nieuwe kolom wilt maken die `length` heet\n",
    "* `mdata['content'].apply` geeft aan dat je een functie wilt uitvoeren op de inhoud van de kolom `content`. Dit wordt rij per rij gedaan.\n",
    "* `lamnda x:` stopt per rij de inhoud van de kolom `content` in de variabele `x`\n",
    "* `len(x.split())` gebruikt eerst de `split` functie om de inhoud van `x` op te splitsen op basis van spaties. Dit geeft als resultaat een lijst van woorden. Vervolgens wordt de functie `len` gebruikt om het aantal woorden te tellen. \n"
   ]
  },
  {
   "cell_type": "code",
   "execution_count": 12,
   "id": "ce1e96c8",
   "metadata": {},
   "outputs": [],
   "source": [
    "data['length'] = data['content'].apply(lambda x: len(x.split()))"
   ]
  },
  {
   "cell_type": "markdown",
   "id": "8b0ba273",
   "metadata": {},
   "source": [
    "We bekijken de eerste twee regels van ons dataframe om te kijken of er inderdaad een nieuwe kolom is aangemaakt. "
   ]
  },
  {
   "cell_type": "code",
   "execution_count": 13,
   "id": "8392e2db",
   "metadata": {},
   "outputs": [
    {
     "data": {
      "text/html": [
       "<div>\n",
       "<style scoped>\n",
       "    .dataframe tbody tr th:only-of-type {\n",
       "        vertical-align: middle;\n",
       "    }\n",
       "\n",
       "    .dataframe tbody tr th {\n",
       "        vertical-align: top;\n",
       "    }\n",
       "\n",
       "    .dataframe thead th {\n",
       "        text-align: right;\n",
       "    }\n",
       "</style>\n",
       "<table border=\"1\" class=\"dataframe\">\n",
       "  <thead>\n",
       "    <tr style=\"text-align: right;\">\n",
       "      <th></th>\n",
       "      <th>identifier</th>\n",
       "      <th>type</th>\n",
       "      <th>title</th>\n",
       "      <th>date</th>\n",
       "      <th>content</th>\n",
       "      <th>subcategory</th>\n",
       "      <th>category</th>\n",
       "      <th>Year</th>\n",
       "      <th>DL score</th>\n",
       "      <th>spatial</th>\n",
       "      <th>length</th>\n",
       "    </tr>\n",
       "  </thead>\n",
       "  <tbody>\n",
       "    <tr>\n",
       "      <th>24</th>\n",
       "      <td>http://resolver.kb.nl/resolve?urn=ddd:01106750...</td>\n",
       "      <td>artikel</td>\n",
       "      <td>Bij de aanstaande winterdienstregeling</td>\n",
       "      <td>1880/09/15 00:00:00</td>\n",
       "      <td>Bij de aanstaande winterdienstregeling op de S...</td>\n",
       "      <td>trein</td>\n",
       "      <td>trein</td>\n",
       "      <td>1880</td>\n",
       "      <td>72.188139</td>\n",
       "      <td>Landelijk</td>\n",
       "      <td>489</td>\n",
       "    </tr>\n",
       "    <tr>\n",
       "      <th>25</th>\n",
       "      <td>http://resolver.kb.nl/resolve?urn=MMKB23:00142...</td>\n",
       "      <td>advertentie</td>\n",
       "      <td>Advertentie</td>\n",
       "      <td>1883/06/23 00:00:00</td>\n",
       "      <td>W.H.C.DEBOCK, Piet Heinstraat, 43. (6108) BADG...</td>\n",
       "      <td>trein</td>\n",
       "      <td>trein</td>\n",
       "      <td>1883</td>\n",
       "      <td>45.115453</td>\n",
       "      <td>Landelijk</td>\n",
       "      <td>563</td>\n",
       "    </tr>\n",
       "  </tbody>\n",
       "</table>\n",
       "</div>"
      ],
      "text/plain": [
       "                                           identifier         type  \\\n",
       "24  http://resolver.kb.nl/resolve?urn=ddd:01106750...      artikel   \n",
       "25  http://resolver.kb.nl/resolve?urn=MMKB23:00142...  advertentie   \n",
       "\n",
       "                                     title                 date  \\\n",
       "24  Bij de aanstaande winterdienstregeling  1880/09/15 00:00:00   \n",
       "25                             Advertentie  1883/06/23 00:00:00   \n",
       "\n",
       "                                              content subcategory category  \\\n",
       "24  Bij de aanstaande winterdienstregeling op de S...       trein    trein   \n",
       "25  W.H.C.DEBOCK, Piet Heinstraat, 43. (6108) BADG...       trein    trein   \n",
       "\n",
       "    Year   DL score    spatial  length  \n",
       "24  1880  72.188139  Landelijk     489  \n",
       "25  1883  45.115453  Landelijk     563  "
      ]
     },
     "execution_count": 13,
     "metadata": {},
     "output_type": "execute_result"
    }
   ],
   "source": [
    "data.head(2)"
   ]
  },
  {
   "cell_type": "markdown",
   "id": "134daad2",
   "metadata": {},
   "source": [
    "Bekijk nu zelf de minimale en maximale waarde van de kolom `length`."
   ]
  },
  {
   "cell_type": "code",
   "execution_count": null,
   "id": "232e95f8",
   "metadata": {},
   "outputs": [],
   "source": [
    "## Code voor minimale waarde"
   ]
  },
  {
   "cell_type": "code",
   "execution_count": null,
   "id": "6e5f2c54",
   "metadata": {},
   "outputs": [],
   "source": [
    "## Code voor maximale waarde"
   ]
  },
  {
   "cell_type": "markdown",
   "id": "345a5e17",
   "metadata": {},
   "source": [
    "## Lege cellen"
   ]
  },
  {
   "cell_type": "markdown",
   "id": "79667b2a",
   "metadata": {},
   "source": [
    "Als laatste willen we nog weten of er NaN (not a number) of Null waardes in ons dataframe zitten. Deze kunnen namelijk problemen opleveren bij bepaalde functies. \n",
    "\n",
    "We kunnen de `isnull()` functie hiervoor gebruiken, met de functie `any`. Deze functie kijkt voor elke cel in het dataframe of er een lege waarde in zit. "
   ]
  },
  {
   "cell_type": "code",
   "execution_count": 14,
   "id": "15f8e860",
   "metadata": {},
   "outputs": [
    {
     "data": {
      "text/html": [
       "<div>\n",
       "<style scoped>\n",
       "    .dataframe tbody tr th:only-of-type {\n",
       "        vertical-align: middle;\n",
       "    }\n",
       "\n",
       "    .dataframe tbody tr th {\n",
       "        vertical-align: top;\n",
       "    }\n",
       "\n",
       "    .dataframe thead th {\n",
       "        text-align: right;\n",
       "    }\n",
       "</style>\n",
       "<table border=\"1\" class=\"dataframe\">\n",
       "  <thead>\n",
       "    <tr style=\"text-align: right;\">\n",
       "      <th></th>\n",
       "      <th>identifier</th>\n",
       "      <th>type</th>\n",
       "      <th>title</th>\n",
       "      <th>date</th>\n",
       "      <th>content</th>\n",
       "      <th>subcategory</th>\n",
       "      <th>category</th>\n",
       "      <th>Year</th>\n",
       "      <th>DL score</th>\n",
       "      <th>spatial</th>\n",
       "      <th>length</th>\n",
       "    </tr>\n",
       "  </thead>\n",
       "  <tbody>\n",
       "    <tr>\n",
       "      <th>30850</th>\n",
       "      <td>http://resolver.kb.nl/resolve?urn=ddd:01006170...</td>\n",
       "      <td>artikel</td>\n",
       "      <td>NaN</td>\n",
       "      <td>1874/01/15 00:00:00</td>\n",
       "      <td>De Heer L. Hoefman, gezagvoerder van het stoom...</td>\n",
       "      <td>trein</td>\n",
       "      <td>trein</td>\n",
       "      <td>1874</td>\n",
       "      <td>64.586847</td>\n",
       "      <td>Regionaal/lokaal</td>\n",
       "      <td>593</td>\n",
       "    </tr>\n",
       "    <tr>\n",
       "      <th>48475</th>\n",
       "      <td>http://resolver.kb.nl/resolve?urn=ddd:01006082...</td>\n",
       "      <td>artikel</td>\n",
       "      <td>NaN</td>\n",
       "      <td>1873/10/10 00:00:00</td>\n",
       "      <td>Na hetgeen wij gisteren omtrent het feest mede...</td>\n",
       "      <td>trein</td>\n",
       "      <td>trein</td>\n",
       "      <td>1873</td>\n",
       "      <td>72.997033</td>\n",
       "      <td>Regionaal/lokaal</td>\n",
       "      <td>674</td>\n",
       "    </tr>\n",
       "  </tbody>\n",
       "</table>\n",
       "</div>"
      ],
      "text/plain": [
       "                                              identifier     type title  \\\n",
       "30850  http://resolver.kb.nl/resolve?urn=ddd:01006170...  artikel   NaN   \n",
       "48475  http://resolver.kb.nl/resolve?urn=ddd:01006082...  artikel   NaN   \n",
       "\n",
       "                      date                                            content  \\\n",
       "30850  1874/01/15 00:00:00  De Heer L. Hoefman, gezagvoerder van het stoom...   \n",
       "48475  1873/10/10 00:00:00  Na hetgeen wij gisteren omtrent het feest mede...   \n",
       "\n",
       "      subcategory category  Year   DL score           spatial  length  \n",
       "30850       trein    trein  1874  64.586847  Regionaal/lokaal     593  \n",
       "48475       trein    trein  1873  72.997033  Regionaal/lokaal     674  "
      ]
     },
     "execution_count": 14,
     "metadata": {},
     "output_type": "execute_result"
    }
   ],
   "source": [
    "data[data.isnull().any(axis= 1)]"
   ]
  },
  {
   "cell_type": "markdown",
   "id": "faae57b7",
   "metadata": {},
   "source": [
    "Zoals je kunt zien zijn er twee rijen gevonden waarin de kolom `title` geen waarde bevat. We kiezen er voor om deze kolommen te verwijderen. Dit doen we met de `dropna()` functie. "
   ]
  },
  {
   "cell_type": "code",
   "execution_count": 15,
   "id": "3312d796",
   "metadata": {},
   "outputs": [],
   "source": [
    "data = data.dropna()"
   ]
  },
  {
   "cell_type": "markdown",
   "id": "5f95437e",
   "metadata": {},
   "source": [
    "Hierna draaien we nog een keer de `isnull()` functie. Deze geeft nu een leeg dataframe terug, omdat alle lege waardes zijn verwijderd. "
   ]
  },
  {
   "cell_type": "code",
   "execution_count": 16,
   "id": "b61c3004",
   "metadata": {},
   "outputs": [
    {
     "data": {
      "text/html": [
       "<div>\n",
       "<style scoped>\n",
       "    .dataframe tbody tr th:only-of-type {\n",
       "        vertical-align: middle;\n",
       "    }\n",
       "\n",
       "    .dataframe tbody tr th {\n",
       "        vertical-align: top;\n",
       "    }\n",
       "\n",
       "    .dataframe thead th {\n",
       "        text-align: right;\n",
       "    }\n",
       "</style>\n",
       "<table border=\"1\" class=\"dataframe\">\n",
       "  <thead>\n",
       "    <tr style=\"text-align: right;\">\n",
       "      <th></th>\n",
       "      <th>identifier</th>\n",
       "      <th>type</th>\n",
       "      <th>title</th>\n",
       "      <th>date</th>\n",
       "      <th>content</th>\n",
       "      <th>subcategory</th>\n",
       "      <th>category</th>\n",
       "      <th>Year</th>\n",
       "      <th>DL score</th>\n",
       "      <th>spatial</th>\n",
       "      <th>length</th>\n",
       "    </tr>\n",
       "  </thead>\n",
       "  <tbody>\n",
       "  </tbody>\n",
       "</table>\n",
       "</div>"
      ],
      "text/plain": [
       "Empty DataFrame\n",
       "Columns: [identifier, type, title, date, content, subcategory, category, Year, DL score, spatial, length]\n",
       "Index: []"
      ]
     },
     "execution_count": 16,
     "metadata": {},
     "output_type": "execute_result"
    }
   ],
   "source": [
    "data[data.isnull().any(axis= 1)]"
   ]
  },
  {
   "cell_type": "markdown",
   "id": "80a26e36",
   "metadata": {},
   "source": [
    "## Dataframe opslaan"
   ]
  },
  {
   "cell_type": "markdown",
   "id": "e4538745",
   "metadata": {},
   "source": [
    "Na deze controles en aanpassingen, slaan we het nieuwe dataframe op. "
   ]
  },
  {
   "cell_type": "code",
   "execution_count": 17,
   "id": "356ee8cb",
   "metadata": {},
   "outputs": [],
   "source": [
    "data.to_csv('data/data_new.csv')"
   ]
  }
 ],
 "metadata": {
  "kernelspec": {
   "display_name": "Python 3 (ipykernel)",
   "language": "python",
   "name": "python3"
  },
  "language_info": {
   "codemirror_mode": {
    "name": "ipython",
    "version": 3
   },
   "file_extension": ".py",
   "mimetype": "text/x-python",
   "name": "python",
   "nbconvert_exporter": "python",
   "pygments_lexer": "ipython3",
   "version": "3.9.12"
  }
 },
 "nbformat": 4,
 "nbformat_minor": 5
}
