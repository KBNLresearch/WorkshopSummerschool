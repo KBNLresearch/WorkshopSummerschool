{
 "cells": [
  {
   "cell_type": "markdown",
   "id": "df12894b",
   "metadata": {},
   "source": [
    "# Data inspection"
   ]
  },
  {
   "cell_type": "markdown",
   "id": "7c3701cd",
   "metadata": {},
   "source": [
    "Import the necessay packages "
   ]
  },
  {
   "cell_type": "code",
   "execution_count": 1,
   "id": "297def46",
   "metadata": {},
   "outputs": [],
   "source": [
    "import pandas as pd"
   ]
  },
  {
   "cell_type": "markdown",
   "id": "118c41a5",
   "metadata": {},
   "source": [
    "Load the data with the Pandas package. "
   ]
  },
  {
   "cell_type": "code",
   "execution_count": 2,
   "id": "c10908d3",
   "metadata": {},
   "outputs": [],
   "source": [
    "data = pd.read_csv('data/data.csv', index_col = 0)"
   ]
  },
  {
   "cell_type": "markdown",
   "id": "2c325e8d",
   "metadata": {},
   "source": [
    "To get a first impression of the data, we display the first 4 columns using the head() function. "
   ]
  },
  {
   "cell_type": "code",
   "execution_count": null,
   "id": "036e21b4",
   "metadata": {},
   "outputs": [],
   "source": [
    "data.head(4)"
   ]
  },
  {
   "cell_type": "markdown",
   "id": "7e6b4a55",
   "metadata": {},
   "source": [
    "The first step is to check if all the rows of the dataframe are uniques. Sometimes it happends that accidentaly rows are duplicated during data gathering, so it's good practice to perform this check before doing further analyses. \n",
    "Pandas had a function 'drop_duplicates()' that can be used to remove duplicates in your dataframe. You can use it to remove rows that are duplicate, but you can also use it for example to remove only rows with duplicate identifiers. \n",
    "\n",
    "Add this moment we are only interesting in unique rows. And I do not only want to delete duplicates, but also check it there were any duplicates.\n",
    "\n",
    "I start with counting the rows in mijn dataframe:"
   ]
  },
  {
   "cell_type": "code",
   "execution_count": null,
   "id": "780e6c2d",
   "metadata": {},
   "outputs": [],
   "source": [
    "len(data)"
   ]
  },
  {
   "cell_type": "markdown",
   "id": "c2f3527e",
   "metadata": {},
   "source": [
    "Then drop_duplicates. This removes duplicates rows by keeping only one of them. "
   ]
  },
  {
   "cell_type": "code",
   "execution_count": null,
   "id": "f5528081",
   "metadata": {},
   "outputs": [],
   "source": [
    "data = data.drop_duplicates()"
   ]
  },
  {
   "cell_type": "markdown",
   "id": "851c2314",
   "metadata": {},
   "source": [
    "And print again the length"
   ]
  },
  {
   "cell_type": "code",
   "execution_count": null,
   "id": "5a698719",
   "metadata": {},
   "outputs": [],
   "source": [
    "len(data)"
   ]
  },
  {
   "cell_type": "markdown",
   "id": "9906e600",
   "metadata": {},
   "source": [
    "Now we have dropped all duplicates, we want to look at the indentifiers. We want to compare unique articels so its good to check "
   ]
  },
  {
   "cell_type": "code",
   "execution_count": null,
   "id": "3e3d291a",
   "metadata": {},
   "outputs": [],
   "source": [
    "data['identifier'].nunique()"
   ]
  },
  {
   "cell_type": "markdown",
   "id": "4f7cf612",
   "metadata": {},
   "source": [
    "After this first inspection rough inspection, we want to see if the content of the columns looks plausible. For the categorial columns, we can print the unique categories that are in there, to check for any anolomies. This can be done with the unique() function. "
   ]
  },
  {
   "cell_type": "code",
   "execution_count": null,
   "id": "d8a06260",
   "metadata": {},
   "outputs": [],
   "source": [
    "data['type'].unique()"
   ]
  },
  {
   "cell_type": "markdown",
   "id": "5aa87c08",
   "metadata": {},
   "source": [
    "Bekijk nu zelf de unieke categorieën voor de kolommen subcategory, category and spatial. "
   ]
  },
  {
   "cell_type": "code",
   "execution_count": null,
   "id": "e86e5531",
   "metadata": {},
   "outputs": [],
   "source": [
    "## Code for subcategory"
   ]
  },
  {
   "cell_type": "code",
   "execution_count": null,
   "id": "7cb9f818",
   "metadata": {},
   "outputs": [],
   "source": [
    "## Code for category\n"
   ]
  },
  {
   "cell_type": "code",
   "execution_count": null,
   "id": "82f2e535",
   "metadata": {},
   "outputs": [],
   "source": [
    "## Code for spatial"
   ]
  },
  {
   "cell_type": "markdown",
   "id": "6cc1a1a3",
   "metadata": {},
   "source": [
    "Voor andere kolommmen, zoals data en year, kunnen we kijken naar de minimale en maximale waarde. Aan de hand daarvan kunnen we kijken of deze inderdaad kloppen met de verwachtingn van de dataset qua afbakingen. \n",
    "\n",
    "Dit kun je doen met de min() en max() functies."
   ]
  },
  {
   "cell_type": "code",
   "execution_count": null,
   "id": "5cdbddb6",
   "metadata": {},
   "outputs": [],
   "source": [
    "data['date'].min()"
   ]
  },
  {
   "cell_type": "code",
   "execution_count": null,
   "id": "17a99e67",
   "metadata": {},
   "outputs": [],
   "source": [
    "data['date'].max()"
   ]
  },
  {
   "cell_type": "markdown",
   "id": "c503eda7",
   "metadata": {},
   "source": [
    "Bekijk zelf de min en max van jaar. Komt dit overeen met de min en max van date?"
   ]
  },
  {
   "cell_type": "code",
   "execution_count": null,
   "id": "e88777b9",
   "metadata": {},
   "outputs": [],
   "source": [
    "## Code voor jaar min"
   ]
  },
  {
   "cell_type": "code",
   "execution_count": null,
   "id": "c288d135",
   "metadata": {},
   "outputs": [],
   "source": [
    "## Code voor jaar max"
   ]
  },
  {
   "cell_type": "markdown",
   "id": "eb734598",
   "metadata": {},
   "source": [
    "Ditzelfde kun je ook doen voor de dictionar score. Hier wordt een waarde tussen de 0 en 100 verwacht, aangezien dit het percentage gevonden woorden is. "
   ]
  },
  {
   "cell_type": "code",
   "execution_count": null,
   "id": "c127323d",
   "metadata": {},
   "outputs": [],
   "source": [
    "## Code voor minimale DL score"
   ]
  },
  {
   "cell_type": "code",
   "execution_count": null,
   "id": "dc340c0d",
   "metadata": {},
   "outputs": [],
   "source": [
    "## Code voor max DL score"
   ]
  },
  {
   "cell_type": "markdown",
   "id": "d4996a7a",
   "metadata": {},
   "source": [
    "Om te kijken of er geen hele korte of extreem lange artikelen inzitten, kun je de lengte van artikelen uitrekenen en een extra kolom toevoegen met deze lengte. Vervolgens kun je hier ook de min en max van bekijken. Dit kan je gebruiken om te kijken of je bepaalde artikellengtes wil uitsluiten (bijv. artikelen van 0 woorden of juist 10.000 woorden). \n",
    "\n",
    "Het berekenen van de lengte toen we heel arbitrair door de artikelen te splitsen op spaties. Deze methode is niet 100% correct maar geeft wel een goed globaal beeld. \n",
    "\n",
    "Aanpassingen die je voor alle rijen in een dataframe wilt uitvoeren kun je uitvoeren met onderstaande apply functie. "
   ]
  },
  {
   "cell_type": "code",
   "execution_count": null,
   "id": "ce1e96c8",
   "metadata": {},
   "outputs": [],
   "source": [
    "data['length'] = data['content'].apply(lambda x: len(x.split()))"
   ]
  },
  {
   "cell_type": "code",
   "execution_count": null,
   "id": "8392e2db",
   "metadata": {},
   "outputs": [],
   "source": [
    "data.head(2)"
   ]
  },
  {
   "cell_type": "markdown",
   "id": "134daad2",
   "metadata": {},
   "source": [
    "Bekijk nu zelf de minimale en maximale waarde van de kolom length"
   ]
  },
  {
   "cell_type": "code",
   "execution_count": null,
   "id": "232e95f8",
   "metadata": {},
   "outputs": [],
   "source": [
    "## Code voor minimale waarde"
   ]
  },
  {
   "cell_type": "code",
   "execution_count": null,
   "id": "6e5f2c54",
   "metadata": {},
   "outputs": [],
   "source": [
    "## Code voor maximale waarde"
   ]
  },
  {
   "cell_type": "markdown",
   "id": "79667b2a",
   "metadata": {},
   "source": [
    "Na deze eerste checks op de inhoud van het dataframe, wil je nog kijken of er geen lege cellen of Nan values in het dataframe voorkomen. (uitleg wat het verschil is?)"
   ]
  },
  {
   "cell_type": "code",
   "execution_count": null,
   "id": "15f8e860",
   "metadata": {},
   "outputs": [],
   "source": [
    "data[data.isnull().any(axis= 1)]"
   ]
  },
  {
   "cell_type": "code",
   "execution_count": null,
   "id": "3312d796",
   "metadata": {},
   "outputs": [],
   "source": [
    "data = data.dropna()"
   ]
  },
  {
   "cell_type": "code",
   "execution_count": null,
   "id": "b61c3004",
   "metadata": {},
   "outputs": [],
   "source": [
    "data[data.isnull().any(axis= 1)]"
   ]
  },
  {
   "cell_type": "markdown",
   "id": "e4538745",
   "metadata": {},
   "source": [
    "Na de aanpassingen kun je het dataframe opslaan. "
   ]
  },
  {
   "cell_type": "code",
   "execution_count": null,
   "id": "356ee8cb",
   "metadata": {},
   "outputs": [],
   "source": [
    "data.to_csv('data/data_new.csv')"
   ]
  }
 ],
 "metadata": {
  "kernelspec": {
   "display_name": "Python 3 (ipykernel)",
   "language": "python",
   "name": "python3"
  },
  "language_info": {
   "codemirror_mode": {
    "name": "ipython",
    "version": 3
   },
   "file_extension": ".py",
   "mimetype": "text/x-python",
   "name": "python",
   "nbconvert_exporter": "python",
   "pygments_lexer": "ipython3",
   "version": "3.9.12"
  }
 },
 "nbformat": 4,
 "nbformat_minor": 5
}
