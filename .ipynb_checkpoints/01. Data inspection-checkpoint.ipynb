{
 "cells": [
  {
   "cell_type": "markdown",
   "id": "df12894b",
   "metadata": {},
   "source": [
    "# Data inspectie"
   ]
  },
  {
   "cell_type": "markdown",
   "id": "7c3701cd",
   "metadata": {},
   "source": [
    "Als eerste stap importeren we de pandas package, die we gebruiken om onze data te laden en te inspecteren. "
   ]
  },
  {
   "cell_type": "code",
   "execution_count": null,
   "id": "297def46",
   "metadata": {},
   "outputs": [],
   "source": [
    "import pandas as pd"
   ]
  },
  {
   "cell_type": "markdown",
   "id": "118c41a5",
   "metadata": {},
   "source": [
    "Hierna gebruiken we de pandas functie `read_csv` on ons databestand in te laden. Dit ingeladen bestand noemen we een `ddataframe`. "
   ]
  },
  {
   "cell_type": "code",
   "execution_count": null,
   "id": "c10908d3",
   "metadata": {},
   "outputs": [],
   "source": [
    "data = pd.read_csv('data/data.csv', index_col = 0)"
   ]
  },
  {
   "cell_type": "markdown",
   "id": "2c325e8d",
   "metadata": {},
   "source": [
    "Om te kijken of de data goed is ingeladen, gebruiken we de `head()` functie. In onderstaande functie geeft de `4` aan dat we de eerste vier rijen willen bekijken. "
   ]
  },
  {
   "cell_type": "code",
   "execution_count": null,
   "id": "036e21b4",
   "metadata": {},
   "outputs": [],
   "source": [
    "data.head(4)"
   ]
  },
  {
   "cell_type": "markdown",
   "id": "30343fa3",
   "metadata": {},
   "source": [
    "## Ontdubbelen van de data"
   ]
  },
  {
   "cell_type": "markdown",
   "id": "41aec637",
   "metadata": {},
   "source": [
    "Een goede gewoonte, is om als eerste stap altijd te controleren of er niet per ongeluk dubbelingen in de dataset zijn beland. Het wil wel eens gebeuren dat bij het verzamelen van de data er per ongeluk dingen dubbel in de dataset belanden, bijvoorbeeld als op verschillende momenten er data is verzameld en dit later gecombineerd wordt. \n",
    "\n",
    "In onze eerste check kijken we of er niet per ongeluk dubbele rijen in onze dataset zijn beland. Een dubbele rij houdt in dat er twee rijen zijn waarvan elke waarde in elke cel indentiek is. Pandas heeft een handige functie `drop_duplicates` die je kan gebruiken om je dataset te ontdubbelen. Je kan deze functie gebruiken om zowel rijen die compleet identiek zijn te verwijderen, of om rijen te verwijderen waarvan enkel één of meerdere kolommen dubbelingen bevatten. \n",
    "\n",
    "Met onderstaande functie verwijderen we de rijen die in zijn geheel dubbel voorkomen. \n",
    "Maar omdat we ook willen weten of er überhaupt dubbelen in de dataset zaten, tellen we eerst het aantal rijen in ons dataframe met de `len()` functie. \n"
   ]
  },
  {
   "cell_type": "code",
   "execution_count": null,
   "id": "780e6c2d",
   "metadata": {},
   "outputs": [],
   "source": [
    "len(data)"
   ]
  },
  {
   "cell_type": "markdown",
   "id": "c2f3527e",
   "metadata": {},
   "source": [
    "Hierna roepen we de `drop_duplicates()` functie aan, en vervangen ons huidige dataframe voor de variant zonder duplicaten. "
   ]
  },
  {
   "cell_type": "code",
   "execution_count": null,
   "id": "f5528081",
   "metadata": {},
   "outputs": [],
   "source": [
    "data = data.drop_duplicates()"
   ]
  },
  {
   "cell_type": "markdown",
   "id": "851c2314",
   "metadata": {},
   "source": [
    "Indien er dubbelen voorkwamen, zijn deze nu verwijderd uit ons dataframe. We kunnen nu dus weer de lengte printen om zo te kijken of er inderdaad dubbele rijen in zaten. "
   ]
  },
  {
   "cell_type": "code",
   "execution_count": null,
   "id": "5a698719",
   "metadata": {},
   "outputs": [],
   "source": [
    "len(data)"
   ]
  },
  {
   "cell_type": "markdown",
   "id": "9906e600",
   "metadata": {},
   "source": [
    "Nu we er zeker van zijn dat er geen dubbele rijen meer in ons dataframe zitten, willen we ook graag kijken of we wel echt te maken hebben met alleen unieke artikelen. Het kan bijvoorbeeld voorkomen dat er aan een artikel dubbel voorkomt, met bijvoorbeeld twee keer een andere categorie of subcategorie. \n",
    "\n",
    "Elk artikel heeft zijn eigen identifier. We kunnen dus het aantal unieke identifiers tellen om te zien hoeveel unieke artikelen er in de set zitten. We doen dit door de functie `nunique()` aan te roepen op de kolom `identifier`. "
   ]
  },
  {
   "cell_type": "code",
   "execution_count": null,
   "id": "3e3d291a",
   "metadata": {},
   "outputs": [],
   "source": [
    "data['identifier'].nunique()"
   ]
  },
  {
   "cell_type": "markdown",
   "id": "dbf3c489",
   "metadata": {},
   "source": [
    "Zoals je ziet zijn er net zoveel unieke identifiers als rijen in het dataframe. Dit betekent dat elke rij een uniek artikel bevat. "
   ]
  },
  {
   "cell_type": "markdown",
   "id": "7d35098a",
   "metadata": {},
   "source": [
    "## Inspecteren van de kolominhoud"
   ]
  },
  {
   "cell_type": "markdown",
   "id": "ebd64a40",
   "metadata": {},
   "source": [
    "Nadat de dataset is ontdubbeld op de gewenste manieren, willen we een globale check doen op de inhoud van de kolommen. Hierbij kijken we nog niet in detail naar de inhoud, maar kijken we vooral of er geen onverwachte of afwijkende waardes voorkomen. Indien er wel afwijkende waardes voorkomen, moet er een beslissing worden gemaakt over hoe hiermee om te gaan. Wat hiervoor de beste aanpak is verschilt per situatie. "
   ]
  },
  {
   "cell_type": "markdown",
   "id": "5885d2ab",
   "metadata": {},
   "source": [
    "### Categoriale waardes"
   ]
  },
  {
   "cell_type": "markdown",
   "id": "b2c21859",
   "metadata": {},
   "source": [
    "We beginnen met een inspectie van de kolommen met categoriale waardes. Hierbij kan het bijvoorbeeld voorkomen dat er typfouten gemaakt zijn in de categorieën, of dat er op meerdere manieren naar dezelfde categorie wordt verwezen. \n",
    "\n",
    "We gebruiken hiervoor de functie `unique()`. Deze kijkt net als de functie hierboven naar het aantal unieke waardes. Maar in plaats van ze te tellen, toont hij welke waardes er in de kolom voorkomen. In het voorbeeld hieronder kijken we naar de unieke waardes in de kolom `type`."
   ]
  },
  {
   "cell_type": "code",
   "execution_count": null,
   "id": "d8a06260",
   "metadata": {},
   "outputs": [],
   "source": [
    "data['type'].unique()"
   ]
  },
  {
   "cell_type": "markdown",
   "id": "5aa87c08",
   "metadata": {},
   "source": [
    "### **Oefening**\n",
    "Bekijk nu zelf welke waardes er voorkomen in de kolommen `subcategory`, `category` en `spatial`"
   ]
  },
  {
   "cell_type": "code",
   "execution_count": null,
   "id": "e86e5531",
   "metadata": {},
   "outputs": [],
   "source": [
    "## Code for subcategory"
   ]
  },
  {
   "cell_type": "code",
   "execution_count": null,
   "id": "7cb9f818",
   "metadata": {},
   "outputs": [],
   "source": [
    "## Code for category"
   ]
  },
  {
   "cell_type": "code",
   "execution_count": null,
   "id": "82f2e535",
   "metadata": {},
   "outputs": [],
   "source": [
    "## Code for spatial"
   ]
  },
  {
   "cell_type": "markdown",
   "id": "857cffbc",
   "metadata": {},
   "source": [
    "Zoals je ziet komt er in de kolom `subcategory` zowel het woord `locomotief` als `lokomotief` voor. Er kan besloten worden dit zo te laten, of om dit aan te passen naar één van de twee varianten. In dit geval kiezen we ervoor het zo te laten, aangezien deze woorden gebruikt waren als zoekquery. "
   ]
  },
  {
   "cell_type": "markdown",
   "id": "fb2bc30a",
   "metadata": {},
   "source": [
    "## Numerieke waardes"
   ]
  },
  {
   "cell_type": "markdown",
   "id": "6cc1a1a3",
   "metadata": {},
   "source": [
    "Naast categoriale waares zijn er ook kolommen met numerieke waardes, zoals `date`. Deze wil je niet printen met de functie `unique`, omdat je dan een onoverzichtelijk overzicht krijgt met vele waardes. \n",
    "\n",
    "Om te kijken of de inhoud van numerieke kolommen overeen komt met de verwachting, wordt vaak naar de laagste en hoogste waarde gekeken. \n",
    "\n",
    "Dit kun je doen met de `min()` en `max()` functies."
   ]
  },
  {
   "cell_type": "code",
   "execution_count": null,
   "id": "5cdbddb6",
   "metadata": {},
   "outputs": [],
   "source": [
    "data['date'].min()"
   ]
  },
  {
   "cell_type": "code",
   "execution_count": null,
   "id": "17a99e67",
   "metadata": {},
   "outputs": [],
   "source": [
    "data['date'].max()"
   ]
  },
  {
   "cell_type": "markdown",
   "id": "c503eda7",
   "metadata": {},
   "source": [
    "### **Oefening**\n",
    "\n",
    "Bekijk nu zelf de minimale en maximale waardes van de kolom waarin enkel het jaar staat. Komt dit overeen met de minimale en  maximale waardes die je zou verwachten naar aanleiding van de datums?"
   ]
  },
  {
   "cell_type": "code",
   "execution_count": null,
   "id": "e88777b9",
   "metadata": {},
   "outputs": [],
   "source": [
    "## Code voor het minimale jaar"
   ]
  },
  {
   "cell_type": "code",
   "execution_count": null,
   "id": "c288d135",
   "metadata": {},
   "outputs": [],
   "source": [
    "## Code voor het maximale jaar"
   ]
  },
  {
   "cell_type": "markdown",
   "id": "eb734598",
   "metadata": {},
   "source": [
    "### **Oefening**\n",
    "Ook de kolom `DL score` is numeriek. Aangezien dit om een percentage gaat, verwachten we een waarde tussen de 0 en de 100. Bekijk of dit inderdaad het geval is. "
   ]
  },
  {
   "cell_type": "code",
   "execution_count": null,
   "id": "c127323d",
   "metadata": {},
   "outputs": [],
   "source": [
    "## Code voor minimale DL score"
   ]
  },
  {
   "cell_type": "code",
   "execution_count": null,
   "id": "dc340c0d",
   "metadata": {},
   "outputs": [],
   "source": [
    "## Code voor max DL score"
   ]
  },
  {
   "cell_type": "markdown",
   "id": "d4996a7a",
   "metadata": {},
   "source": [
    "Om te kijken of er geen hele korte of extreem lange artikelen in de dataset zitten, kun je de lengte van artikelen uitrekenen en een extra kolom aan je dataframe toevoegen met de lengte per artikel. Vervolgens kun je hier ook de min en max van bekijken. Dit kan je gebruiken om te kijken of je bepaalde artikellengtes wil uitsluiten (bijv. artikelen van 0 woorden of juist 10.000 woorden). \n",
    "\n",
    "Het berekenen van de lengte toen we heel arbitrair door de artikelen te splitsen op spaties. Deze methode is niet 100% correct maar geeft wel een goed globaal beeld. \n",
    "\n",
    "Er zijn meerdere manieren om extra kolommen met berekende waardes toe te voegen aan een dataframe. In deze workshop gebruiken wij voornamelijk de `apply` functie. \n",
    "\n",
    "De code hieronder werkt als volgt:\n",
    "* `data['length'] =` geeft aan dat je een nieuwe kolom wilt maken die `length` heet\n",
    "* `data['content'].apply` geeft aan dat je een functie wilt uitvoeren op de inhoud van de kolom `content`. Dit wordt per rij gedaan.\n",
    "* `lambda x:` stopt per rij de inhoud van de kolom `content` in de variabele `x`\n",
    "* `len(x.split())` gebruikt eerst de `split` functie om de inhoud van `x` op te splitsen op basis van spaties. Dit geeft als resultaat een lijst van woorden. Vervolgens wordt de functie `len` gebruikt om het aantal woorden te tellen. \n"
   ]
  },
  {
   "cell_type": "code",
   "execution_count": null,
   "id": "ce1e96c8",
   "metadata": {},
   "outputs": [],
   "source": [
    "data['length'] = data['content'].apply(lambda x: len(x.split()))"
   ]
  },
  {
   "cell_type": "markdown",
   "id": "988c616e",
   "metadata": {},
   "source": [
    "We bekijken de eerste twee regels van ons dataframe om te kijken of er inderdaad een nieuwe kolom is aangemaakt. "
   ]
  },
  {
   "cell_type": "code",
   "execution_count": null,
   "id": "8392e2db",
   "metadata": {},
   "outputs": [],
   "source": [
    "data.head(2)"
   ]
  },
  {
   "cell_type": "markdown",
   "id": "134daad2",
   "metadata": {},
   "source": [
    "### **Oefening**\n",
    "Bekijk nu zelf de minimale en maximale waarde van de kolom `length`."
   ]
  },
  {
   "cell_type": "code",
   "execution_count": null,
   "id": "232e95f8",
   "metadata": {},
   "outputs": [],
   "source": [
    "## Code voor minimale waarde"
   ]
  },
  {
   "cell_type": "code",
   "execution_count": null,
   "id": "6e5f2c54",
   "metadata": {},
   "outputs": [],
   "source": [
    "## Code voor maximale waarde"
   ]
  },
  {
   "cell_type": "markdown",
   "id": "49b1704b",
   "metadata": {},
   "source": [
    "## Lege cellen"
   ]
  },
  {
   "cell_type": "markdown",
   "id": "79667b2a",
   "metadata": {},
   "source": [
    "Als laatste willen we nog weten of er NaN (not a number) of Null waardes in ons dataframe zitten. Deze kunnen namelijk problemen opleveren bij bepaalde functies. \n",
    "\n",
    "We kunnen de `isnull()` functie hiervoor gebruiken, met de functie `any`. Deze functie kijkt voor elke cel in het dataframe of er een lege waarde in zit. "
   ]
  },
  {
   "cell_type": "code",
   "execution_count": null,
   "id": "15f8e860",
   "metadata": {},
   "outputs": [],
   "source": [
    "data[data.isnull().any(axis= 1)]"
   ]
  },
  {
   "cell_type": "markdown",
   "id": "4d1e3228",
   "metadata": {},
   "source": [
    "Zoals je kunt zien zijn er twee rijen gevonden waarin de kolom `title` geen waarde bevat. We kiezen er voor om deze kolommen te verwijderen. Dit doen we met de `dropna()` functie. "
   ]
  },
  {
   "cell_type": "code",
   "execution_count": null,
   "id": "3312d796",
   "metadata": {},
   "outputs": [],
   "source": [
    "data = data.dropna()"
   ]
  },
  {
   "cell_type": "markdown",
   "id": "216c4314",
   "metadata": {},
   "source": [
    "Hierna draaien we nog een keer de `isnull()` functie. Deze geeft nu een leeg dataframe terug, omdat alle lege waardes zijn verwijderd. "
   ]
  },
  {
   "cell_type": "code",
   "execution_count": null,
   "id": "b61c3004",
   "metadata": {},
   "outputs": [],
   "source": [
    "data[data.isnull().any(axis= 1)]"
   ]
  },
  {
   "cell_type": "markdown",
   "id": "c171cc91",
   "metadata": {},
   "source": [
    "## Dataframe opslaan"
   ]
  },
  {
   "cell_type": "markdown",
   "id": "e4538745",
   "metadata": {},
   "source": [
    "Na deze controles en aanpassingen, slaan we het nieuwe dataframe op. "
   ]
  },
  {
   "cell_type": "code",
   "execution_count": null,
   "id": "356ee8cb",
   "metadata": {},
   "outputs": [],
   "source": [
    "data.to_csv('data/data_new.csv')"
   ]
  }
 ],
 "metadata": {
  "kernelspec": {
   "display_name": "Python 3 (ipykernel)",
   "language": "python",
   "name": "python3"
  },
  "language_info": {
   "codemirror_mode": {
    "name": "ipython",
    "version": 3
   },
   "file_extension": ".py",
   "mimetype": "text/x-python",
   "name": "python",
   "nbconvert_exporter": "python",
   "pygments_lexer": "ipython3",
   "version": "3.9.12"
  }
 },
 "nbformat": 4,
 "nbformat_minor": 5
}
