{
 "cells": [
  {
   "cell_type": "markdown",
   "id": "8d473958",
   "metadata": {},
   "source": [
    "# Natural Language Processing"
   ]
  },
  {
   "cell_type": "markdown",
   "id": "c5e5ff73",
   "metadata": {},
   "source": [
    "We starten weer met het laden van de benodigde package."
   ]
  },
  {
   "cell_type": "code",
   "execution_count": 39,
   "id": "f026db38",
   "metadata": {},
   "outputs": [],
   "source": [
    "import pandas as pd"
   ]
  },
  {
   "cell_type": "markdown",
   "id": "d5a90fad",
   "metadata": {},
   "source": [
    "En het inladen van onze gefilterde dataset."
   ]
  },
  {
   "cell_type": "code",
   "execution_count": 2,
   "id": "452108fd",
   "metadata": {},
   "outputs": [],
   "source": [
    "data = pd.read_csv('data/fiets.csv', index_col =0)"
   ]
  },
  {
   "cell_type": "code",
   "execution_count": 3,
   "id": "106225fb",
   "metadata": {},
   "outputs": [
    {
     "data": {
      "text/html": [
       "<div>\n",
       "<style scoped>\n",
       "    .dataframe tbody tr th:only-of-type {\n",
       "        vertical-align: middle;\n",
       "    }\n",
       "\n",
       "    .dataframe tbody tr th {\n",
       "        vertical-align: top;\n",
       "    }\n",
       "\n",
       "    .dataframe thead th {\n",
       "        text-align: right;\n",
       "    }\n",
       "</style>\n",
       "<table border=\"1\" class=\"dataframe\">\n",
       "  <thead>\n",
       "    <tr style=\"text-align: right;\">\n",
       "      <th></th>\n",
       "      <th>identifier</th>\n",
       "      <th>type</th>\n",
       "      <th>title</th>\n",
       "      <th>date</th>\n",
       "      <th>content</th>\n",
       "      <th>subcategory</th>\n",
       "      <th>category</th>\n",
       "      <th>Year</th>\n",
       "      <th>DL score</th>\n",
       "      <th>spatial</th>\n",
       "    </tr>\n",
       "  </thead>\n",
       "  <tbody>\n",
       "    <tr>\n",
       "      <th>84265</th>\n",
       "      <td>http://resolver.kb.nl/resolve?urn=MMKB23:00140...</td>\n",
       "      <td>artikel</td>\n",
       "      <td>BUITENLAND. POLITIEK OVERZICHT.</td>\n",
       "      <td>1880/05/26 00:00:00</td>\n",
       "      <td>’s Gravenhage, 25 Mei.’t Is te Berlijn een lie...</td>\n",
       "      <td>fiets</td>\n",
       "      <td>fiets</td>\n",
       "      <td>1880</td>\n",
       "      <td>71.212121</td>\n",
       "      <td>Landelijk</td>\n",
       "    </tr>\n",
       "    <tr>\n",
       "      <th>84295</th>\n",
       "      <td>http://resolver.kb.nl/resolve?urn=ddd:01011723...</td>\n",
       "      <td>artikel</td>\n",
       "      <td>Gemengde Berichten.</td>\n",
       "      <td>1869/09/20 00:00:00</td>\n",
       "      <td>Naar men verneemt, bloeit thans in den Hortus ...</td>\n",
       "      <td>rijwiel</td>\n",
       "      <td>fiets</td>\n",
       "      <td>1869</td>\n",
       "      <td>77.823129</td>\n",
       "      <td>Landelijk</td>\n",
       "    </tr>\n",
       "  </tbody>\n",
       "</table>\n",
       "</div>"
      ],
      "text/plain": [
       "                                              identifier     type  \\\n",
       "84265  http://resolver.kb.nl/resolve?urn=MMKB23:00140...  artikel   \n",
       "84295  http://resolver.kb.nl/resolve?urn=ddd:01011723...  artikel   \n",
       "\n",
       "                                 title                 date  \\\n",
       "84265  BUITENLAND. POLITIEK OVERZICHT.  1880/05/26 00:00:00   \n",
       "84295              Gemengde Berichten.  1869/09/20 00:00:00   \n",
       "\n",
       "                                                 content subcategory category  \\\n",
       "84265  ’s Gravenhage, 25 Mei.’t Is te Berlijn een lie...       fiets    fiets   \n",
       "84295  Naar men verneemt, bloeit thans in den Hortus ...     rijwiel    fiets   \n",
       "\n",
       "       Year   DL score    spatial  \n",
       "84265  1880  71.212121  Landelijk  \n",
       "84295  1869  77.823129  Landelijk  "
      ]
     },
     "execution_count": 3,
     "metadata": {},
     "output_type": "execute_result"
    }
   ],
   "source": [
    "data.head(2)"
   ]
  },
  {
   "cell_type": "code",
   "execution_count": 4,
   "id": "4dd6add8",
   "metadata": {},
   "outputs": [
    {
     "data": {
      "text/plain": [
       "255"
      ]
     },
     "execution_count": 4,
     "metadata": {},
     "output_type": "execute_result"
    }
   ],
   "source": [
    "len(data)"
   ]
  },
  {
   "cell_type": "markdown",
   "id": "33ef5f99",
   "metadata": {},
   "source": [
    "## Woord frequenties"
   ]
  },
  {
   "cell_type": "markdown",
   "id": "82527921",
   "metadata": {},
   "source": [
    "Als eerste, meeste simpele stap van tekst analyse, kunnen we kijken naar de meest voorkomende woorden in de artikelen. Onderstaande functie is geschreven om dit te doen. \n",
    "\n",
    "Maar als eerste stap moeten we de artikelen van de kolom `content` omzetten naar een lijst met woorden per artikel. \n",
    "Dit doen we met de `split` functie. Omdat we voor het tellen geen rekening willen houden met hoofdletters, zetten we alle letters om naar kleine letters. Dit doen we met de functie `lower`. "
   ]
  },
  {
   "cell_type": "code",
   "execution_count": 8,
   "id": "bcd2e807",
   "metadata": {},
   "outputs": [],
   "source": [
    "data['content_list'] = data.content.apply(lambda x: x.lower().split())"
   ]
  },
  {
   "cell_type": "code",
   "execution_count": 9,
   "id": "d1681788",
   "metadata": {},
   "outputs": [],
   "source": [
    "def word_counter(dataframe_column):\n",
    "    full_list = []\n",
    "    for elemnt in dataframe_column:\n",
    "        full_list += elemnt\n",
    "    \n",
    "    values_count = pd.Series(full_list).value_counts()\n",
    "    return values_count"
   ]
  },
  {
   "cell_type": "markdown",
   "id": "d0f353d3",
   "metadata": {},
   "source": [
    "Nu we de kolom `content_list` hebben, kunen we de `word_counter` functie uitproberen. "
   ]
  },
  {
   "cell_type": "code",
   "execution_count": 10,
   "id": "d37e36f7",
   "metadata": {},
   "outputs": [
    {
     "data": {
      "text/plain": [
       "de                    9315\n",
       "van                   5780\n",
       "het                   4590\n",
       "en                    4441\n",
       "een                   4239\n",
       "                      ... \n",
       "bruin,                   1\n",
       "roodachtig               1\n",
       "doorschijnend,           1\n",
       "geelachtig               1\n",
       "ais—teheran—herat,       1\n",
       "Length: 35653, dtype: int64"
      ]
     },
     "execution_count": 10,
     "metadata": {},
     "output_type": "execute_result"
    }
   ],
   "source": [
    "word_counter(data['content_list'])"
   ]
  },
  {
   "cell_type": "markdown",
   "id": "2bef88c8",
   "metadata": {},
   "source": [
    "Zoals je ziet zijn de eerste woorden allemaal woorden die inhoudelijk niet veel zeggen over de artikelen. De meest voorkomende woorden in teksten zijn vaak lidwoorden, voegwoorden, voorzetsels en dergelijke. Dit zijn woorden die vaak weinig informatie toevoegen over de inhoud van teksten. In Natural language processing noemen we deze woorden `stopwoorden`.  Afhankelijk van de analyse en de dataset kunnen de gebruikte stopwoorden veranderen. Voor Nederlands zijn veelgebruikte stopwoorden de lidwoorden, voegwoorden en voornaamwoorden. Ook artefacten uit de tekst kunnen worden toegevoegd. \n",
    "\n",
    "In onze datafolder staat een stopwoordenlijst klaar die we kunnen gebruiken voor het uitfilteren van deze woorden. "
   ]
  },
  {
   "cell_type": "code",
   "execution_count": 27,
   "id": "ead0e102",
   "metadata": {},
   "outputs": [],
   "source": [
    "with open('data/stopwords-nl.txt', 'r') as f:\n",
    "    stopwords = f.read().split(\"\\n\")"
   ]
  },
  {
   "cell_type": "markdown",
   "id": "f328f263",
   "metadata": {},
   "source": [
    "En hieronder staat een nieuwe functie, die deze woorden meeneemt als filter. "
   ]
  },
  {
   "cell_type": "code",
   "execution_count": 28,
   "id": "6e74fbef",
   "metadata": {},
   "outputs": [],
   "source": [
    "def word_counter_stopword(dataframe_column):\n",
    "    full_list = []\n",
    "    for elemnt in dataframe_column:\n",
    "        full_list += elemnt\n",
    "        \n",
    "    full_list = [i for i in full_list if i not in stopwords]\n",
    "    \n",
    "    values_count = pd.Series(full_list).value_counts()\n",
    "    return values_count"
   ]
  },
  {
   "cell_type": "markdown",
   "id": "341cc86a",
   "metadata": {},
   "source": [
    "Nu kunnen we onze nieuwe functie `word_counter_stopword` draaien over de kolom `content_list`. "
   ]
  },
  {
   "cell_type": "code",
   "execution_count": 32,
   "id": "948169e6",
   "metadata": {},
   "outputs": [
    {
     "data": {
      "text/plain": [
       "—                     686\n",
       "heer                  403\n",
       "dagen                 271\n",
       "plaats                235\n",
       "groote                193\n",
       "                     ... \n",
       "eerzucht                1\n",
       "veldarbeiders,          1\n",
       "moordenaar,             1\n",
       "opgelicht.              1\n",
       "ais—teheran—herat,      1\n",
       "Length: 35300, dtype: int64"
      ]
     },
     "execution_count": 32,
     "metadata": {},
     "output_type": "execute_result"
    }
   ],
   "source": [
    "word_counter_stopword(data['content_list'])"
   ]
  },
  {
   "cell_type": "markdown",
   "id": "7be4cfa7",
   "metadata": {},
   "source": [
    "Dit ziet er al een stuk beter uit. Met behulp van de `head` functie kunnen we de top 10 tonen. Zoals je ziet is het nog niet helemaal perfect, want het meest voorkomende teken is een streepje, en er staat nog een komma tussen. Normaliter schoon je de tekst dus nog wat verder op voordat je er mee verder gaat. Omdat dit puur ter demonstratie is slaan we deze stap nu over. "
   ]
  },
  {
   "cell_type": "code",
   "execution_count": 34,
   "id": "9033e989",
   "metadata": {},
   "outputs": [
    {
     "data": {
      "text/plain": [
       "—         686\n",
       "heer      403\n",
       "dagen     271\n",
       "plaats    235\n",
       "groote    193\n",
       "tijd      174\n",
       "jaar      168\n",
       "is,       162\n",
       "geheel    157\n",
       "man       148\n",
       "dtype: int64"
      ]
     },
     "execution_count": 34,
     "metadata": {},
     "output_type": "execute_result"
    }
   ],
   "source": [
    "word_counter_stopword(data['content list']).head(10)"
   ]
  },
  {
   "cell_type": "markdown",
   "id": "6e8b77af",
   "metadata": {},
   "source": [
    "# Spacy"
   ]
  },
  {
   "cell_type": "markdown",
   "id": "c9fd0aa6",
   "metadata": {},
   "source": [
    "Naast een naieve wordcount, zijn er ook andere opties mogelijk. Voor het vervolg van deze workshop gaan we gebruik maken van de Spacy package. Deze package wordt veel gebruikt wordt voor Natural language processing. Een andere veelgebruikte package is `NLTK`. \n",
    "\n",
    "Voor het vervolg van dit Notebook hebben we aantal packages nodig. Dus we starten met het importeren van deze packages. "
   ]
  },
  {
   "cell_type": "code",
   "execution_count": 48,
   "id": "d7aebeb9",
   "metadata": {},
   "outputs": [],
   "source": [
    "import spacy\n",
    "from spacy import displacy\n",
    "from collections import Counter\n",
    "import pickle"
   ]
  },
  {
   "cell_type": "markdown",
   "id": "dac41b3f",
   "metadata": {},
   "source": [
    "Als je Spacy vraagt om Natural Language Processing uit te voeren, worden voor elke input verschillende natural language processing taken uitgevoerd, waaronder het herkennnen van entities en woordsoorten. Deze informatie wordt opgeslagen als een `doc` item. Het draaien van deze code duurt enige tijd. We hebben daarom het model alvast voorbereid en klaargezet in de map `data`. De code voor het draaien van een model staat hieronder als voorbeeld aangegeven. Dit kun je gebruiken als je je eigen  model wilt draaien op bijvoorbeeld een andere dataset. "
   ]
  },
  {
   "cell_type": "code",
   "execution_count": 57,
   "id": "a2f5532a",
   "metadata": {},
   "outputs": [],
   "source": [
    "data = pd.read_csv('data/fiets.csv', index_col =0)"
   ]
  },
  {
   "cell_type": "code",
   "execution_count": 58,
   "id": "14ff8cfd",
   "metadata": {},
   "outputs": [
    {
     "data": {
      "text/html": [
       "<div>\n",
       "<style scoped>\n",
       "    .dataframe tbody tr th:only-of-type {\n",
       "        vertical-align: middle;\n",
       "    }\n",
       "\n",
       "    .dataframe tbody tr th {\n",
       "        vertical-align: top;\n",
       "    }\n",
       "\n",
       "    .dataframe thead th {\n",
       "        text-align: right;\n",
       "    }\n",
       "</style>\n",
       "<table border=\"1\" class=\"dataframe\">\n",
       "  <thead>\n",
       "    <tr style=\"text-align: right;\">\n",
       "      <th></th>\n",
       "      <th>identifier</th>\n",
       "      <th>type</th>\n",
       "      <th>title</th>\n",
       "      <th>date</th>\n",
       "      <th>content</th>\n",
       "      <th>subcategory</th>\n",
       "      <th>category</th>\n",
       "      <th>Year</th>\n",
       "      <th>DL score</th>\n",
       "      <th>spatial</th>\n",
       "    </tr>\n",
       "  </thead>\n",
       "  <tbody>\n",
       "    <tr>\n",
       "      <th>84265</th>\n",
       "      <td>http://resolver.kb.nl/resolve?urn=MMKB23:00140...</td>\n",
       "      <td>artikel</td>\n",
       "      <td>BUITENLAND. POLITIEK OVERZICHT.</td>\n",
       "      <td>1880/05/26 00:00:00</td>\n",
       "      <td>’s Gravenhage, 25 Mei.’t Is te Berlijn een lie...</td>\n",
       "      <td>fiets</td>\n",
       "      <td>fiets</td>\n",
       "      <td>1880</td>\n",
       "      <td>71.212121</td>\n",
       "      <td>Landelijk</td>\n",
       "    </tr>\n",
       "    <tr>\n",
       "      <th>84295</th>\n",
       "      <td>http://resolver.kb.nl/resolve?urn=ddd:01011723...</td>\n",
       "      <td>artikel</td>\n",
       "      <td>Gemengde Berichten.</td>\n",
       "      <td>1869/09/20 00:00:00</td>\n",
       "      <td>Naar men verneemt, bloeit thans in den Hortus ...</td>\n",
       "      <td>rijwiel</td>\n",
       "      <td>fiets</td>\n",
       "      <td>1869</td>\n",
       "      <td>77.823129</td>\n",
       "      <td>Landelijk</td>\n",
       "    </tr>\n",
       "  </tbody>\n",
       "</table>\n",
       "</div>"
      ],
      "text/plain": [
       "                                              identifier     type  \\\n",
       "84265  http://resolver.kb.nl/resolve?urn=MMKB23:00140...  artikel   \n",
       "84295  http://resolver.kb.nl/resolve?urn=ddd:01011723...  artikel   \n",
       "\n",
       "                                 title                 date  \\\n",
       "84265  BUITENLAND. POLITIEK OVERZICHT.  1880/05/26 00:00:00   \n",
       "84295              Gemengde Berichten.  1869/09/20 00:00:00   \n",
       "\n",
       "                                                 content subcategory category  \\\n",
       "84265  ’s Gravenhage, 25 Mei.’t Is te Berlijn een lie...       fiets    fiets   \n",
       "84295  Naar men verneemt, bloeit thans in den Hortus ...     rijwiel    fiets   \n",
       "\n",
       "       Year   DL score    spatial  \n",
       "84265  1880  71.212121  Landelijk  \n",
       "84295  1869  77.823129  Landelijk  "
      ]
     },
     "execution_count": 58,
     "metadata": {},
     "output_type": "execute_result"
    }
   ],
   "source": [
    "data.head(2)"
   ]
  },
  {
   "cell_type": "markdown",
   "id": "28916269",
   "metadata": {},
   "source": [
    "```\n",
    "nlp = spacy.load(\"nl_core_news_sm\")\n",
    "data = data.dropna(subset=['content'])\n",
    "\n",
    "def process_text(text):\n",
    "   return nlp(text)\n",
    "   \n",
    "data[\"doc\"] = data[\"content\"].apply(process_text)\n",
    "\n",
    "with open('data/fiets_nlp.pkl', 'wb') as f:\n",
    "    pickle.dump(data, f)\n",
    "```\n"
   ]
  },
  {
   "cell_type": "markdown",
   "id": "df3c4c39",
   "metadata": {},
   "source": [
    "Voor het vervolg van dit Notebook laden we het model dat in de `data` map staat. Dit doen we met de volgende code:"
   ]
  },
  {
   "cell_type": "code",
   "execution_count": 60,
   "id": "b84097f7",
   "metadata": {},
   "outputs": [],
   "source": [
    "fiets_nlp = pd.read_pickle(\"data/fiets_nlp.pkl\")"
   ]
  },
  {
   "cell_type": "code",
   "execution_count": 61,
   "id": "798f371e",
   "metadata": {},
   "outputs": [
    {
     "data": {
      "text/html": [
       "<div>\n",
       "<style scoped>\n",
       "    .dataframe tbody tr th:only-of-type {\n",
       "        vertical-align: middle;\n",
       "    }\n",
       "\n",
       "    .dataframe tbody tr th {\n",
       "        vertical-align: top;\n",
       "    }\n",
       "\n",
       "    .dataframe thead th {\n",
       "        text-align: right;\n",
       "    }\n",
       "</style>\n",
       "<table border=\"1\" class=\"dataframe\">\n",
       "  <thead>\n",
       "    <tr style=\"text-align: right;\">\n",
       "      <th></th>\n",
       "      <th>identifier</th>\n",
       "      <th>type</th>\n",
       "      <th>title</th>\n",
       "      <th>date</th>\n",
       "      <th>content</th>\n",
       "      <th>subcategory</th>\n",
       "      <th>category</th>\n",
       "      <th>Year</th>\n",
       "      <th>DL score</th>\n",
       "      <th>spatial</th>\n",
       "      <th>doc</th>\n",
       "    </tr>\n",
       "  </thead>\n",
       "  <tbody>\n",
       "    <tr>\n",
       "      <th>84265</th>\n",
       "      <td>http://resolver.kb.nl/resolve?urn=MMKB23:00140...</td>\n",
       "      <td>artikel</td>\n",
       "      <td>BUITENLAND. POLITIEK OVERZICHT.</td>\n",
       "      <td>1880/05/26 00:00:00</td>\n",
       "      <td>’s Gravenhage, 25 Mei.’t Is te Berlijn een lie...</td>\n",
       "      <td>fiets</td>\n",
       "      <td>fiets</td>\n",
       "      <td>1880</td>\n",
       "      <td>71.212121</td>\n",
       "      <td>Landelijk</td>\n",
       "      <td>(’s, Gravenhage, ,, 25, Mei.’t, Is, te, Berlij...</td>\n",
       "    </tr>\n",
       "    <tr>\n",
       "      <th>84295</th>\n",
       "      <td>http://resolver.kb.nl/resolve?urn=ddd:01011723...</td>\n",
       "      <td>artikel</td>\n",
       "      <td>Gemengde Berichten.</td>\n",
       "      <td>1869/09/20 00:00:00</td>\n",
       "      <td>Naar men verneemt, bloeit thans in den Hortus ...</td>\n",
       "      <td>rijwiel</td>\n",
       "      <td>fiets</td>\n",
       "      <td>1869</td>\n",
       "      <td>77.823129</td>\n",
       "      <td>Landelijk</td>\n",
       "      <td>(Naar, men, verneemt, ,, bloeit, thans, in, de...</td>\n",
       "    </tr>\n",
       "  </tbody>\n",
       "</table>\n",
       "</div>"
      ],
      "text/plain": [
       "                                              identifier     type  \\\n",
       "84265  http://resolver.kb.nl/resolve?urn=MMKB23:00140...  artikel   \n",
       "84295  http://resolver.kb.nl/resolve?urn=ddd:01011723...  artikel   \n",
       "\n",
       "                                 title                 date  \\\n",
       "84265  BUITENLAND. POLITIEK OVERZICHT.  1880/05/26 00:00:00   \n",
       "84295              Gemengde Berichten.  1869/09/20 00:00:00   \n",
       "\n",
       "                                                 content subcategory category  \\\n",
       "84265  ’s Gravenhage, 25 Mei.’t Is te Berlijn een lie...       fiets    fiets   \n",
       "84295  Naar men verneemt, bloeit thans in den Hortus ...     rijwiel    fiets   \n",
       "\n",
       "       Year   DL score    spatial  \\\n",
       "84265  1880  71.212121  Landelijk   \n",
       "84295  1869  77.823129  Landelijk   \n",
       "\n",
       "                                                     doc  \n",
       "84265  (’s, Gravenhage, ,, 25, Mei.’t, Is, te, Berlij...  \n",
       "84295  (Naar, men, verneemt, ,, bloeit, thans, in, de...  "
      ]
     },
     "execution_count": 61,
     "metadata": {},
     "output_type": "execute_result"
    }
   ],
   "source": [
    "fiets_nlp.head(2)"
   ]
  },
  {
   "cell_type": "markdown",
   "id": "3382f577",
   "metadata": {},
   "source": [
    "# Named Entity Recognition"
   ]
  },
  {
   "cell_type": "markdown",
   "id": "49bde250",
   "metadata": {},
   "source": [
    "Spacy slaat informatie over de gevonden named entities op in het doc item. Deze informatie staat opgeslagen in de kolom `doc` en kan daar ook uitgehaald worden.\n",
    "\n",
    "Spacy kent de volgende Named entities:"
   ]
  },
  {
   "cell_type": "markdown",
   "id": "2f5afebe",
   "metadata": {},
   "source": [
    "* PERSON:      People, including fictional.\n",
    "* NORP:        Nationalities or religious or political groups.\n",
    "* FAC:         Buildings, airports, highways, bridges, etc.\n",
    "* ORG:         Companies, agencies, institutions, etc.\n",
    "* GPE:         Countries, cities, states.\n",
    "* LOC:         Non-GPE locations, mountain ranges, bodies of water.\n",
    "* PRODUCT:     Objects, vehicles, foods, etc. (Not services.)\n",
    "* EVENT:       Named hurricanes, battles, wars, sports events, etc.\n",
    "* WORK_OF_ART: Titles of books, songs, etc.\n",
    "* LAW:         Named documents made into laws.\n",
    "* LANGUAGE:    Any named language.\n",
    "* DATE:        Absolute or relative dates or periods.\n",
    "* TIME:        Times smaller than a day.\n",
    "* PERCENT:     Percentage, including ”%“.\n",
    "* MONEY:       Monetary values, including unit.\n",
    "* QUANTITY:    Measurements, as of weight or distance.\n",
    "* ORDINAL:     “first”, “second”, etc.\n",
    "* CARDINAL:    Numerals that do not fall under another type."
   ]
  },
  {
   "cell_type": "markdown",
   "id": "cc94325f",
   "metadata": {},
   "source": [
    "Je kan ook de spacy module vragen voor uitleg over een bepaalde Named Entity:"
   ]
  },
  {
   "cell_type": "code",
   "execution_count": 62,
   "id": "2d1df4bd",
   "metadata": {},
   "outputs": [
    {
     "data": {
      "text/plain": [
       "'Countries, cities, states'"
      ]
     },
     "execution_count": 62,
     "metadata": {},
     "output_type": "execute_result"
    }
   ],
   "source": [
    "spacy.explain('GPE')"
   ]
  },
  {
   "cell_type": "markdown",
   "id": "f94caf40",
   "metadata": {},
   "source": [
    "Je kan per artikel de gevonden Named Entities tonen. Deze worden dan met verschillende kleuren in de tekst weergegeven.\n",
    "\n",
    "Eerst maken we een variabele `doc` aan, waarin we de inhoud van de kolom `doc` voor één artikel stoppen. Dit doen we met de blokhaken `[2]`. In dit geval roepen we het derde artikel aan (Python telling begint bij 0)."
   ]
  },
  {
   "cell_type": "code",
   "execution_count": 63,
   "id": "90c99289",
   "metadata": {},
   "outputs": [],
   "source": [
    "doc = fiets_nlp['doc'].to_list()[2]"
   ]
  },
  {
   "cell_type": "markdown",
   "id": "142df8b0",
   "metadata": {},
   "source": [
    "Vervolgens kunnen we met de functie `displacy.render()` dit artikel inclusief de bijbehorende Named Entities tonen. "
   ]
  },
  {
   "cell_type": "code",
   "execution_count": 64,
   "id": "80e01b09",
   "metadata": {},
   "outputs": [
    {
     "data": {
      "text/html": [
       "<span class=\"tex2jax_ignore\"><div class=\"entities\" style=\"line-height: 2.5; direction: ltr\">De Folies Bellevilles, onder het keizerlijk goevernement het tooneel der vergaderingen van de fransche klubs, waar de redenaars van de partij der ouverzoenlijken hunne dolzinnige redevoeringen hielden, is onder het republikeinsche bewind weder de plaats waar de handelingen der mannen, die nu het lot van \n",
       "<mark class=\"entity\" style=\"background: #feca74; padding: 0.45em 0.6em; margin: 0 0.25em; line-height: 1; border-radius: 0.35em;\">\n",
       "    Frankrijk\n",
       "    <span style=\"font-size: 0.8em; font-weight: bold; line-height: 1; border-radius: 0.35em; vertical-align: middle; margin-left: 0.5rem\">GPE</span>\n",
       "</mark>\n",
       " besturen, beoordeeld en veroordeeld worden. De verslagen dier vergaderingen maken bij velen den indruk, dat het er te \n",
       "<mark class=\"entity\" style=\"background: #feca74; padding: 0.45em 0.6em; margin: 0 0.25em; line-height: 1; border-radius: 0.35em;\">\n",
       "    Parijs\n",
       "    <span style=\"font-size: 0.8em; font-weight: bold; line-height: 1; border-radius: 0.35em; vertical-align: middle; margin-left: 0.5rem\">GPE</span>\n",
       "</mark>\n",
       " met de zoo hoog geroemde eensgezindheid nog zoo rozenkleurig niet uitziet, als Gambetta's proklamatiën wel beweren. In een der laatste vergaderingen werd het tegenwoordig goevernement reeds van verraad jegens de republiek beschuldigd, en als een ontegensprekelijk bewijs hiervoor aangevoerd, dat de regering den intendant, die \n",
       "<mark class=\"entity\" style=\"background: #aa9cfc; padding: 0.45em 0.6em; margin: 0 0.25em; line-height: 1; border-radius: 0.35em;\">\n",
       "    Sedan van levensmiddelen\n",
       "    <span style=\"font-size: 0.8em; font-weight: bold; line-height: 1; border-radius: 0.35em; vertical-align: middle; margin-left: 0.5rem\">PERSON</span>\n",
       "</mark>\n",
       " voorzien had, met een postje begiftigde.Een afkeurend gemor deed zich bij deze woorden vernemen. Toen trad een ander spreker op, die de aandacht op een nota in het \n",
       "<mark class=\"entity\" style=\"background: #f0d0ff; padding: 0.45em 0.6em; margin: 0 0.25em; line-height: 1; border-radius: 0.35em;\">\n",
       "    Journal\n",
       "    <span style=\"font-size: 0.8em; font-weight: bold; line-height: 1; border-radius: 0.35em; vertical-align: middle; margin-left: 0.5rem\">WORK_OF_ART</span>\n",
       "</mark>\n",
       " Ofüciël vestigde, waarin de regering aankondigt, dat zij bereid is te strijden of den vrede op billijke voorwaarden te sluiten. Is dat de taal van een republikeinsch bewind ? riep de spreker uit, en een donderend neen! neen! het is taal van \n",
       "<mark class=\"entity\" style=\"background: #7aecec; padding: 0.45em 0.6em; margin: 0 0.25em; line-height: 1; border-radius: 0.35em;\">\n",
       "    't verraad\n",
       "    <span style=\"font-size: 0.8em; font-weight: bold; line-height: 1; border-radius: 0.35em; vertical-align: middle; margin-left: 0.5rem\">ORG</span>\n",
       "</mark>\n",
       ", weg met de verraders! was 't antwoord. Een republikeinsch bewind moet overwinnen of sterven, riep hij toen uit, en hierop volgden langdurige toejuichingen. Toen verscheen een lang mager man met een langen baard; met \n",
       "<mark class=\"entity\" style=\"background: #e4e7d2; padding: 0.45em 0.6em; margin: 0 0.25em; line-height: 1; border-radius: 0.35em;\">\n",
       "    twee\n",
       "    <span style=\"font-size: 0.8em; font-weight: bold; line-height: 1; border-radius: 0.35em; vertical-align: middle; margin-left: 0.5rem\">CARDINAL</span>\n",
       "</mark>\n",
       ", \n",
       "<mark class=\"entity\" style=\"background: #e4e7d2; padding: 0.45em 0.6em; margin: 0 0.25em; line-height: 1; border-radius: 0.35em;\">\n",
       "    drie\n",
       "    <span style=\"font-size: 0.8em; font-weight: bold; line-height: 1; border-radius: 0.35em; vertical-align: middle; margin-left: 0.5rem\">CARDINAL</span>\n",
       "</mark>\n",
       " lange stappen was hij op het spreekgestoelte, en in een vloed van woorden, bezwoer hij de vergadering om den intogt der Pruissen binnen \n",
       "<mark class=\"entity\" style=\"background: #feca74; padding: 0.45em 0.6em; margin: 0 0.25em; line-height: 1; border-radius: 0.35em;\">\n",
       "    Parijs\n",
       "    <span style=\"font-size: 0.8em; font-weight: bold; line-height: 1; border-radius: 0.35em; vertical-align: middle; margin-left: 0.5rem\">GPE</span>\n",
       "</mark>\n",
       " niet te overleven. »Wij moeten het hun echter beletten binnen de stad te komen,&quot; riep hij in vervoering uit, »tot dat einde moeten wij vechten, alvorens de honger onze ligchamen verzwakt, onzen moed uitgedoofd heeft. Wij geven aan het goevernement \n",
       "<mark class=\"entity\" style=\"background: #bfe1d9; padding: 0.45em 0.6em; margin: 0 0.25em; line-height: 1; border-radius: 0.35em;\">\n",
       "    acht dagen\n",
       "    <span style=\"font-size: 0.8em; font-weight: bold; line-height: 1; border-radius: 0.35em; vertical-align: middle; margin-left: 0.5rem\">DATE</span>\n",
       "</mark>\n",
       " om ons van den vijand te bevrijden.&quot; Neen geen \n",
       "<mark class=\"entity\" style=\"background: #bfe1d9; padding: 0.45em 0.6em; margin: 0 0.25em; line-height: 1; border-radius: 0.35em;\">\n",
       "    acht dagen\n",
       "    <span style=\"font-size: 0.8em; font-weight: bold; line-height: 1; border-radius: 0.35em; vertical-align: middle; margin-left: 0.5rem\">DATE</span>\n",
       "</mark>\n",
       ", hoorde men in de zaal roepen, geen \n",
       "<mark class=\"entity\" style=\"background: #bfe1d9; padding: 0.45em 0.6em; margin: 0 0.25em; line-height: 1; border-radius: 0.35em;\">\n",
       "    acht dagen\n",
       "    <span style=\"font-size: 0.8em; font-weight: bold; line-height: 1; border-radius: 0.35em; vertical-align: middle; margin-left: 0.5rem\">DATE</span>\n",
       "</mark>\n",
       "; tweemaal \n",
       "<mark class=\"entity\" style=\"background: #e4e7d2; padding: 0.45em 0.6em; margin: 0 0.25em; line-height: 1; border-radius: 0.35em;\">\n",
       "    vier\n",
       "    <span style=\"font-size: 0.8em; font-weight: bold; line-height: 1; border-radius: 0.35em; vertical-align: middle; margin-left: 0.5rem\">CARDINAL</span>\n",
       "</mark>\n",
       " en \n",
       "<mark class=\"entity\" style=\"background: #e4e7d2; padding: 0.45em 0.6em; margin: 0 0.25em; line-height: 1; border-radius: 0.35em;\">\n",
       "    twintig\n",
       "    <span style=\"font-size: 0.8em; font-weight: bold; line-height: 1; border-radius: 0.35em; vertical-align: middle; margin-left: 0.5rem\">CARDINAL</span>\n",
       "</mark>\n",
       " uren, en als deze tijd om is, moet het volk zich, voorafgegaan door de republikeinsche maires, naar het stadhuis begeven en daar de \n",
       "<mark class=\"entity\" style=\"background: #9cc9cc; padding: 0.45em 0.6em; margin: 0 0.25em; line-height: 1; border-radius: 0.35em;\">\n",
       "    Commune\n",
       "    <span style=\"font-size: 0.8em; font-weight: bold; line-height: 1; border-radius: 0.35em; vertical-align: middle; margin-left: 0.5rem\">FAC</span>\n",
       "</mark>\n",
       " afkondigen. Dit voorstel werd aangenomen, en onder luide kreten van »leve de \n",
       "<mark class=\"entity\" style=\"background: #feca74; padding: 0.45em 0.6em; margin: 0 0.25em; line-height: 1; border-radius: 0.35em;\">\n",
       "    Commun\n",
       "    <span style=\"font-size: 0.8em; font-weight: bold; line-height: 1; border-radius: 0.35em; vertical-align: middle; margin-left: 0.5rem\">GPE</span>\n",
       "</mark>\n",
       " \n",
       "<mark class=\"entity\" style=\"background: #e4e7d2; padding: 0.45em 0.6em; margin: 0 0.25em; line-height: 1; border-radius: 0.35em;\">\n",
       "    1\n",
       "    <span style=\"font-size: 0.8em; font-weight: bold; line-height: 1; border-radius: 0.35em; vertical-align: middle; margin-left: 0.5rem\">CARDINAL</span>\n",
       "</mark>\n",
       "' ging men uiteen.De opperbevelhebber van het leger in \n",
       "<mark class=\"entity\" style=\"background: #feca74; padding: 0.45em 0.6em; margin: 0 0.25em; line-height: 1; border-radius: 0.35em;\">\n",
       "    Parijs\n",
       "    <span style=\"font-size: 0.8em; font-weight: bold; line-height: 1; border-radius: 0.35em; vertical-align: middle; margin-left: 0.5rem\">GPE</span>\n",
       "</mark>\n",
       ", generaal \n",
       "<mark class=\"entity\" style=\"background: #aa9cfc; padding: 0.45em 0.6em; margin: 0 0.25em; line-height: 1; border-radius: 0.35em;\">\n",
       "    Trochu\n",
       "    <span style=\"font-size: 0.8em; font-weight: bold; line-height: 1; border-radius: 0.35em; vertical-align: middle; margin-left: 0.5rem\">PERSON</span>\n",
       "</mark>\n",
       ", heeft dezer dagen bevel gegeven, dat alle paarden van weelde ter beschikking van het leger moesten gesteld worden. Dit bevel werd over het algemeen zonder tegenpruttelen opgevolgd; de baron \n",
       "<mark class=\"entity\" style=\"background: #feca74; padding: 0.45em 0.6em; margin: 0 0.25em; line-height: 1; border-radius: 0.35em;\">\n",
       "    Rothschild\n",
       "    <span style=\"font-size: 0.8em; font-weight: bold; line-height: 1; border-radius: 0.35em; vertical-align: middle; margin-left: 0.5rem\">GPE</span>\n",
       "</mark>\n",
       " liet onmiddellijk al zijne paarden naar de aangewezen plaatsen brengen.In dezen oorlog begint men het elektriesch licht voor een nieuw doel te gebruiken. Ten einde te voorkomen, dat de gewonden des nachts op het slagveld achterblijven, wordt, zoodra de duisternis valt, het tooneel van den strijd door een krachtig elektrieseh licht beschenen, waardoor 't mogelijk wordt ook dan het begraven der gesneuvelden en het vervoeren der gekwetsten naar de ambulances voort te zetten.Den 26n dezer was het publiek, dat de voorstelling eener koorddanseres, \n",
       "<mark class=\"entity\" style=\"background: #aa9cfc; padding: 0.45em 0.6em; margin: 0 0.25em; line-height: 1; border-radius: 0.35em;\">\n",
       "    Euphrosine Rost\n",
       "    <span style=\"font-size: 0.8em; font-weight: bold; line-height: 1; border-radius: 0.35em; vertical-align: middle; margin-left: 0.5rem\">PERSON</span>\n",
       "</mark>\n",
       " genaamd, in den \n",
       "<mark class=\"entity\" style=\"background: #aa9cfc; padding: 0.45em 0.6em; margin: 0 0.25em; line-height: 1; border-radius: 0.35em;\">\n",
       "    Circus Renz\n",
       "    <span style=\"font-size: 0.8em; font-weight: bold; line-height: 1; border-radius: 0.35em; vertical-align: middle; margin-left: 0.5rem\">PERSON</span>\n",
       "</mark>\n",
       " te \n",
       "<mark class=\"entity\" style=\"background: #feca74; padding: 0.45em 0.6em; margin: 0 0.25em; line-height: 1; border-radius: 0.35em;\">\n",
       "    Berlijn\n",
       "    <span style=\"font-size: 0.8em; font-weight: bold; line-height: 1; border-radius: 0.35em; vertical-align: middle; margin-left: 0.5rem\">GPE</span>\n",
       "</mark>\n",
       " bijwoonde, getuige van een schrikkelijk tooneel. De kunstenares had op het hoog, boven de kroonluchters over de geheele lengte van het cirkus, gespannen koord de moeijelijkste evolutiën met bewonderenswaardige vaardigheid uitgevoerd,. en van zulk eene vastheid blijk gegeven, dat men ook den laatsten en gevaarlijksten toer, den togt over het koord met eene tweewielige velocipède, met meer genoegen dan bezorgdheid te gemoet zag. Bij de aankondiging der voorstellingen was er bijzonder op gedrukt, dat de anders gewone voorzorgsmaatregelen bij zulk een velocipède-togt dezen keer niet genomen waren, wijl de artiste zeker was van \n",
       "<mark class=\"entity\" style=\"background: #aa9cfc; padding: 0.45em 0.6em; margin: 0 0.25em; line-height: 1; border-radius: 0.35em;\">\n",
       "    hare zaak\n",
       "    <span style=\"font-size: 0.8em; font-weight: bold; line-height: 1; border-radius: 0.35em; vertical-align: middle; margin-left: 0.5rem\">PERSON</span>\n",
       "</mark>\n",
       ". Zij ging dan ook, vooruit, achteruit, hield stil, groette het publiek, en reed eindelijk allersnelst naar de tribune terug, het publiek applaudiseerde en juichte, toen zij op eens het evenwigt verloor, met ;velocipède en balanceerstok naar beneden tuimelde, en in een ledige loge teregt kwam. Het gejuich was eensklaps in angst- en jammerkreten verkeerd. De ontroering en verwarring laten zich niet beschrijven. Een aantal dames in onmagt, gierden en gilden op alle toonen. De ongelukkige danseres werd bewusteloos weggedragen. Zij schijnt op den rand der loge te zijn neergekomen.</div></span>"
      ],
      "text/plain": [
       "<IPython.core.display.HTML object>"
      ]
     },
     "metadata": {},
     "output_type": "display_data"
    }
   ],
   "source": [
    "displacy.render(doc, style = \"ent\")"
   ]
  },
  {
   "cell_type": "markdown",
   "id": "00eb9d89",
   "metadata": {},
   "source": [
    "### **Oefening**\n",
    "We hebben net het derde artikel bekeken. Kies nu zelf een ander artikel om te bekijken. \n",
    "Maak eerst een variabel aan voor dit artikel, en roep dan de functie `displacy.render()` aan. "
   ]
  },
  {
   "cell_type": "code",
   "execution_count": 65,
   "id": "b5f35e96",
   "metadata": {},
   "outputs": [],
   "source": [
    "## Maak een nieuwe variabele met de content van één artikel\n",
    "## Voorbeeld syntax: variabele_naam = fiets_nlp['doc'].to_list[nummer van het artikel]"
   ]
  },
  {
   "cell_type": "code",
   "execution_count": 66,
   "id": "f2722b8e",
   "metadata": {},
   "outputs": [],
   "source": [
    "## Gebruik displacy.render() om het artikel te tonen\n",
    "## Voorbeeld syntax: displacy.render(variable_naam, style = \"ent\")"
   ]
  },
  {
   "cell_type": "markdown",
   "id": "1b56712d",
   "metadata": {},
   "source": [
    "Naast de Named Entities op deze manier tonen, kun je er ook verdere analyses mee doen. Je kan ze bijvoorbeeld per category opslaan als losse kolommen in je dataframe en deze kolommen gebruiken om de meest voorkomende entities per categorie te tonen. "
   ]
  },
  {
   "cell_type": "markdown",
   "id": "baa4fe58",
   "metadata": {},
   "source": [
    "Hieronder staat een functie waarmee je Named Entities van een bepaalde soort uit de `doc` kolom kan halen. Deze functie kan je gebruiken om de gevonden entities als een lijst op te slaan in een nieuwe kolom in het dataframe. "
   ]
  },
  {
   "cell_type": "code",
   "execution_count": 70,
   "id": "b47426ac",
   "metadata": {},
   "outputs": [],
   "source": [
    "def get_ner(doc, entity):\n",
    "    return [ent.text for ent in doc.ents if ent.label_ == entity]"
   ]
  },
  {
   "cell_type": "markdown",
   "id": "36e9713b",
   "metadata": {},
   "source": [
    "In het onderstaande voorbeeld wordt de category `GPE` uit het`doc` item gehaald. Deze informatie wordt vervolgens opgeslagen in de kolom `GPE`. "
   ]
  },
  {
   "cell_type": "code",
   "execution_count": 71,
   "id": "2e05974f",
   "metadata": {},
   "outputs": [],
   "source": [
    "fiets_nlp['GPE'] = fiets_nlp['doc'].apply(lambda x: get_ner(x, 'GPE'))"
   ]
  },
  {
   "cell_type": "markdown",
   "id": "cef8df4a",
   "metadata": {},
   "source": [
    "Vervolgens kun je deze nieuwe kolom weer gebruiken om een top 10 van de meest voorkomende GPE locaties uit de dataset te halen. "
   ]
  },
  {
   "cell_type": "code",
   "execution_count": 72,
   "id": "8cf0798f",
   "metadata": {},
   "outputs": [
    {
     "data": {
      "text/plain": [
       "Parijs         159\n",
       "Amsterdam       92\n",
       "Frankrijk       82\n",
       "Londen          81\n",
       "Engeland        78\n",
       "Berlijn         44\n",
       "Rotterdam       41\n",
       "Amerika         40\n",
       "Brussel         37\n",
       "Duitschland     34\n",
       "dtype: int64"
      ]
     },
     "execution_count": 72,
     "metadata": {},
     "output_type": "execute_result"
    }
   ],
   "source": [
    "word_counter(fiets_nlp['GPE']).head(10)"
   ]
  },
  {
   "cell_type": "markdown",
   "id": "2fee9576",
   "metadata": {},
   "source": [
    "### **Oefening** \n",
    "Maak nu zelf een kolom aan voor een andere Named Entity naar keuze, en bekijk de top 10. Kies een entity uit de lijst hierboven. "
   ]
  },
  {
   "cell_type": "code",
   "execution_count": 73,
   "id": "ece31fbd",
   "metadata": {},
   "outputs": [],
   "source": [
    "## Stap 1: maak een nieuwe kolom aan voor de gekozen entity\n",
    "## Voorbeeld syntax: fiets_nlp['naam nieuwe kolom'] = fiets_nlp['doc'].apply(lambda x: get_ner(x, 'naam entity'))"
   ]
  },
  {
   "cell_type": "code",
   "execution_count": 74,
   "id": "d77f36d3",
   "metadata": {},
   "outputs": [],
   "source": [
    "## Stap 2: Toon de tien meest voorkomende woorden van je gekozen category.\n",
    "## Word counter: word_counter(fiets_nlp['nieuwe kolom']).head(10)"
   ]
  },
  {
   "cell_type": "markdown",
   "id": "40d5a17a",
   "metadata": {},
   "source": [
    "### **Bonus oefening**\n",
    "Doe hetzelfde voor enkele andere Named Entities. Kun je ook een top 15 of 25 maken?"
   ]
  },
  {
   "cell_type": "code",
   "execution_count": 75,
   "id": "5569c6ff",
   "metadata": {},
   "outputs": [],
   "source": [
    "## Schrijf hier de code voor de bonus oefening"
   ]
  },
  {
   "cell_type": "markdown",
   "id": "8d0b200c",
   "metadata": {},
   "source": [
    "Hierboven hebben we telkens de top 10 van een Named Entity op de hele dataset getoond. Je kunt de dataset ook splitsen, en dan de top 10 van de verschillende subframes vergelijken. \n",
    "\n",
    "We geven hieronder een voorbeeld voor de Named Entity `GPE` en we splitsen de dataframe op basis van de kolom `spatial`. \n",
    "\n",
    "We beginnen  met het maken van twee subdataframes: `landelijk_df` en `lokaal_df`."
   ]
  },
  {
   "cell_type": "code",
   "execution_count": 77,
   "id": "871e5c2a",
   "metadata": {},
   "outputs": [],
   "source": [
    "landelijk_df = fiets_nlp[fiets_nlp['spatial'] == 'Landelijk']"
   ]
  },
  {
   "cell_type": "code",
   "execution_count": 86,
   "id": "1cecc3f7",
   "metadata": {},
   "outputs": [],
   "source": [
    "regionaal_df = fiets_nlp[fiets_nlp['spatial'] == 'Regionaal/lokaal']"
   ]
  },
  {
   "cell_type": "markdown",
   "id": "7f96e81c",
   "metadata": {},
   "source": [
    "Nu kunnen we deze subframes gebruiken voor een top 10 per frame, waarna we deze kunnen vergelijken met elkaar. "
   ]
  },
  {
   "cell_type": "code",
   "execution_count": 80,
   "id": "3bb1e512",
   "metadata": {},
   "outputs": [
    {
     "data": {
      "text/plain": [
       "Parijs       23\n",
       "Londen       16\n",
       "Berlijn      12\n",
       "Engeland     12\n",
       "Frankrijk    12\n",
       "Amsterdam    11\n",
       "Brussel      10\n",
       "Weenen        8\n",
       "Haarlem       6\n",
       "Zwolle        6\n",
       "dtype: int64"
      ]
     },
     "execution_count": 80,
     "metadata": {},
     "output_type": "execute_result"
    }
   ],
   "source": [
    "word_counter(landelijk_df['GPE']).head(10)"
   ]
  },
  {
   "cell_type": "code",
   "execution_count": 87,
   "id": "b8b78997",
   "metadata": {},
   "outputs": [
    {
     "data": {
      "text/plain": [
       "Parijs         136\n",
       "Amsterdam       81\n",
       "Frankrijk       70\n",
       "Engeland        66\n",
       "Londen          65\n",
       "Amerika         38\n",
       "Rotterdam       36\n",
       "Berlijn         32\n",
       "Duitschland     30\n",
       "Utrecht         30\n",
       "dtype: int64"
      ]
     },
     "execution_count": 87,
     "metadata": {},
     "output_type": "execute_result"
    }
   ],
   "source": [
    "word_counter(regionaal_df['GPE']).head(10)"
   ]
  },
  {
   "cell_type": "markdown",
   "id": "9d779386",
   "metadata": {},
   "source": [
    "### **Oefening**\n",
    "Gebruik de subframes `landelijk_df` en `regionaal_df` om de meest voorkomenden woorden van jouw eigen gekozen entity te vergelijken. Gebruik hiervoor de kolom die bij de oefening hierboven zelf hebt aangemaakt. "
   ]
  },
  {
   "cell_type": "code",
   "execution_count": 88,
   "id": "3834d3c5",
   "metadata": {},
   "outputs": [],
   "source": [
    "## Voorbeel syntax: word_counter(landelijk_df['kolomnaam eigen entity']).head(10)"
   ]
  },
  {
   "cell_type": "code",
   "execution_count": null,
   "id": "55a42db1",
   "metadata": {},
   "outputs": [],
   "source": [
    "## Voorbeel syntax: word_counter(regionaal_df['kolomnaam eigen entity']).head(10)"
   ]
  }
 ],
 "metadata": {
  "kernelspec": {
   "display_name": "Python 3 (ipykernel)",
   "language": "python",
   "name": "python3"
  },
  "language_info": {
   "codemirror_mode": {
    "name": "ipython",
    "version": 3
   },
   "file_extension": ".py",
   "mimetype": "text/x-python",
   "name": "python",
   "nbconvert_exporter": "python",
   "pygments_lexer": "ipython3",
   "version": "3.9.12"
  }
 },
 "nbformat": 4,
 "nbformat_minor": 5
}
