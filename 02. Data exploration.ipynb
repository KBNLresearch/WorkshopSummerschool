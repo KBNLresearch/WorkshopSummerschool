{
 "cells": [
  {
   "cell_type": "markdown",
   "id": "bb999c48",
   "metadata": {},
   "source": [
    "# Data exploratie"
   ]
  },
  {
   "cell_type": "markdown",
   "id": "d87573a7",
   "metadata": {},
   "source": [
    "Nadat de data inspectie is afgerond, kunnen we door naar de data exploratie. Hierbij duiken we wat dieper de data in om meer inzicht in onze dataset te krijgen, en wellicht al enkele conclusies te kunnen trekken. \n",
    "\n",
    "We kunnen dit op twee manieren doen: puur numeriek, of met visualisaties. We beginnen met een demonstratie van beide opties, en vervolgen dan met de meest gebruikte manier: visualisaties. Maar welke je uiteindelijk voor je eigen onderzoek wilt gebruiken is naar eigen keuze. "
   ]
  },
  {
   "cell_type": "markdown",
   "id": "77e43b24",
   "metadata": {},
   "source": [
    "Zoals altijd is de eerste stap het importeren van de benodigde package"
   ]
  },
  {
   "cell_type": "code",
   "execution_count": 1,
   "id": "83562c8c",
   "metadata": {},
   "outputs": [],
   "source": [
    "import pandas as pd"
   ]
  },
  {
   "cell_type": "markdown",
   "id": "a29b6426",
   "metadata": {},
   "source": [
    "En daarna laden we ons zojuist gemaakte dataset:"
   ]
  },
  {
   "cell_type": "code",
   "execution_count": 3,
   "id": "8b9f4440",
   "metadata": {},
   "outputs": [],
   "source": [
    "data = pd.read_csv('data/data_new.csv', index_col = 0)"
   ]
  },
  {
   "cell_type": "markdown",
   "id": "a5f4272e",
   "metadata": {},
   "source": [
    "En we controleren of ons dataframe juist is ingeladen."
   ]
  },
  {
   "cell_type": "markdown",
   "id": "6733fa0e",
   "metadata": {},
   "source": [
    "data.head(2)"
   ]
  },
  {
   "cell_type": "markdown",
   "id": "560d9212",
   "metadata": {},
   "source": [
    "## Eerste exploraties"
   ]
  },
  {
   "cell_type": "markdown",
   "id": "6b0cb425",
   "metadata": {},
   "source": [
    "We beginnen met het bekijken van enkele categoriale waardes. Zoals hierboven gezegd kan dit zowel met nummers als met visualisaties.\n",
    "\n",
    "Als eerste stap willen we de hoeveelheden per categorie zien. We gebruiken hiervoor de kolom `category` en de functie `values_count()`. Deze functie telt, zoals de naam al doet vermoeden, het aantal voorkomens per category. "
   ]
  },
  {
   "cell_type": "code",
   "execution_count": 5,
   "id": "3da983e0",
   "metadata": {},
   "outputs": [
    {
     "data": {
      "text/plain": [
       "trein    21049\n",
       "fiets      891\n",
       "Name: category, dtype: int64"
      ]
     },
     "execution_count": 5,
     "metadata": {},
     "output_type": "execute_result"
    }
   ],
   "source": [
    "data['category'].value_counts()"
   ]
  },
  {
   "cell_type": "markdown",
   "id": "6f059f7a",
   "metadata": {},
   "source": [
    "Deze aantallen kunnen we dus ook visualiseren. Dit doen we met de functie `plot()`.\n",
    "Er zijn meerdere soorten visualisaties mogelijk. In deze workshop maken we gebruik van het taartdiagram (piechart) en het staafdiagram (barchart).\n",
    "\n",
    "We beginnen met het taartdiagram. Hiervoor tellen we eerst de aantallen met `values_count()` en daarachtet plaatsen we de `plot` functie, waarbij we tussen de haakjes aangeven dat we als `kind` de `pie` willen (van piechart). \n",
    "\n",
    "Zoals je ziet hebben we de `values_count()` en `plot()` functie achter elkaar geplakt. In Python kan je oneindig veel functies achter elkaar plakken. Voor de leesbaarheid is dit echter niet altijd gewenst, en wil je soms met tussenstappen werken. Voor deze code is dat echter nog niet van belang. "
   ]
  },
  {
   "cell_type": "code",
   "execution_count": 6,
   "id": "ba7e2f81",
   "metadata": {},
   "outputs": [
    {
     "data": {
      "text/plain": [
       "<AxesSubplot:ylabel='category'>"
      ]
     },
     "execution_count": 6,
     "metadata": {},
     "output_type": "execute_result"
    },
    {
     "data": {
      "image/png": "[encoded data removed]",
      "text/plain": [
       "<Figure size 432x288 with 1 Axes>"
      ]
     },
     "metadata": {},
     "output_type": "display_data"
    }
   ],
   "source": [
    "data['category'].value_counts().plot(kind = 'pie')"
   ]
  },
  {
   "cell_type": "markdown",
   "id": "27e0c295",
   "metadata": {},
   "source": [
    "Als we bij `kind` de waarde veranderen in `bar` of `barh`,  krijg je respectievelijk een gewoon of horizontaal staafdiagram. "
   ]
  },
  {
   "cell_type": "code",
   "execution_count": 7,
   "id": "7a26899a",
   "metadata": {},
   "outputs": [
    {
     "data": {
      "text/plain": [
       "<AxesSubplot:>"
      ]
     },
     "execution_count": 7,
     "metadata": {},
     "output_type": "execute_result"
    },
    {
     "data": {
      "image/png": "[encoded data removed]",
      "text/plain": [
       "<Figure size 432x288 with 1 Axes>"
      ]
     },
     "metadata": {
      "needs_background": "light"
     },
     "output_type": "display_data"
    }
   ],
   "source": [
    "data['category'].value_counts().plot(kind = 'bar')"
   ]
  },
  {
   "cell_type": "code",
   "execution_count": 8,
   "id": "bcf48cfe",
   "metadata": {},
   "outputs": [
    {
     "data": {
      "text/plain": [
       "<AxesSubplot:>"
      ]
     },
     "execution_count": 8,
     "metadata": {},
     "output_type": "execute_result"
    },
    {
     "data": {
      "image/png": "[encoded data removed]",
      "text/plain": [
       "<Figure size 432x288 with 1 Axes>"
      ]
     },
     "metadata": {
      "needs_background": "light"
     },
     "output_type": "display_data"
    }
   ],
   "source": [
    "data['category'].value_counts().plot(kind = 'barh')"
   ]
  },
  {
   "cell_type": "markdown",
   "id": "ccf29432",
   "metadata": {},
   "source": [
    "#### **Oefening** \n",
    "Maak zelf een visualisatie van de inhoud van de kolom `type`. Je kiest zelf of je een taart- of staafdiagram maakt. "
   ]
  },
  {
   "cell_type": "code",
   "execution_count": 13,
   "id": "22338d7e",
   "metadata": {},
   "outputs": [],
   "source": [
    "## Schrijf hier de code voor een visualisatie van de kolom 'type'\n",
    "## voorbeeld syntax: data['kolomnaam'].value_counts().plot(kind = 'soort visualisatie')\n",
    "## Voor de soort visualisatie kun je kiezen uit één van deze drie: 'pie', 'bar', of 'barh'"
   ]
  },
  {
   "cell_type": "markdown",
   "id": "b02dc83d",
   "metadata": {},
   "source": [
    "#### **Oefening** \n",
    "Doe hetzelfde voor de kolom `spatial`. "
   ]
  },
  {
   "cell_type": "code",
   "execution_count": null,
   "id": "eba37bac",
   "metadata": {},
   "outputs": [],
   "source": [
    "## Schrijf hier de code voor een visualisatie van de kolom 'spatial'\n",
    "## voorbeeld syntax: data['kolomnaam'].value_counts().plot(kind = 'soort visualisatie')"
   ]
  },
  {
   "cell_type": "markdown",
   "id": "78ed60b9",
   "metadata": {},
   "source": [
    "### Onderverdelen dataset\n",
    "\n",
    "Zoals je ziet is er een groot verschil tussen het aantal artikelen over fietsen en over treinen. Door deze scheve verdeling is het bijvoorbeeld lastig om een goed beeld te krijgen van de subcategorieën per categorie. \n",
    "\n",
    "We verdelen daarom voor de volgende exploratie de dataset in twee: eentje met alleen alle artikelen over treinen, en eentje met alleen alle artikelen over fietsen. "
   ]
  },
  {
   "cell_type": "markdown",
   "id": "c4545bec",
   "metadata": {},
   "source": [
    "Om het dataframe in twee te verdelen, maken we twee nieuwe dataframes. Deze geven we de naam `fiets_df` en `trein_df` (df staat voor dataframe). Vervolgens passen we een filter toe op het originele dataframe `data`. \n",
    "\n",
    "Dit doen we op de voglende manier:"
   ]
  },
  {
   "cell_type": "code",
   "execution_count": 15,
   "id": "e41d9a29",
   "metadata": {},
   "outputs": [],
   "source": [
    "fiets_df = data[data['category'] == 'fiets']"
   ]
  },
  {
   "cell_type": "markdown",
   "id": "b4c8063f",
   "metadata": {},
   "source": [
    "#### **Oefening**\n",
    "Maak nu op dezelfde manier een dataframe voor treinen"
   ]
  },
  {
   "cell_type": "code",
   "execution_count": 16,
   "id": "b1e59c70",
   "metadata": {},
   "outputs": [],
   "source": [
    "## Schrijf hier de code waarin je een nieuwe dataframe genaamd `trein_df` maakt.\n",
    "## Voorbeeld syntax: naam_nieuw_dataframe = data[data['category'] == 'categorie waarop je filtert']\n",
    "trein_df = data[data['category'] == 'trein']"
   ]
  },
  {
   "cell_type": "markdown",
   "id": "c79114ef",
   "metadata": {},
   "source": [
    "### Exploraties sub dataframes"
   ]
  },
  {
   "cell_type": "markdown",
   "id": "1e196edb",
   "metadata": {},
   "source": [
    "Nu kunnen we naar de verdelding van de subcategorieën kijken. <br>\n",
    "**Let op!** hiervoor gebruiken we dus de nieuwe dataframes `fiets_df` en `trein_df`! \n",
    "\n",
    "We gebruiken hiervoor weer de `value_counts()` en `plot` functies. "
   ]
  },
  {
   "cell_type": "code",
   "execution_count": null,
   "id": "4d9ac1b5",
   "metadata": {},
   "outputs": [],
   "source": [
    "fiets_df['subcategory'].value_counts().plot(kind = 'barh' )"
   ]
  },
  {
   "cell_type": "markdown",
   "id": "fdcad415",
   "metadata": {},
   "source": [
    "#### **Oefening** \n",
    "Maak nu zelf een horizontaal staafdiagram voor alle subcategorieën in het dataframe `trein_df`. \n",
    "Let goed op dat je het goede dataframe aanroept!"
   ]
  },
  {
   "cell_type": "code",
   "execution_count": null,
   "id": "b3b4a64b",
   "metadata": {},
   "outputs": [],
   "source": [
    "## Schrijf hier de code voor het staafdiagram\n",
    "## Voorbeeld syntax: naam_dataframe['subcategory'].value_counts().plot(kind = 'barh' )"
   ]
  },
  {
   "cell_type": "markdown",
   "id": "e81859db",
   "metadata": {},
   "source": [
    "In plaats van het kijken naar subcategory, kunnen we ditzelfde ook doen voor andere kolommen. "
   ]
  },
  {
   "cell_type": "markdown",
   "id": "e3ffecf7",
   "metadata": {},
   "source": [
    "#### **Oefening** \n",
    "\n",
    "We gaan nu kijken naar de verdeling van het type bericht dat genoemd staat in de kolom `type`. <br>\n",
    "Maak twee horizontale staafdiagrammen. <br>\n",
    "De eerste toont de verdeling van type artikelen in het dataframe `fiets_df`. En de tweede toont de verdeling van deze kolom voor het dataframe `trein_df`. \n",
    "\n"
   ]
  },
  {
   "cell_type": "code",
   "execution_count": null,
   "id": "95f6713f",
   "metadata": {},
   "outputs": [],
   "source": [
    "## Hier komt de code voor de verdeling van het type berichten van het dataframe 'fiets_df'\n",
    "## Voorbeeld syntax: naam_dataframe['naam kolom'].value_counts().plot(kind = 'barh')"
   ]
  },
  {
   "cell_type": "code",
   "execution_count": 19,
   "id": "7b594891",
   "metadata": {},
   "outputs": [],
   "source": [
    "## Hier komt de code voor de verdeling van het type berichten van het dataframe 'trein_df'\n",
    "## Voorbeeld syntax: naam_dataframe['naam kolom'].value_counts().plot(kind = 'barh')"
   ]
  },
  {
   "cell_type": "markdown",
   "id": "fee00169",
   "metadata": {},
   "source": [
    "Wat is het verschil in verdeling tussen de twee dataframes?\n",
    "**Let op!** De volgorde van categorieën wordt getoond op basis van aantallen, dus de volgorde kan per grafiek anders zijn. "
   ]
  },
  {
   "cell_type": "markdown",
   "id": "9a3becdc",
   "metadata": {},
   "source": [
    "We kunnen ook kijken naar de verdeling over de jaren. "
   ]
  },
  {
   "cell_type": "code",
   "execution_count": 20,
   "id": "fd459612",
   "metadata": {},
   "outputs": [
    {
     "data": {
      "text/plain": [
       "<AxesSubplot:>"
      ]
     },
     "execution_count": 20,
     "metadata": {},
     "output_type": "execute_result"
    },
    {
     "data": {
      "image/png": "[encoded data removed]",
      "text/plain": [
       "<Figure size 432x288 with 1 Axes>"
      ]
     },
     "metadata": {
      "needs_background": "light"
     },
     "output_type": "display_data"
    }
   ],
   "source": [
    "fiets_df.Year.value_counts().plot(kind = 'bar')"
   ]
  },
  {
   "cell_type": "markdown",
   "id": "114e11a2",
   "metadata": {},
   "source": [
    "Als je goed naar de grafiek kijkt, zie je dat deze netjes gesorteerd is van hoog naar laag, maar dat de jaren door elkaar staan. Om dit op te lossen maken we eerst een nieuwe dataframe met de aantallen per jaar. Dit doen we met de `value_counts()` functie. Vervolgens sorteren we dit dataframe op jaar, door de functie `sort_index()`. Daarna gebruiken we dit dataframe voor het plotten van het staafdiagram. "
   ]
  },
  {
   "cell_type": "markdown",
   "id": "54592f12",
   "metadata": {},
   "source": [
    "Stap 1: Maak een nieuwe dataframe, genaamd `fiets_tijd`, waarin je de aantallen per jaar berekent met de functie `value_counts()`"
   ]
  },
  {
   "cell_type": "code",
   "execution_count": 29,
   "id": "954488cf",
   "metadata": {},
   "outputs": [],
   "source": [
    "fiets_tijd = fiets_df['Year'].value_counts()"
   ]
  },
  {
   "cell_type": "code",
   "execution_count": 30,
   "id": "b5635865",
   "metadata": {},
   "outputs": [
    {
     "data": {
      "text/plain": [
       "1869    124\n",
       "1884     94\n",
       "1878     75\n",
       "Name: Year, dtype: int64"
      ]
     },
     "execution_count": 30,
     "metadata": {},
     "output_type": "execute_result"
    }
   ],
   "source": [
    "fiets_tijd.head(3)"
   ]
  },
  {
   "cell_type": "markdown",
   "id": "7471b9a0",
   "metadata": {},
   "source": [
    "Stap 2: Sorteer het dataframe op jaar. Jaar is nu de eerste kolom, en wordt door Python gezien als de index. We kunnen daarom op jaar sorteren met de functie `sort_index()`. "
   ]
  },
  {
   "cell_type": "code",
   "execution_count": 31,
   "id": "2dfb45c7",
   "metadata": {},
   "outputs": [],
   "source": [
    "fiets_tijd = fiets_tijd.sort_index()"
   ]
  },
  {
   "cell_type": "code",
   "execution_count": 33,
   "id": "1d26f820",
   "metadata": {},
   "outputs": [
    {
     "data": {
      "text/plain": [
       "1869    124\n",
       "1870     26\n",
       "1871     50\n",
       "Name: Year, dtype: int64"
      ]
     },
     "execution_count": 33,
     "metadata": {},
     "output_type": "execute_result"
    }
   ],
   "source": [
    "fiets_tijd.head(3)"
   ]
  },
  {
   "cell_type": "markdown",
   "id": "429aa7da",
   "metadata": {},
   "source": [
    "Stap 3: Plot het staafdiagram"
   ]
  },
  {
   "cell_type": "code",
   "execution_count": 34,
   "id": "b4164d0b",
   "metadata": {},
   "outputs": [
    {
     "data": {
      "text/plain": [
       "<AxesSubplot:>"
      ]
     },
     "execution_count": 34,
     "metadata": {},
     "output_type": "execute_result"
    },
    {
     "data": {
      "image/png": "[encoded data removed]",
      "text/plain": [
       "<Figure size 432x288 with 1 Axes>"
      ]
     },
     "metadata": {
      "needs_background": "light"
     },
     "output_type": "display_data"
    }
   ],
   "source": [
    "fiets_tijd.plot(kind = 'bar')"
   ]
  },
  {
   "cell_type": "markdown",
   "id": "126eac5e",
   "metadata": {},
   "source": [
    "Zoals je ziet staan de jaren nu in de goede volgorde!\n",
    "\n",
    "Zoals gezegd kan je in Python oneindig functies aan elkaar plakken. Bovenstaande stappen kunnen dus ook in één stap geschreven worden:"
   ]
  },
  {
   "cell_type": "code",
   "execution_count": 37,
   "id": "ee212920",
   "metadata": {},
   "outputs": [
    {
     "data": {
      "text/plain": [
       "<AxesSubplot:>"
      ]
     },
     "execution_count": 37,
     "metadata": {},
     "output_type": "execute_result"
    },
    {
     "data": {
      "image/png": "[encoded data removed]",
      "text/plain": [
       "<Figure size 432x288 with 1 Axes>"
      ]
     },
     "metadata": {
      "needs_background": "light"
     },
     "output_type": "display_data"
    }
   ],
   "source": [
    "fiets_df['Year'].value_counts().sort_index().plot(kind = 'bar')"
   ]
  },
  {
   "cell_type": "markdown",
   "id": "2b5f1eb8",
   "metadata": {},
   "source": [
    "### **Oefening** \n",
    "\n",
    "Maak nu zelf een staafdiagram met het aantal artikelen van het dataframe `trein_df` over de jaren. Vergeet niet eerst een gesorteerd subdataframe te maken!\n",
    "Je kan zelf kiezen of je dit in drie stappen opdeelt of in één keer doet. Voor beide staat een voorbeeld syntax. "
   ]
  },
  {
   "cell_type": "markdown",
   "id": "4a22e121",
   "metadata": {},
   "source": [
    "**In stappen**"
   ]
  },
  {
   "cell_type": "code",
   "execution_count": null,
   "id": "fdc18e96",
   "metadata": {},
   "outputs": [],
   "source": [
    "## Maak een subdataframe met aantal artikelen per jaar van het dataframe 'trein_df'\n",
    "## Voorbeeld syntax: naam_nieuw_subdataframe = naam_trein_df['kolomnaam'].value_counts()\n"
   ]
  },
  {
   "cell_type": "code",
   "execution_count": 38,
   "id": "3da705e6",
   "metadata": {},
   "outputs": [],
   "source": [
    "## Sorteer het subdataframe\n",
    "## Voorbeeld syntax: naam_subdataframe = naam_subdataframe.sort_index()"
   ]
  },
  {
   "cell_type": "code",
   "execution_count": null,
   "id": "b0ed01b9",
   "metadata": {},
   "outputs": [],
   "source": [
    "## Toon het staafdiagram\n",
    "## Voorbeeld syntax: naam_subdataframe.plot(kind = 'bar')"
   ]
  },
  {
   "cell_type": "markdown",
   "id": "e80b6458",
   "metadata": {},
   "source": [
    "**In één keer**"
   ]
  },
  {
   "cell_type": "code",
   "execution_count": null,
   "id": "51b82dce",
   "metadata": {},
   "outputs": [],
   "source": [
    "## Voorbeeld syntax: naam_dataframe['kolomnaam'].value_counts().sort_index().plot(kind = 'bar')"
   ]
  },
  {
   "cell_type": "markdown",
   "id": "0eb08e86",
   "metadata": {},
   "source": [
    "## Ter illustratie\n",
    "\n",
    "### Complexere staafdiagrammen\n",
    "We kunnen ook twee kolommen combineren in een staafdiagram. \n",
    "In onderstaand voorbeeld kijken we per jaar wat de verdeling is tussen de verschillende soorten artikelen. \n",
    "\n",
    "We beginnen met de functie `crosstab` waarmee je een nieuw dataframe maakt. "
   ]
  },
  {
   "cell_type": "code",
   "execution_count": 42,
   "id": "192c6346",
   "metadata": {},
   "outputs": [],
   "source": [
    "temp_fiets = pd.crosstab(index=fiets_df['Year'], columns=fiets_df['type'])"
   ]
  },
  {
   "cell_type": "code",
   "execution_count": 40,
   "id": "5a237350",
   "metadata": {},
   "outputs": [
    {
     "data": {
      "text/html": [
       "<div>\n",
       "<style scoped>\n",
       "    .dataframe tbody tr th:only-of-type {\n",
       "        vertical-align: middle;\n",
       "    }\n",
       "\n",
       "    .dataframe tbody tr th {\n",
       "        vertical-align: top;\n",
       "    }\n",
       "\n",
       "    .dataframe thead th {\n",
       "        text-align: right;\n",
       "    }\n",
       "</style>\n",
       "<table border=\"1\" class=\"dataframe\">\n",
       "  <thead>\n",
       "    <tr style=\"text-align: right;\">\n",
       "      <th>type</th>\n",
       "      <th>advertentie</th>\n",
       "      <th>artikel</th>\n",
       "      <th>familiebericht</th>\n",
       "    </tr>\n",
       "    <tr>\n",
       "      <th>Year</th>\n",
       "      <th></th>\n",
       "      <th></th>\n",
       "      <th></th>\n",
       "    </tr>\n",
       "  </thead>\n",
       "  <tbody>\n",
       "    <tr>\n",
       "      <th>1869</th>\n",
       "      <td>25</td>\n",
       "      <td>99</td>\n",
       "      <td>0</td>\n",
       "    </tr>\n",
       "    <tr>\n",
       "      <th>1870</th>\n",
       "      <td>7</td>\n",
       "      <td>18</td>\n",
       "      <td>1</td>\n",
       "    </tr>\n",
       "  </tbody>\n",
       "</table>\n",
       "</div>"
      ],
      "text/plain": [
       "type  advertentie  artikel  familiebericht\n",
       "Year                                      \n",
       "1869           25       99               0\n",
       "1870            7       18               1"
      ]
     },
     "execution_count": 40,
     "metadata": {},
     "output_type": "execute_result"
    }
   ],
   "source": [
    "temp_fiets.head(2)"
   ]
  },
  {
   "cell_type": "markdown",
   "id": "db7c3715",
   "metadata": {},
   "source": [
    "En vervolgens gebruiken we weer `plot` voor het tonen van het dataframe, met deze keer een nieuwe conditie erbij, namelijk `stacked = True`. Dit zorgt ervoor dat alle soorten artikelen per jaar in één staaf getoond worden. Bij `stacked = False` komen ze naast elkaar te staan. "
   ]
  },
  {
   "cell_type": "code",
   "execution_count": 46,
   "id": "2b1ba589",
   "metadata": {},
   "outputs": [
    {
     "data": {
      "text/plain": [
       "<AxesSubplot:xlabel='Year'>"
      ]
     },
     "execution_count": 46,
     "metadata": {},
     "output_type": "execute_result"
    },
    {
     "data": {
      "image/png": "[encoded data removed]",
      "text/plain": [
       "<Figure size 432x288 with 1 Axes>"
      ]
     },
     "metadata": {
      "needs_background": "light"
     },
     "output_type": "display_data"
    }
   ],
   "source": [
    "temp_fiets.plot(kind = 'bar', stacked = True)"
   ]
  },
  {
   "cell_type": "markdown",
   "id": "a8941633",
   "metadata": {},
   "source": [
    "### Groupby functie"
   ]
  },
  {
   "cell_type": "markdown",
   "id": "9ed4a30d",
   "metadata": {},
   "source": [
    "Een heel erg veel gebruikte functie in combinatie met dataframes is de `groupby` functie. Deze functie kun je gebruiken voor allerhande dwarsdoorsnedes van je dataframe. Als je zelf met Python aan de slag gaat, kan ik je ten zeerste aanbevelen om je in deze functie te verdiepen!\n",
    "\n",
    "Hieronder tonen we twee simpele voorbeelden van een `groupby` functie. We willen hierbij kijken naar het gemiddelde en de mediaan van de DL score per type artikel. "
   ]
  },
  {
   "cell_type": "code",
   "execution_count": 47,
   "id": "90996531",
   "metadata": {},
   "outputs": [
    {
     "data": {
      "text/plain": [
       "type\n",
       "advertentie       46.680364\n",
       "artikel           69.304103\n",
       "familiebericht    44.110393\n",
       "Name: DL score, dtype: float64"
      ]
     },
     "execution_count": 47,
     "metadata": {},
     "output_type": "execute_result"
    }
   ],
   "source": [
    "data.groupby('type')['DL score'].mean()"
   ]
  },
  {
   "cell_type": "code",
   "execution_count": 48,
   "id": "10b5816e",
   "metadata": {},
   "outputs": [
    {
     "data": {
      "text/plain": [
       "type\n",
       "advertentie       47.204122\n",
       "artikel           71.644549\n",
       "familiebericht    48.548272\n",
       "Name: DL score, dtype: float64"
      ]
     },
     "execution_count": 48,
     "metadata": {},
     "output_type": "execute_result"
    }
   ],
   "source": [
    "data.groupby('type')['DL score'].median()"
   ]
  },
  {
   "cell_type": "markdown",
   "id": "cbeae35a",
   "metadata": {},
   "source": [
    "Zoals je ziet kun je dit goed gebruiken voor een snelle dwarsdoorsnede, om bijvoorbeeld te zien of er bepaalde type artikelen zijn waarbij de DL score slechter of minder slecht is. "
   ]
  }
 ],
 "metadata": {
  "kernelspec": {
   "display_name": "Python 3 (ipykernel)",
   "language": "python",
   "name": "python3"
  },
  "language_info": {
   "codemirror_mode": {
    "name": "ipython",
    "version": 3
   },
   "file_extension": ".py",
   "mimetype": "text/x-python",
   "name": "python",
   "nbconvert_exporter": "python",
   "pygments_lexer": "ipython3",
   "version": "3.9.12"
  }
 },
 "nbformat": 4,
 "nbformat_minor": 5
}
