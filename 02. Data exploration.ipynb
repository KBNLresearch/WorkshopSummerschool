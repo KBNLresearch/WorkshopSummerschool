{
 "cells": [
  {
   "cell_type": "markdown",
   "id": "bb999c48",
   "metadata": {},
   "source": [
    "# Data exploration"
   ]
  },
  {
   "cell_type": "markdown",
   "id": "64f41210",
   "metadata": {},
   "source": [
    "After inspecting the data and removing/fixing the anomolies, its time to dive a bit deeper into the data and explore it further. We can do this in two ways: by showing the numbers, or with the use of visualisations. Most people prefer the visualisations, but it is up to you which one you like the best. "
   ]
  },
  {
   "cell_type": "code",
   "execution_count": null,
   "id": "83562c8c",
   "metadata": {},
   "outputs": [],
   "source": [
    "import pandas as pd"
   ]
  },
  {
   "cell_type": "markdown",
   "id": "a29b6426",
   "metadata": {},
   "source": [
    "We start with loading the updated dataframe made in the previous Notebook:"
   ]
  },
  {
   "cell_type": "code",
   "execution_count": null,
   "id": "8b9f4440",
   "metadata": {},
   "outputs": [],
   "source": [
    "data = pd.read_csv('data/data_new.csv', index_col = 0)"
   ]
  },
  {
   "cell_type": "markdown",
   "id": "a5f4272e",
   "metadata": {},
   "source": [
    "Controleren of het Notebook goed is ingeladen"
   ]
  },
  {
   "cell_type": "code",
   "execution_count": null,
   "id": "1ff87a6d",
   "metadata": {},
   "outputs": [],
   "source": [
    "data.head(2)"
   ]
  },
  {
   "cell_type": "markdown",
   "id": "6b0cb425",
   "metadata": {},
   "source": [
    "We beginnen met het bekijken van de categoriale waardes. Zoals hierboven gezegd kan dit zowel met nummers als met visualisaties"
   ]
  },
  {
   "cell_type": "code",
   "execution_count": null,
   "id": "3da983e0",
   "metadata": {},
   "outputs": [],
   "source": [
    "data.category.value_counts()"
   ]
  },
  {
   "cell_type": "code",
   "execution_count": null,
   "id": "ba7e2f81",
   "metadata": {},
   "outputs": [],
   "source": [
    "data['category'].value_counts().plot(kind = 'pie')"
   ]
  },
  {
   "cell_type": "code",
   "execution_count": null,
   "id": "ebdb4b57",
   "metadata": {},
   "outputs": [],
   "source": [
    "data.type.value_counts().plot(kind = 'barh' )"
   ]
  },
  {
   "cell_type": "markdown",
   "id": "62c00d8c",
   "metadata": {},
   "source": [
    "Print nu zelf zowel een pie chart als een bar chart voor de category spatial. "
   ]
  },
  {
   "cell_type": "code",
   "execution_count": null,
   "id": "22338d7e",
   "metadata": {},
   "outputs": [],
   "source": [
    "## Hier de code voor pie chart spatial\n",
    "## voorbeeld syntax: data['kolomnaam'].value_counts().plot(kind = 'pie')\n"
   ]
  },
  {
   "cell_type": "code",
   "execution_count": null,
   "id": "eba37bac",
   "metadata": {},
   "outputs": [],
   "source": [
    "## Hier code voor bar chart. Verander kind = 'pie' in 'kind = bar of barh'"
   ]
  },
  {
   "cell_type": "markdown",
   "id": "78ed60b9",
   "metadata": {},
   "source": [
    "### Onderverdelen dataset\n",
    "\n",
    "Zoals je ziet is er een groot verschil tussen aantal artikelen over fietsn en over treinen. Hierdoor is het lastig om een goed beeld te krijgen van bijv. de subcategorieen door de scheve verdeling. We verdelen daarom voor de volgende exploratie de dataset in twee: eentje met alle artikelen over treinen, en eentje met alle artikelen over fietsen. "
   ]
  },
  {
   "cell_type": "markdown",
   "id": "c4545bec",
   "metadata": {},
   "source": [
    "Om het dataframe in twee te verdelen, passen we een filter toe. Dit kan op de voglende manier:"
   ]
  },
  {
   "cell_type": "code",
   "execution_count": null,
   "id": "e41d9a29",
   "metadata": {},
   "outputs": [],
   "source": [
    "fiets_df = data[data['category'] == 'fiets']"
   ]
  },
  {
   "cell_type": "markdown",
   "id": "b4c8063f",
   "metadata": {},
   "source": [
    "Maak nu op dezelfde manier een dataframe voor treinen"
   ]
  },
  {
   "cell_type": "code",
   "execution_count": null,
   "id": "b1e59c70",
   "metadata": {},
   "outputs": [],
   "source": [
    "## Schrijf hier de code voor het trein dataframe\n",
    "## Noem het frame trein_df"
   ]
  },
  {
   "cell_type": "markdown",
   "id": "1e196edb",
   "metadata": {},
   "source": [
    "Nu kunnen we naar de verdelding van de subcategorieën kijken. "
   ]
  },
  {
   "cell_type": "code",
   "execution_count": null,
   "id": "4d9ac1b5",
   "metadata": {},
   "outputs": [],
   "source": [
    "fiets_df.subcategory.value_counts().plot(kind = 'barh' )"
   ]
  },
  {
   "cell_type": "markdown",
   "id": "fdcad415",
   "metadata": {},
   "source": [
    "Maak een barchart voor de subcategorieën voor trein. "
   ]
  },
  {
   "cell_type": "code",
   "execution_count": null,
   "id": "b3b4a64b",
   "metadata": {},
   "outputs": [],
   "source": [
    "## Schrijf hier de code voor subcategorieën trein"
   ]
  },
  {
   "cell_type": "markdown",
   "id": "e3ffecf7",
   "metadata": {},
   "source": [
    "We kunnen nu ook kijken naar de veredeling van het type voor zowel het fiets als het trein dataframe"
   ]
  },
  {
   "cell_type": "code",
   "execution_count": null,
   "id": "95f6713f",
   "metadata": {},
   "outputs": [],
   "source": [
    "## Code voor barplot type fiets"
   ]
  },
  {
   "cell_type": "code",
   "execution_count": null,
   "id": "7b594891",
   "metadata": {},
   "outputs": [],
   "source": [
    "## Code voor barplot type trein"
   ]
  },
  {
   "cell_type": "markdown",
   "id": "fee00169",
   "metadata": {},
   "source": [
    "Wat is het verschil tussen de twee? "
   ]
  },
  {
   "cell_type": "markdown",
   "id": "9a3becdc",
   "metadata": {},
   "source": [
    "We kunnen ook kijken naar de verdeling over de jaren. "
   ]
  },
  {
   "cell_type": "code",
   "execution_count": null,
   "id": "fd459612",
   "metadata": {},
   "outputs": [],
   "source": [
    "fiets_df.Year.value_counts().plot(kind = 'bar')"
   ]
  },
  {
   "cell_type": "markdown",
   "id": "114e11a2",
   "metadata": {},
   "source": [
    "Als je goed naar de grafiek kijkt, zie je dat deze netjes gesorteerd is van hoog naar laag, maar dat de jaren door elkaar staan. Om dit op te lossen maken we eerst een nieuwe dataframe waarin we de jaren sorteren. Daarna gebruiken we dit dataframe voor de barchart. "
   ]
  },
  {
   "cell_type": "code",
   "execution_count": null,
   "id": "2dfb45c7",
   "metadata": {},
   "outputs": [],
   "source": [
    "fiets_tijd = fiets_df.Year.value_counts().sort_index()\n",
    "fiets_tijd.head(2)"
   ]
  },
  {
   "cell_type": "code",
   "execution_count": null,
   "id": "b4164d0b",
   "metadata": {},
   "outputs": [],
   "source": [
    "fiets_tijd.plot(kind = 'bar')"
   ]
  },
  {
   "cell_type": "markdown",
   "id": "2b5f1eb8",
   "metadata": {},
   "source": [
    "Maak nu zelf een bar chart met het aantal artikelen van het trein_df over de jaren. Vergeet niet eerst een gesorteerd subdataframe te maken. "
   ]
  },
  {
   "cell_type": "code",
   "execution_count": null,
   "id": "fdc18e96",
   "metadata": {},
   "outputs": [],
   "source": [
    "## Code voor sub dataframe"
   ]
  },
  {
   "cell_type": "code",
   "execution_count": null,
   "id": "b0ed01b9",
   "metadata": {},
   "outputs": [],
   "source": [
    "## Code voor bar chart"
   ]
  },
  {
   "cell_type": "markdown",
   "id": "0eb08e86",
   "metadata": {},
   "source": [
    "Complexere analyses:\n",
    "\n",
    "We kunnen ook twee categorieën combineren. Als je bijvoorbeeld benieuwd bent of de verhouding advertenties/artikelen voor de categorie fietsen over de jaren heen gelijk verdeeld is, kun je dit weergeven. \n",
    "\n",
    "Hiervoor maak je eerst een tussentijdse tabel, genaamd crosstabs. "
   ]
  },
  {
   "cell_type": "code",
   "execution_count": null,
   "id": "192c6346",
   "metadata": {},
   "outputs": [],
   "source": [
    "temp_fiets = pd.crosstab(index=fiets_df['Year'], columns=fiets_df['type'])"
   ]
  },
  {
   "cell_type": "code",
   "execution_count": null,
   "id": "5a237350",
   "metadata": {},
   "outputs": [],
   "source": [
    "temp_fiets.head(2)"
   ]
  },
  {
   "cell_type": "code",
   "execution_count": null,
   "id": "d27b7b67",
   "metadata": {},
   "outputs": [],
   "source": [
    "temp_fiets.plot.bar(stacked = True)"
   ]
  },
  {
   "cell_type": "markdown",
   "id": "aa81a76f",
   "metadata": {},
   "source": [
    "Als laatste is het interessant om verder te kijken naar de dictionary score. Dit geeft meer informatie over de kwaliteit van de getranskribeerde teksten, en daarbij informatie over hoe bruikbaar deze teksten zijn voor de volgende stappen. \n",
    "\n",
    "We beginnen met de functie describe zodat we meer informatie krijgen over de verdeling"
   ]
  },
  {
   "cell_type": "code",
   "execution_count": null,
   "id": "e2a48bb4",
   "metadata": {},
   "outputs": [],
   "source": [
    "data['DL score'].describe()"
   ]
  },
  {
   "cell_type": "markdown",
   "id": "9ed4a30d",
   "metadata": {},
   "source": [
    "Hier zie je dat het gemiddelde 65 is, en dat de waardes uiteenlopen van 9 tot 84. We kunnen kijken of gemiddeld genomen de teksten in het fiets of het trein stuk beter zijn."
   ]
  },
  {
   "cell_type": "markdown",
   "id": "9a2c8aea",
   "metadata": {},
   "source": [
    "We kunnen ook kijken of er verschil is tussen de gemiddelde score tussen de verschillende type berichten. Dit kunnen we doen met een groupby functie. "
   ]
  },
  {
   "cell_type": "code",
   "execution_count": null,
   "id": "90996531",
   "metadata": {},
   "outputs": [],
   "source": [
    "data.groupby('type')['DL score'].mean()"
   ]
  },
  {
   "cell_type": "markdown",
   "id": "cbeae35a",
   "metadata": {},
   "source": [
    "Wat valt je op aan de OCR kwaliteit van de verschillende type berichten?"
   ]
  }
 ],
 "metadata": {
  "kernelspec": {
   "display_name": "Python 3 (ipykernel)",
   "language": "python",
   "name": "python3"
  },
  "language_info": {
   "codemirror_mode": {
    "name": "ipython",
    "version": 3
   },
   "file_extension": ".py",
   "mimetype": "text/x-python",
   "name": "python",
   "nbconvert_exporter": "python",
   "pygments_lexer": "ipython3",
   "version": "3.9.12"
  }
 },
 "nbformat": 4,
 "nbformat_minor": 5
}
