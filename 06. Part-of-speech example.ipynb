{
 "cells": [
  {
   "cell_type": "markdown",
   "id": "8fc67177",
   "metadata": {},
   "source": [
    "# Extra:  Part of speech tagging\n",
    "Part of Speech tagging is een NLP activiteit waarbij elk word in een document een grammaticale category krijgt toegewezen (voornaamwoord, werkwoord, naamwoord, etc).\n",
    "Het toevoegen van de POS maakt het makkelijker om (automatisch) de structuur en betekenis van de tekst te doorgronden.\n",
    "Door POS te gebruiken is het relatief makkeijk het onderwerp van de tekst te vinden (bijvoorbeeld door de zelfstandige naamwoorden of de grammaticale onderwerpen te bekijken. Hiernaast is het bijvoorbeeld mogelijk Named Entity Recognition toe te passen waarbij je automatisch personen of instituut uit de tekst kan halen\n",
    "\n",
    "Hier een voorbeeld met een paar POS. Er zihn er meer\n",
    "\n",
    "| POS    | Description |Examples |\n",
    "| -------- | ------- |------- |\n",
    "| ADV  | adverb | very, tomorrow, down, where, there  |\n",
    "| NOUN | noun  | girl, cat, tree, air, beauty |\n",
    "| VERB |  verb | run, runs, running, eat, ate, eating |\n",
    "| PRON | pronoun  | I, you, he, she, myself, themselves, somebody |\n",
    "| SCONJ | subordinating conjunction  | if, while, that |\n",
    "| NUM | numeral  | 1, 2017, one, seventy-seven, IV, MMXIV |\n",
    "| INTJ | interjection | psst, ouch, bravo, hello |\n",
    "| X | other  | sfpksdpsxmsa |\n",
    "\n",
    "\n"
   ]
  },
  {
   "cell_type": "code",
   "execution_count": 22,
   "id": "54a95944",
   "metadata": {},
   "outputs": [],
   "source": [
    "import spacy\n",
    "from spacy import displacy\n",
    "from collections import Counter\n",
    "import pickle"
   ]
  },
  {
   "cell_type": "code",
   "execution_count": 23,
   "id": "a047188e",
   "metadata": {},
   "outputs": [],
   "source": [
    "with open('data/fiets_nlp.pkl', 'rb') as f:\n",
    "    fiets_nlp = pickle.load(f)"
   ]
  },
  {
   "cell_type": "code",
   "execution_count": 24,
   "id": "b337f947",
   "metadata": {},
   "outputs": [
    {
     "data": {
      "text/html": [
       "<div>\n",
       "<style scoped>\n",
       "    .dataframe tbody tr th:only-of-type {\n",
       "        vertical-align: middle;\n",
       "    }\n",
       "\n",
       "    .dataframe tbody tr th {\n",
       "        vertical-align: top;\n",
       "    }\n",
       "\n",
       "    .dataframe thead th {\n",
       "        text-align: right;\n",
       "    }\n",
       "</style>\n",
       "<table border=\"1\" class=\"dataframe\">\n",
       "  <thead>\n",
       "    <tr style=\"text-align: right;\">\n",
       "      <th></th>\n",
       "      <th>Unnamed: 0</th>\n",
       "      <th>identifier</th>\n",
       "      <th>type</th>\n",
       "      <th>title</th>\n",
       "      <th>date</th>\n",
       "      <th>content</th>\n",
       "      <th>subcategory</th>\n",
       "      <th>category</th>\n",
       "      <th>Year</th>\n",
       "      <th>DL score</th>\n",
       "      <th>spatial</th>\n",
       "      <th>length</th>\n",
       "      <th>doc</th>\n",
       "    </tr>\n",
       "  </thead>\n",
       "  <tbody>\n",
       "    <tr>\n",
       "      <th>21061</th>\n",
       "      <td>84265</td>\n",
       "      <td>http://resolver.kb.nl/resolve?urn=MMKB23:00140...</td>\n",
       "      <td>artikel</td>\n",
       "      <td>BUITENLAND. POLITIEK OVERZICHT.</td>\n",
       "      <td>1880/05/26 00:00:00</td>\n",
       "      <td>’s Gravenhage, 25 Mei.’t Is te Berlijn een lie...</td>\n",
       "      <td>fiets</td>\n",
       "      <td>fiets</td>\n",
       "      <td>1880</td>\n",
       "      <td>71.212121</td>\n",
       "      <td>Landelijk</td>\n",
       "      <td>792</td>\n",
       "      <td>(’s, Gravenhage, ,, 25, Mei.’t, Is, te, Berlij...</td>\n",
       "    </tr>\n",
       "    <tr>\n",
       "      <th>21072</th>\n",
       "      <td>84295</td>\n",
       "      <td>http://resolver.kb.nl/resolve?urn=ddd:01011723...</td>\n",
       "      <td>artikel</td>\n",
       "      <td>Gemengde Berichten.</td>\n",
       "      <td>1869/09/20 00:00:00</td>\n",
       "      <td>Naar men verneemt, bloeit thans in den Hortus ...</td>\n",
       "      <td>rijwiel</td>\n",
       "      <td>fiets</td>\n",
       "      <td>1869</td>\n",
       "      <td>77.823129</td>\n",
       "      <td>Landelijk</td>\n",
       "      <td>735</td>\n",
       "      <td>(Naar, men, verneemt, ,, bloeit, thans, in, de...</td>\n",
       "    </tr>\n",
       "  </tbody>\n",
       "</table>\n",
       "</div>"
      ],
      "text/plain": [
       "       Unnamed: 0                                         identifier     type  \\\n",
       "21061       84265  http://resolver.kb.nl/resolve?urn=MMKB23:00140...  artikel   \n",
       "21072       84295  http://resolver.kb.nl/resolve?urn=ddd:01011723...  artikel   \n",
       "\n",
       "                                 title                 date  \\\n",
       "21061  BUITENLAND. POLITIEK OVERZICHT.  1880/05/26 00:00:00   \n",
       "21072              Gemengde Berichten.  1869/09/20 00:00:00   \n",
       "\n",
       "                                                 content subcategory category  \\\n",
       "21061  ’s Gravenhage, 25 Mei.’t Is te Berlijn een lie...       fiets    fiets   \n",
       "21072  Naar men verneemt, bloeit thans in den Hortus ...     rijwiel    fiets   \n",
       "\n",
       "       Year   DL score    spatial  length  \\\n",
       "21061  1880  71.212121  Landelijk     792   \n",
       "21072  1869  77.823129  Landelijk     735   \n",
       "\n",
       "                                                     doc  \n",
       "21061  (’s, Gravenhage, ,, 25, Mei.’t, Is, te, Berlij...  \n",
       "21072  (Naar, men, verneemt, ,, bloeit, thans, in, de...  "
      ]
     },
     "execution_count": 24,
     "metadata": {},
     "output_type": "execute_result"
    }
   ],
   "source": [
    "fiets_nlp.head(2)"
   ]
  },
  {
   "cell_type": "code",
   "execution_count": 2,
   "id": "85ebe84f",
   "metadata": {},
   "outputs": [
    {
     "ename": "NameError",
     "evalue": "name 'fiets_nlp' is not defined",
     "output_type": "error",
     "traceback": [
      "\u001b[1;31m---------------------------------------------------------------------------\u001b[0m",
      "\u001b[1;31mNameError\u001b[0m                                 Traceback (most recent call last)",
      "Input \u001b[1;32mIn [2]\u001b[0m, in \u001b[0;36m<cell line: 1>\u001b[1;34m()\u001b[0m\n\u001b[1;32m----> 1\u001b[0m doc \u001b[38;5;241m=\u001b[39m \u001b[43mfiets_nlp\u001b[49m[\u001b[38;5;124m'\u001b[39m\u001b[38;5;124mdoc\u001b[39m\u001b[38;5;124m'\u001b[39m]\u001b[38;5;241m.\u001b[39mto_list()[\u001b[38;5;241m2\u001b[39m]\n",
      "\u001b[1;31mNameError\u001b[0m: name 'fiets_nlp' is not defined"
     ]
    }
   ],
   "source": [
    "doc = fiets_nlp['doc'].to_list()[2]"
   ]
  },
  {
   "cell_type": "code",
   "execution_count": 3,
   "id": "06c9d784",
   "metadata": {},
   "outputs": [
    {
     "ename": "NameError",
     "evalue": "name 'displacy' is not defined",
     "output_type": "error",
     "traceback": [
      "\u001b[1;31m---------------------------------------------------------------------------\u001b[0m",
      "\u001b[1;31mNameError\u001b[0m                                 Traceback (most recent call last)",
      "Input \u001b[1;32mIn [3]\u001b[0m, in \u001b[0;36m<cell line: 1>\u001b[1;34m()\u001b[0m\n\u001b[1;32m----> 1\u001b[0m \u001b[43mdisplacy\u001b[49m\u001b[38;5;241m.\u001b[39mrender(doc, style \u001b[38;5;241m=\u001b[39m \u001b[38;5;124m\"\u001b[39m\u001b[38;5;124mdep\u001b[39m\u001b[38;5;124m\"\u001b[39m)\n",
      "\u001b[1;31mNameError\u001b[0m: name 'displacy' is not defined"
     ]
    }
   ],
   "source": [
    "displacy.render(doc, style = \"dep\")"
   ]
  },
  {
   "cell_type": "code",
   "execution_count": 4,
   "id": "6ee8cb10",
   "metadata": {},
   "outputs": [
    {
     "ename": "SyntaxError",
     "evalue": "invalid syntax (2873177831.py, line 1)",
     "output_type": "error",
     "traceback": [
      "\u001b[1;36m  Input \u001b[1;32mIn [4]\u001b[1;36m\u001b[0m\n\u001b[1;33m    Ook voor part of speech tagging kun je kolommen maken in je dataframe met categorieën.\u001b[0m\n\u001b[1;37m        ^\u001b[0m\n\u001b[1;31mSyntaxError\u001b[0m\u001b[1;31m:\u001b[0m invalid syntax\n"
     ]
    }
   ],
   "source": [
    "Ook voor part of speech tagging kun je kolommen maken in je dataframe met categorieën. \n",
    "Hiervoor is onderstaande functie geschreven:"
   ]
  },
  {
   "cell_type": "code",
   "execution_count": 5,
   "id": "fccc4739",
   "metadata": {},
   "outputs": [],
   "source": [
    "def get_pos(doc, pos_tag):\n",
    "    return [token for token in doc if token.pos_ == pos_tag]"
   ]
  },
  {
   "cell_type": "code",
   "execution_count": 6,
   "id": "6ce01ec2",
   "metadata": {},
   "outputs": [
    {
     "ename": "SyntaxError",
     "evalue": "invalid syntax (225947149.py, line 1)",
     "output_type": "error",
     "traceback": [
      "\u001b[1;36m  Input \u001b[1;32mIn [6]\u001b[1;36m\u001b[0m\n\u001b[1;33m    Bij de Named entities hebben we de top 10 meest voorkomende entities per categorie vergeleken tussen regionaal en lokaal. Voor de Part of Speech tagging gaan we kijken hoeveel procent van een artikel uit bepaalde woordsoorten bestaat. Hiervoor berekenen we eerst het aantal voorkomens per woordsoort, en daarna delen we dit door de lengte van het artikel. We gebruiken hiervoor het totale dataframe.\u001b[0m\n\u001b[1;37m        ^\u001b[0m\n\u001b[1;31mSyntaxError\u001b[0m\u001b[1;31m:\u001b[0m invalid syntax\n"
     ]
    }
   ],
   "source": [
    "Bij de Named entities hebben we de top 10 meest voorkomende entities per categorie vergeleken tussen regionaal en lokaal. Voor de Part of Speech tagging gaan we kijken hoeveel procent van een artikel uit bepaalde woordsoorten bestaat. Hiervoor berekenen we eerst het aantal voorkomens per woordsoort, en daarna delen we dit door de lengte van het artikel. We gebruiken hiervoor het totale dataframe. "
   ]
  },
  {
   "cell_type": "code",
   "execution_count": 7,
   "id": "7914c964",
   "metadata": {},
   "outputs": [
    {
     "ename": "SyntaxError",
     "evalue": "invalid syntax (2412876456.py, line 1)",
     "output_type": "error",
     "traceback": [
      "\u001b[1;36m  Input \u001b[1;32mIn [7]\u001b[1;36m\u001b[0m\n\u001b[1;33m    Hieronder laten we deze methode zien in 3 stappen, voor zelfstandige naamwoorden (nouns)\u001b[0m\n\u001b[1;37m              ^\u001b[0m\n\u001b[1;31mSyntaxError\u001b[0m\u001b[1;31m:\u001b[0m invalid syntax\n"
     ]
    }
   ],
   "source": [
    "Hieronder laten we deze methode zien in 3 stappen, voor zelfstandige naamwoorden (nouns)"
   ]
  },
  {
   "cell_type": "code",
   "execution_count": 8,
   "id": "2118e33c",
   "metadata": {},
   "outputs": [
    {
     "ename": "SyntaxError",
     "evalue": "invalid syntax (4019620025.py, line 1)",
     "output_type": "error",
     "traceback": [
      "\u001b[1;36m  Input \u001b[1;32mIn [8]\u001b[1;36m\u001b[0m\n\u001b[1;33m    stap 1:\u001b[0m\n\u001b[1;37m         ^\u001b[0m\n\u001b[1;31mSyntaxError\u001b[0m\u001b[1;31m:\u001b[0m invalid syntax\n"
     ]
    }
   ],
   "source": [
    "stap 1:"
   ]
  },
  {
   "cell_type": "code",
   "execution_count": 9,
   "id": "ce51ed7b",
   "metadata": {},
   "outputs": [
    {
     "ename": "NameError",
     "evalue": "name 'fiets_nlp' is not defined",
     "output_type": "error",
     "traceback": [
      "\u001b[1;31m---------------------------------------------------------------------------\u001b[0m",
      "\u001b[1;31mNameError\u001b[0m                                 Traceback (most recent call last)",
      "Input \u001b[1;32mIn [9]\u001b[0m, in \u001b[0;36m<cell line: 1>\u001b[1;34m()\u001b[0m\n\u001b[1;32m----> 1\u001b[0m fiets_nlp[\u001b[38;5;124m'\u001b[39m\u001b[38;5;124mnoun\u001b[39m\u001b[38;5;124m'\u001b[39m] \u001b[38;5;241m=\u001b[39m \u001b[43mfiets_nlp\u001b[49m[\u001b[38;5;124m'\u001b[39m\u001b[38;5;124mdoc\u001b[39m\u001b[38;5;124m'\u001b[39m]\u001b[38;5;241m.\u001b[39mapply(\u001b[38;5;28;01mlambda\u001b[39;00m x: get_pos(x, \u001b[38;5;124m'\u001b[39m\u001b[38;5;124mNOUN\u001b[39m\u001b[38;5;124m'\u001b[39m))\n",
      "\u001b[1;31mNameError\u001b[0m: name 'fiets_nlp' is not defined"
     ]
    }
   ],
   "source": [
    "fiets_nlp['noun'] = fiets_nlp['doc'].apply(lambda x: get_pos(x, 'NOUN'))"
   ]
  },
  {
   "cell_type": "code",
   "execution_count": null,
   "id": "5fdfc36d",
   "metadata": {},
   "outputs": [],
   "source": [
    "Stap 2:"
   ]
  },
  {
   "cell_type": "code",
   "execution_count": null,
   "id": "60e09e57",
   "metadata": {},
   "outputs": [],
   "source": [
    "fiets_nlp['noun_count'] = fiets_nlp['noun'].apply(lambda x: len(x))"
   ]
  },
  {
   "cell_type": "code",
   "execution_count": 10,
   "id": "10bb7d0b",
   "metadata": {},
   "outputs": [
    {
     "ename": "SyntaxError",
     "evalue": "invalid syntax (687699532.py, line 1)",
     "output_type": "error",
     "traceback": [
      "\u001b[1;36m  Input \u001b[1;32mIn [10]\u001b[1;36m\u001b[0m\n\u001b[1;33m    Stap 3:\u001b[0m\n\u001b[1;37m         ^\u001b[0m\n\u001b[1;31mSyntaxError\u001b[0m\u001b[1;31m:\u001b[0m invalid syntax\n"
     ]
    }
   ],
   "source": [
    "Stap 3:"
   ]
  },
  {
   "cell_type": "code",
   "execution_count": 11,
   "id": "33d0b870",
   "metadata": {},
   "outputs": [
    {
     "ename": "NameError",
     "evalue": "name 'fiets_nlp' is not defined",
     "output_type": "error",
     "traceback": [
      "\u001b[1;31m---------------------------------------------------------------------------\u001b[0m",
      "\u001b[1;31mNameError\u001b[0m                                 Traceback (most recent call last)",
      "Input \u001b[1;32mIn [11]\u001b[0m, in \u001b[0;36m<cell line: 1>\u001b[1;34m()\u001b[0m\n\u001b[1;32m----> 1\u001b[0m fiets_nlp[\u001b[38;5;124m'\u001b[39m\u001b[38;5;124mnoun_perc\u001b[39m\u001b[38;5;124m'\u001b[39m] \u001b[38;5;241m=\u001b[39m (\u001b[43mfiets_nlp\u001b[49m[\u001b[38;5;124m'\u001b[39m\u001b[38;5;124mnoun_count\u001b[39m\u001b[38;5;124m'\u001b[39m] \u001b[38;5;241m/\u001b[39m fiets_nlp[\u001b[38;5;124m'\u001b[39m\u001b[38;5;124mlength\u001b[39m\u001b[38;5;124m'\u001b[39m]) \u001b[38;5;241m*\u001b[39m \u001b[38;5;241m100\u001b[39m\n",
      "\u001b[1;31mNameError\u001b[0m: name 'fiets_nlp' is not defined"
     ]
    }
   ],
   "source": [
    "fiets_nlp['noun_perc'] = (fiets_nlp['noun_count'] / fiets_nlp['length']) * 100"
   ]
  },
  {
   "cell_type": "code",
   "execution_count": 12,
   "id": "db20511b",
   "metadata": {},
   "outputs": [
    {
     "ename": "NameError",
     "evalue": "name 'fiets_nlp' is not defined",
     "output_type": "error",
     "traceback": [
      "\u001b[1;31m---------------------------------------------------------------------------\u001b[0m",
      "\u001b[1;31mNameError\u001b[0m                                 Traceback (most recent call last)",
      "Input \u001b[1;32mIn [12]\u001b[0m, in \u001b[0;36m<cell line: 1>\u001b[1;34m()\u001b[0m\n\u001b[1;32m----> 1\u001b[0m \u001b[43mfiets_nlp\u001b[49m\u001b[38;5;241m.\u001b[39mhead(\u001b[38;5;241m2\u001b[39m)\n",
      "\u001b[1;31mNameError\u001b[0m: name 'fiets_nlp' is not defined"
     ]
    }
   ],
   "source": [
    "fiets_nlp.head(2)"
   ]
  },
  {
   "cell_type": "code",
   "execution_count": 13,
   "id": "01acf1e2",
   "metadata": {},
   "outputs": [],
   "source": [
    "## Zelf doen: bekijk de lijst van woordsoorten. Kies er eentje uit en volg de stappen in de volgende cellen.\n",
    "## stap 1: fiets_nlp['nieuwe kolomnaam'] = fiets_nlp['doc'].apply(lambda x: get_pos(x, 'woordsoort'))"
   ]
  },
  {
   "cell_type": "code",
   "execution_count": 14,
   "id": "cc0d067e",
   "metadata": {},
   "outputs": [],
   "source": [
    "## Stap 2: fiets_nlp['nieuwe kolomnaam_count'] = fiets_nlp['nieuwe kolomnaam'].apply(lambda x: len(x))"
   ]
  },
  {
   "cell_type": "code",
   "execution_count": 15,
   "id": "e24793c4",
   "metadata": {},
   "outputs": [],
   "source": [
    "## Stap 3: fiets_nlp['nieuwe kolomnaam_perc'] = (fiets_nlp['nieuwe kolomnaa_count'] / fiets_nlp['Length']) * 100"
   ]
  },
  {
   "cell_type": "code",
   "execution_count": 16,
   "id": "cabbf3a1",
   "metadata": {},
   "outputs": [
    {
     "ename": "SyntaxError",
     "evalue": "invalid syntax (3422646521.py, line 1)",
     "output_type": "error",
     "traceback": [
      "\u001b[1;36m  Input \u001b[1;32mIn [16]\u001b[1;36m\u001b[0m\n\u001b[1;33m    Nu je meerdere kolommen hebt kun je bekijken of er een verschil is in woordgebruik tussen regionale en landelijke kranten. Vul de columns variable hieronder aan met de percentage kolommen die je zelf hebt gemaakt.\u001b[0m\n\u001b[1;37m       ^\u001b[0m\n\u001b[1;31mSyntaxError\u001b[0m\u001b[1;31m:\u001b[0m invalid syntax\n"
     ]
    }
   ],
   "source": [
    "Nu je meerdere kolommen hebt kun je bekijken of er een verschil is in woordgebruik tussen regionale en landelijke kranten. Vul de columns variable hieronder aan met de percentage kolommen die je zelf hebt gemaakt."
   ]
  },
  {
   "cell_type": "code",
   "execution_count": 17,
   "id": "9022a3fb",
   "metadata": {},
   "outputs": [],
   "source": [
    "## Zelf aanvullen\n",
    "## columns = ['kolom_perc1', 'kolom_perc2']\n",
    "columns = ['noun_perc']"
   ]
  },
  {
   "cell_type": "code",
   "execution_count": 18,
   "id": "0b8c7867",
   "metadata": {},
   "outputs": [
    {
     "ename": "SyntaxError",
     "evalue": "invalid syntax (446497741.py, line 1)",
     "output_type": "error",
     "traceback": [
      "\u001b[1;36m  Input \u001b[1;32mIn [18]\u001b[1;36m\u001b[0m\n\u001b[1;33m    Met de volgende functie kun je nu bekijken of er een verschil is in hoe vaak een woordsoort gemiddeld voorkomt per artikel.\u001b[0m\n\u001b[1;37m        ^\u001b[0m\n\u001b[1;31mSyntaxError\u001b[0m\u001b[1;31m:\u001b[0m invalid syntax\n"
     ]
    }
   ],
   "source": [
    "Met de volgende functie kun je nu bekijken of er een verschil is in hoe vaak een woordsoort gemiddeld voorkomt per artikel."
   ]
  },
  {
   "cell_type": "code",
   "execution_count": 19,
   "id": "9c7324c0",
   "metadata": {},
   "outputs": [
    {
     "ename": "NameError",
     "evalue": "name 'fiets_nlp' is not defined",
     "output_type": "error",
     "traceback": [
      "\u001b[1;31m---------------------------------------------------------------------------\u001b[0m",
      "\u001b[1;31mNameError\u001b[0m                                 Traceback (most recent call last)",
      "Input \u001b[1;32mIn [19]\u001b[0m, in \u001b[0;36m<cell line: 1>\u001b[1;34m()\u001b[0m\n\u001b[1;32m----> 1\u001b[0m \u001b[43mfiets_nlp\u001b[49m\u001b[38;5;241m.\u001b[39mgroupby([\u001b[38;5;124m'\u001b[39m\u001b[38;5;124mspatial\u001b[39m\u001b[38;5;124m'\u001b[39m])[columns]\u001b[38;5;241m.\u001b[39mmean()\n",
      "\u001b[1;31mNameError\u001b[0m: name 'fiets_nlp' is not defined"
     ]
    }
   ],
   "source": [
    "fiets_nlp.groupby(['spatial'])[columns].mean()"
   ]
  },
  {
   "cell_type": "code",
   "execution_count": 20,
   "id": "b25d5c6c",
   "metadata": {},
   "outputs": [
    {
     "ename": "SyntaxError",
     "evalue": "invalid syntax (1768715446.py, line 1)",
     "output_type": "error",
     "traceback": [
      "\u001b[1;36m  Input \u001b[1;32mIn [20]\u001b[1;36m\u001b[0m\n\u001b[1;33m    In plaats van mean() kan je ook median() gebruiken om de mediaan te bekijken.\u001b[0m\n\u001b[1;37m       ^\u001b[0m\n\u001b[1;31mSyntaxError\u001b[0m\u001b[1;31m:\u001b[0m invalid syntax\n"
     ]
    }
   ],
   "source": [
    "In plaats van mean() kan je ook median() gebruiken om de mediaan te bekijken. "
   ]
  },
  {
   "cell_type": "code",
   "execution_count": null,
   "id": "75351792",
   "metadata": {},
   "outputs": [],
   "source": [
    "## Schrijf hier code voor median()"
   ]
  }
 ],
 "metadata": {
  "kernelspec": {
   "display_name": "Python 3 (ipykernel)",
   "language": "python",
   "name": "python3"
  },
  "language_info": {
   "codemirror_mode": {
    "name": "ipython",
    "version": 3
   },
   "file_extension": ".py",
   "mimetype": "text/x-python",
   "name": "python",
   "nbconvert_exporter": "python",
   "pygments_lexer": "ipython3",
   "version": "3.9.12"
  }
 },
 "nbformat": 4,
 "nbformat_minor": 5
}
