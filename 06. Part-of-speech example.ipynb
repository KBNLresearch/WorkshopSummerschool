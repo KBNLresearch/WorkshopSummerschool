{
 "cells": [
  {
   "cell_type": "markdown",
   "id": "8fc67177",
   "metadata": {},
   "source": [
    "# Extra:  Part of speech tagging\n",
    "Part of Speech (POS) tagging is een NLP activiteit waarbij elk woord in een tekst een grammaticale categorie krijgt toegewezen (voornaamwoord, werkwoord, naamwoord, etc).\n",
    "Het toevoegen van de POS maakt het makkelijker om (automatisch) de structuur en betekenis van de tekst te doorgronden.\n",
    "Door POS te gebruiken is het relatief makkeijk het onderwerp van de tekst te vinden (bijvoorbeeld door de zelfstandige naamwoorden of de grammaticale onderwerpen te bekijken. \n",
    "\n",
    "Hier een voorbeeld van een paar POS categorieën die Spacy herkent. \n",
    "\n",
    "| POS    | Description |Examples |\n",
    "| -------- | ------- |------- |\n",
    "| ADV  | adverb | very, tomorrow, down, where, there  |\n",
    "| NOUN | noun  | girl, cat, tree, air, beauty |\n",
    "| VERB |  verb | run, runs, running, eat, ate, eating |\n",
    "| PRON | pronoun  | I, you, he, she, myself, themselves, somebody |\n",
    "| SCONJ | subordinating conjunction  | if, while, that |\n",
    "| NUM | numeral  | 1, 2017, one, seventy-seven, IV, MMXIV |\n",
    "| INTJ | interjection | psst, ouch, bravo, hello |\n",
    "| X | other  | sfpksdpsxmsa |\n",
    "\n",
    "\n"
   ]
  },
  {
   "cell_type": "markdown",
   "id": "2fdf28cd",
   "metadata": {},
   "source": [
    "In onderstaande voorbeeld gebruiken we POS om te kijken of er een verschil is in de opbouw van teksten tussen regionale/lokale en landelijke kranten. We doen dit door te kijken naar het gemiddeld aantal voorkomens per woordcategorie per tekst. \n",
    "\n",
    "Als eerste stap laden we de benodigde packages. "
   ]
  },
  {
   "cell_type": "code",
   "execution_count": 1,
   "id": "54a95944",
   "metadata": {},
   "outputs": [],
   "source": [
    "import pandas as pd\n",
    "import spacy\n",
    "from spacy import displacy\n",
    "import pickle"
   ]
  },
  {
   "cell_type": "markdown",
   "id": "6f8366b1",
   "metadata": {},
   "source": [
    "En we openen ons opgeslagen model, met daarin de kolom `doc` die de POS informatie bevat. "
   ]
  },
  {
   "cell_type": "code",
   "execution_count": 2,
   "id": "a047188e",
   "metadata": {},
   "outputs": [],
   "source": [
    "fiets_nlp = pd.read_pickle(\"data/fiets_nlp.pkl\")"
   ]
  },
  {
   "cell_type": "code",
   "execution_count": 3,
   "id": "b337f947",
   "metadata": {},
   "outputs": [
    {
     "data": {
      "text/html": [
       "<div>\n",
       "<style scoped>\n",
       "    .dataframe tbody tr th:only-of-type {\n",
       "        vertical-align: middle;\n",
       "    }\n",
       "\n",
       "    .dataframe tbody tr th {\n",
       "        vertical-align: top;\n",
       "    }\n",
       "\n",
       "    .dataframe thead th {\n",
       "        text-align: right;\n",
       "    }\n",
       "</style>\n",
       "<table border=\"1\" class=\"dataframe\">\n",
       "  <thead>\n",
       "    <tr style=\"text-align: right;\">\n",
       "      <th></th>\n",
       "      <th>Unnamed: 0</th>\n",
       "      <th>identifier</th>\n",
       "      <th>type</th>\n",
       "      <th>title</th>\n",
       "      <th>date</th>\n",
       "      <th>content</th>\n",
       "      <th>subcategory</th>\n",
       "      <th>category</th>\n",
       "      <th>Year</th>\n",
       "      <th>DL score</th>\n",
       "      <th>spatial</th>\n",
       "      <th>length</th>\n",
       "      <th>doc</th>\n",
       "    </tr>\n",
       "  </thead>\n",
       "  <tbody>\n",
       "    <tr>\n",
       "      <th>21061</th>\n",
       "      <td>84265</td>\n",
       "      <td>http://resolver.kb.nl/resolve?urn=MMKB23:00140...</td>\n",
       "      <td>artikel</td>\n",
       "      <td>BUITENLAND. POLITIEK OVERZICHT.</td>\n",
       "      <td>1880/05/26 00:00:00</td>\n",
       "      <td>’s Gravenhage, 25 Mei.’t Is te Berlijn een lie...</td>\n",
       "      <td>fiets</td>\n",
       "      <td>fiets</td>\n",
       "      <td>1880</td>\n",
       "      <td>71.212121</td>\n",
       "      <td>Landelijk</td>\n",
       "      <td>792</td>\n",
       "      <td>(’s, Gravenhage, ,, 25, Mei.’t, Is, te, Berlij...</td>\n",
       "    </tr>\n",
       "    <tr>\n",
       "      <th>21072</th>\n",
       "      <td>84295</td>\n",
       "      <td>http://resolver.kb.nl/resolve?urn=ddd:01011723...</td>\n",
       "      <td>artikel</td>\n",
       "      <td>Gemengde Berichten.</td>\n",
       "      <td>1869/09/20 00:00:00</td>\n",
       "      <td>Naar men verneemt, bloeit thans in den Hortus ...</td>\n",
       "      <td>rijwiel</td>\n",
       "      <td>fiets</td>\n",
       "      <td>1869</td>\n",
       "      <td>77.823129</td>\n",
       "      <td>Landelijk</td>\n",
       "      <td>735</td>\n",
       "      <td>(Naar, men, verneemt, ,, bloeit, thans, in, de...</td>\n",
       "    </tr>\n",
       "  </tbody>\n",
       "</table>\n",
       "</div>"
      ],
      "text/plain": [
       "       Unnamed: 0                                         identifier     type  \\\n",
       "21061       84265  http://resolver.kb.nl/resolve?urn=MMKB23:00140...  artikel   \n",
       "21072       84295  http://resolver.kb.nl/resolve?urn=ddd:01011723...  artikel   \n",
       "\n",
       "                                 title                 date  \\\n",
       "21061  BUITENLAND. POLITIEK OVERZICHT.  1880/05/26 00:00:00   \n",
       "21072              Gemengde Berichten.  1869/09/20 00:00:00   \n",
       "\n",
       "                                                 content subcategory category  \\\n",
       "21061  ’s Gravenhage, 25 Mei.’t Is te Berlijn een lie...       fiets    fiets   \n",
       "21072  Naar men verneemt, bloeit thans in den Hortus ...     rijwiel    fiets   \n",
       "\n",
       "       Year   DL score    spatial  length  \\\n",
       "21061  1880  71.212121  Landelijk     792   \n",
       "21072  1869  77.823129  Landelijk     735   \n",
       "\n",
       "                                                     doc  \n",
       "21061  (’s, Gravenhage, ,, 25, Mei.’t, Is, te, Berlij...  \n",
       "21072  (Naar, men, verneemt, ,, bloeit, thans, in, de...  "
      ]
     },
     "execution_count": 3,
     "metadata": {},
     "output_type": "execute_result"
    }
   ],
   "source": [
    "fiets_nlp.head(2)"
   ]
  },
  {
   "cell_type": "markdown",
   "id": "359c919e",
   "metadata": {},
   "source": [
    "Om de POS-tags uit de `doc` kolom te halen, is onderstaande functie geschreven:"
   ]
  },
  {
   "cell_type": "code",
   "execution_count": 6,
   "id": "fccc4739",
   "metadata": {},
   "outputs": [],
   "source": [
    "def get_pos(doc, pos_tag):\n",
    "    return [token for token in doc if token.pos_ == pos_tag]"
   ]
  },
  {
   "cell_type": "markdown",
   "id": "aff51af9",
   "metadata": {},
   "source": [
    "Hierna doorloop je voor elke POS tag de volgende drie stappen:"
   ]
  },
  {
   "cell_type": "markdown",
   "id": "e2c4a12e",
   "metadata": {},
   "source": [
    "Stap 1: maak een nieuwe kolom aan met de woordcategorie die je wilt extraheren. "
   ]
  },
  {
   "cell_type": "code",
   "execution_count": 7,
   "id": "ce51ed7b",
   "metadata": {},
   "outputs": [],
   "source": [
    "fiets_nlp['noun'] = fiets_nlp['doc'].apply(lambda x: get_pos(x, 'NOUN'))"
   ]
  },
  {
   "cell_type": "markdown",
   "id": "17aca43d",
   "metadata": {},
   "source": [
    "Stap 2: Maak een nieuwe kolom aan met het aantal woorden van deze woordcategorie. Dit doe je door het aantal woorden in de zojuist gemaakte kolom te tellen. "
   ]
  },
  {
   "cell_type": "code",
   "execution_count": 8,
   "id": "60e09e57",
   "metadata": {},
   "outputs": [],
   "source": [
    "fiets_nlp['noun_count'] = fiets_nlp['noun'].apply(lambda x: len(x))"
   ]
  },
  {
   "cell_type": "markdown",
   "id": "95a3d793",
   "metadata": {},
   "source": [
    "Stap 3: Bereken in een nieuwe kolom het percentage woorden van deze categorie per artikel"
   ]
  },
  {
   "cell_type": "code",
   "execution_count": 9,
   "id": "33d0b870",
   "metadata": {},
   "outputs": [],
   "source": [
    "fiets_nlp['noun_perc'] = (fiets_nlp['noun_count'] / fiets_nlp['length']) * 100"
   ]
  },
  {
   "cell_type": "markdown",
   "id": "04885965",
   "metadata": {},
   "source": [
    "In het dataframe zie je nu drie nieuwe kolommen. "
   ]
  },
  {
   "cell_type": "code",
   "execution_count": 10,
   "id": "db20511b",
   "metadata": {},
   "outputs": [
    {
     "data": {
      "text/html": [
       "<div>\n",
       "<style scoped>\n",
       "    .dataframe tbody tr th:only-of-type {\n",
       "        vertical-align: middle;\n",
       "    }\n",
       "\n",
       "    .dataframe tbody tr th {\n",
       "        vertical-align: top;\n",
       "    }\n",
       "\n",
       "    .dataframe thead th {\n",
       "        text-align: right;\n",
       "    }\n",
       "</style>\n",
       "<table border=\"1\" class=\"dataframe\">\n",
       "  <thead>\n",
       "    <tr style=\"text-align: right;\">\n",
       "      <th></th>\n",
       "      <th>Unnamed: 0</th>\n",
       "      <th>identifier</th>\n",
       "      <th>type</th>\n",
       "      <th>title</th>\n",
       "      <th>date</th>\n",
       "      <th>content</th>\n",
       "      <th>subcategory</th>\n",
       "      <th>category</th>\n",
       "      <th>Year</th>\n",
       "      <th>DL score</th>\n",
       "      <th>spatial</th>\n",
       "      <th>length</th>\n",
       "      <th>doc</th>\n",
       "      <th>noun</th>\n",
       "      <th>noun_count</th>\n",
       "      <th>noun_perc</th>\n",
       "    </tr>\n",
       "  </thead>\n",
       "  <tbody>\n",
       "    <tr>\n",
       "      <th>21061</th>\n",
       "      <td>84265</td>\n",
       "      <td>http://resolver.kb.nl/resolve?urn=MMKB23:00140...</td>\n",
       "      <td>artikel</td>\n",
       "      <td>BUITENLAND. POLITIEK OVERZICHT.</td>\n",
       "      <td>1880/05/26 00:00:00</td>\n",
       "      <td>’s Gravenhage, 25 Mei.’t Is te Berlijn een lie...</td>\n",
       "      <td>fiets</td>\n",
       "      <td>fiets</td>\n",
       "      <td>1880</td>\n",
       "      <td>71.212121</td>\n",
       "      <td>Landelijk</td>\n",
       "      <td>792</td>\n",
       "      <td>(’s, Gravenhage, ,, 25, Mei.’t, Is, te, Berlij...</td>\n",
       "      <td>[Mei.’t, verwarring, wetsontwerp, overweging, ...</td>\n",
       "      <td>153</td>\n",
       "      <td>19.318182</td>\n",
       "    </tr>\n",
       "    <tr>\n",
       "      <th>21072</th>\n",
       "      <td>84295</td>\n",
       "      <td>http://resolver.kb.nl/resolve?urn=ddd:01011723...</td>\n",
       "      <td>artikel</td>\n",
       "      <td>Gemengde Berichten.</td>\n",
       "      <td>1869/09/20 00:00:00</td>\n",
       "      <td>Naar men verneemt, bloeit thans in den Hortus ...</td>\n",
       "      <td>rijwiel</td>\n",
       "      <td>fiets</td>\n",
       "      <td>1869</td>\n",
       "      <td>77.823129</td>\n",
       "      <td>Landelijk</td>\n",
       "      <td>735</td>\n",
       "      <td>(Naar, men, verneemt, ,, bloeit, thans, in, de...</td>\n",
       "      <td>[exemplaar, weken, lengte, meter, bloemtrosjes...</td>\n",
       "      <td>147</td>\n",
       "      <td>20.000000</td>\n",
       "    </tr>\n",
       "  </tbody>\n",
       "</table>\n",
       "</div>"
      ],
      "text/plain": [
       "       Unnamed: 0                                         identifier     type  \\\n",
       "21061       84265  http://resolver.kb.nl/resolve?urn=MMKB23:00140...  artikel   \n",
       "21072       84295  http://resolver.kb.nl/resolve?urn=ddd:01011723...  artikel   \n",
       "\n",
       "                                 title                 date  \\\n",
       "21061  BUITENLAND. POLITIEK OVERZICHT.  1880/05/26 00:00:00   \n",
       "21072              Gemengde Berichten.  1869/09/20 00:00:00   \n",
       "\n",
       "                                                 content subcategory category  \\\n",
       "21061  ’s Gravenhage, 25 Mei.’t Is te Berlijn een lie...       fiets    fiets   \n",
       "21072  Naar men verneemt, bloeit thans in den Hortus ...     rijwiel    fiets   \n",
       "\n",
       "       Year   DL score    spatial  length  \\\n",
       "21061  1880  71.212121  Landelijk     792   \n",
       "21072  1869  77.823129  Landelijk     735   \n",
       "\n",
       "                                                     doc  \\\n",
       "21061  (’s, Gravenhage, ,, 25, Mei.’t, Is, te, Berlij...   \n",
       "21072  (Naar, men, verneemt, ,, bloeit, thans, in, de...   \n",
       "\n",
       "                                                    noun  noun_count  \\\n",
       "21061  [Mei.’t, verwarring, wetsontwerp, overweging, ...         153   \n",
       "21072  [exemplaar, weken, lengte, meter, bloemtrosjes...         147   \n",
       "\n",
       "       noun_perc  \n",
       "21061  19.318182  \n",
       "21072  20.000000  "
      ]
     },
     "execution_count": 10,
     "metadata": {},
     "output_type": "execute_result"
    }
   ],
   "source": [
    "fiets_nlp.head(2)"
   ]
  },
  {
   "cell_type": "markdown",
   "id": "55ba0fe1",
   "metadata": {},
   "source": [
    "Dezelfde stappen kun je ook voor andere woordcategoriën doen. Hieronder zie je twee voorbeelden:"
   ]
  },
  {
   "cell_type": "code",
   "execution_count": 11,
   "id": "051c1f8a",
   "metadata": {},
   "outputs": [],
   "source": [
    "fiets_nlp['adv'] = fiets_nlp['doc'].apply(lambda x: get_pos(x, 'ADV'))\n",
    "fiets_nlp['adv_count'] = fiets_nlp['adv'].apply(lambda x: len(x))\n",
    "fiets_nlp['adv_perc'] = (fiets_nlp['adv_count'] / fiets_nlp['length']) * 100"
   ]
  },
  {
   "cell_type": "code",
   "execution_count": 12,
   "id": "6a6915c9",
   "metadata": {},
   "outputs": [],
   "source": [
    "fiets_nlp['pron'] = fiets_nlp['doc'].apply(lambda x: get_pos(x, 'PRON'))\n",
    "fiets_nlp['pron_count'] = fiets_nlp['pron'].apply(lambda x: len(x))\n",
    "fiets_nlp['pron_perc'] = (fiets_nlp['pron_count'] / fiets_nlp['length']) * 100"
   ]
  },
  {
   "cell_type": "markdown",
   "id": "a79c7416",
   "metadata": {},
   "source": [
    "Nu je van meerdere woordsoorten het percentage per article hebt, kun je bekijken of er een verschil is in woordgebruik tussen regionale en landelijke kranten. \n",
    "\n",
    "We maken als eerst een variabele aan met daarin alle kolomnamen waarin we het percentage hebben berekend:"
   ]
  },
  {
   "cell_type": "code",
   "execution_count": 13,
   "id": "9022a3fb",
   "metadata": {},
   "outputs": [],
   "source": [
    "columns = ['noun_perc', 'adv_perc', 'pron_perc']"
   ]
  },
  {
   "cell_type": "markdown",
   "id": "ae0aa664",
   "metadata": {},
   "source": [
    "En vervolgens kun je met behulp van een `groupby` functie op deze kolommen kijken of er een verschil is in voorkomen tussen de regionale/lokale en de landelijke kranten"
   ]
  },
  {
   "cell_type": "code",
   "execution_count": 14,
   "id": "9c7324c0",
   "metadata": {},
   "outputs": [
    {
     "data": {
      "text/html": [
       "<div>\n",
       "<style scoped>\n",
       "    .dataframe tbody tr th:only-of-type {\n",
       "        vertical-align: middle;\n",
       "    }\n",
       "\n",
       "    .dataframe tbody tr th {\n",
       "        vertical-align: top;\n",
       "    }\n",
       "\n",
       "    .dataframe thead th {\n",
       "        text-align: right;\n",
       "    }\n",
       "</style>\n",
       "<table border=\"1\" class=\"dataframe\">\n",
       "  <thead>\n",
       "    <tr style=\"text-align: right;\">\n",
       "      <th></th>\n",
       "      <th>noun_perc</th>\n",
       "      <th>adv_perc</th>\n",
       "      <th>pron_perc</th>\n",
       "    </tr>\n",
       "    <tr>\n",
       "      <th>spatial</th>\n",
       "      <th></th>\n",
       "      <th></th>\n",
       "      <th></th>\n",
       "    </tr>\n",
       "  </thead>\n",
       "  <tbody>\n",
       "    <tr>\n",
       "      <th>Landelijk</th>\n",
       "      <td>21.059728</td>\n",
       "      <td>4.899793</td>\n",
       "      <td>5.438315</td>\n",
       "    </tr>\n",
       "    <tr>\n",
       "      <th>Regionaal/lokaal</th>\n",
       "      <td>20.247488</td>\n",
       "      <td>5.723735</td>\n",
       "      <td>6.324164</td>\n",
       "    </tr>\n",
       "  </tbody>\n",
       "</table>\n",
       "</div>"
      ],
      "text/plain": [
       "                  noun_perc  adv_perc  pron_perc\n",
       "spatial                                         \n",
       "Landelijk         21.059728  4.899793   5.438315\n",
       "Regionaal/lokaal  20.247488  5.723735   6.324164"
      ]
     },
     "execution_count": 14,
     "metadata": {},
     "output_type": "execute_result"
    }
   ],
   "source": [
    "fiets_nlp.groupby(['spatial'])[columns].mean()"
   ]
  },
  {
   "cell_type": "markdown",
   "id": "3dc92a37",
   "metadata": {},
   "source": [
    "In plaats van mean() kan je ook median() gebruiken om de mediaan te bekijken. "
   ]
  },
  {
   "cell_type": "code",
   "execution_count": 15,
   "id": "5b21ba4a",
   "metadata": {},
   "outputs": [
    {
     "data": {
      "text/html": [
       "<div>\n",
       "<style scoped>\n",
       "    .dataframe tbody tr th:only-of-type {\n",
       "        vertical-align: middle;\n",
       "    }\n",
       "\n",
       "    .dataframe tbody tr th {\n",
       "        vertical-align: top;\n",
       "    }\n",
       "\n",
       "    .dataframe thead th {\n",
       "        text-align: right;\n",
       "    }\n",
       "</style>\n",
       "<table border=\"1\" class=\"dataframe\">\n",
       "  <thead>\n",
       "    <tr style=\"text-align: right;\">\n",
       "      <th></th>\n",
       "      <th>noun_perc</th>\n",
       "      <th>adv_perc</th>\n",
       "      <th>pron_perc</th>\n",
       "    </tr>\n",
       "    <tr>\n",
       "      <th>spatial</th>\n",
       "      <th></th>\n",
       "      <th></th>\n",
       "      <th></th>\n",
       "    </tr>\n",
       "  </thead>\n",
       "  <tbody>\n",
       "    <tr>\n",
       "      <th>Landelijk</th>\n",
       "      <td>20.862051</td>\n",
       "      <td>4.673345</td>\n",
       "      <td>5.376499</td>\n",
       "    </tr>\n",
       "    <tr>\n",
       "      <th>Regionaal/lokaal</th>\n",
       "      <td>20.182292</td>\n",
       "      <td>5.596621</td>\n",
       "      <td>6.124498</td>\n",
       "    </tr>\n",
       "  </tbody>\n",
       "</table>\n",
       "</div>"
      ],
      "text/plain": [
       "                  noun_perc  adv_perc  pron_perc\n",
       "spatial                                         \n",
       "Landelijk         20.862051  4.673345   5.376499\n",
       "Regionaal/lokaal  20.182292  5.596621   6.124498"
      ]
     },
     "execution_count": 15,
     "metadata": {},
     "output_type": "execute_result"
    }
   ],
   "source": [
    "fiets_nlp.groupby(['spatial'])[columns].median()"
   ]
  },
  {
   "cell_type": "markdown",
   "id": "628951ab",
   "metadata": {},
   "source": [
    "Je kunt zelf andere woordsoorten toevoegen om de vergelijking uit te breiden."
   ]
  }
 ],
 "metadata": {
  "kernelspec": {
   "display_name": "Python 3 (ipykernel)",
   "language": "python",
   "name": "python3"
  },
  "language_info": {
   "codemirror_mode": {
    "name": "ipython",
    "version": 3
   },
   "file_extension": ".py",
   "mimetype": "text/x-python",
   "name": "python",
   "nbconvert_exporter": "python",
   "pygments_lexer": "ipython3",
   "version": "3.9.12"
  }
 },
 "nbformat": 4,
 "nbformat_minor": 5
}
